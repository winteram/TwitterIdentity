{
 "metadata": {
  "name": ""
 },
 "nbformat": 3,
 "nbformat_minor": 0,
 "worksheets": [
  {
   "cells": [
    {
     "cell_type": "code",
     "collapsed": false,
     "input": [
      "import pymysql\n",
      "import facebook\n",
      "from encrypt import *"
     ],
     "language": "python",
     "metadata": {},
     "outputs": [],
     "prompt_number": 1
    },
    {
     "cell_type": "code",
     "collapsed": false,
     "input": [
      "conn = pymysql.connect(host='smallsocialsystems.com', port=3306, user='groupid', passwd='letspublish', db='gidb')\n",
      "cur = conn.cursor()"
     ],
     "language": "python",
     "metadata": {},
     "outputs": [],
     "prompt_number": 2
    },
    {
     "cell_type": "code",
     "collapsed": false,
     "input": [
      "query = \"SELECT * FROM fbconnectionaccounts c JOIN fb_profile p ON c.Id=p.Id WHERE username='%s'\" % encode_salt('winteram')\n",
      "cur.execute(query)"
     ],
     "language": "python",
     "metadata": {},
     "outputs": [
      {
       "metadata": {},
       "output_type": "pyout",
       "prompt_number": 3,
       "text": [
        "1"
       ]
      }
     ],
     "prompt_number": 3
    },
    {
     "cell_type": "code",
     "collapsed": false,
     "input": [
      "res = cur.fetchall()\n",
      "print res"
     ],
     "language": "python",
     "metadata": {},
     "outputs": [
      {
       "output_type": "stream",
       "stream": "stdout",
       "text": [
        "(('6ba2c3ce2baed0be9202b1206c678058', 'OwsxdhAeKBwKCCIJIXADPTsjCQYKDwR+BSMeEj12CgMnRTgHPyACEx4nBmsQOmI0BD8MBkBzBh8ZDxEINSFBAHoXAyxrJBQSKnEQSCoiKzEiCEAFGDMdGQkHMQEBYQABAjgdDQl/NV1zGmEbIHwvEgF+JAo0JyczE3shCipCFjsDCjcQM10IOSUlCQc0EDN9DwECN2QONQECUTonZAQJBgIEGmgAADQTODIhLTZKKgIFOhgnFQk6fycgCBYpAi4fIHUYMxAAY3NBISp2', 'SnlABnpBZGJjcU14QgNwDDA0ZH0bfkVTekBrZ2F1SCsSBHEVNGJgIxouRwQmRmUw', datetime.datetime(2013, 12, 20, 15, 52, 43), None, None, '6ba2c3ce2baed0be9202b1206c678058', 'TnJCA3ZAZg==', 'DyMeRicCMzg=', 'LyMeRicCchgyNhck', None, '', '', 'en_US', 'Other', '', '', '', 'male'),)\n"
       ]
      }
     ],
     "prompt_number": 4
    },
    {
     "cell_type": "code",
     "collapsed": false,
     "input": [
      "userid = decode_salt(res[0][7])\n",
      "oauth_access_token = decode_salt(res[0][1])"
     ],
     "language": "python",
     "metadata": {},
     "outputs": [],
     "prompt_number": 5
    },
    {
     "cell_type": "code",
     "collapsed": false,
     "input": [
      "print oauth_access_token"
     ],
     "language": "python",
     "metadata": {},
     "outputs": [
      {
       "output_type": "stream",
       "stream": "stdout",
       "text": [
        "CAADRnzIYMZCQBAMivZCrEtLGSLGn3rIWwzwmuQVfmvYRJ0aWztL0ADoKZBMMk128gQy8alXZCR8xwxtZB07ZCOLZBIKqSBqPmNHq5Eo1j3Ns9WXqLfzfrtvk1Q8h2DnPOOZCoJIwpZBLZCOMqPb7KMKrcxW6QZCzNjZBpfFkwYgFxhrWoKbmCJMePZCzGVUPGZCBU069kZD\n"
       ]
      }
     ],
     "prompt_number": 6
    },
    {
     "cell_type": "code",
     "collapsed": false,
     "input": [
      "graph = facebook.GraphAPI(oauth_access_token)"
     ],
     "language": "python",
     "metadata": {},
     "outputs": [],
     "prompt_number": 7
    },
    {
     "cell_type": "code",
     "collapsed": false,
     "input": [
      "profile = graph.get_object(userid)"
     ],
     "language": "python",
     "metadata": {},
     "outputs": [],
     "prompt_number": 8
    },
    {
     "cell_type": "code",
     "collapsed": false,
     "input": [
      "print profile"
     ],
     "language": "python",
     "metadata": {},
     "outputs": [
      {
       "output_type": "stream",
       "stream": "stdout",
       "text": [
        "{u'username': u'winteram', u'first_name': u'Winter', u'last_name': u'Mason', u'verified': True, u'name': u'Winter Mason', u'locale': u'en_US', u'hometown': {u'id': u'110184922344060', u'name': u'Washington, District of Columbia'}, u'political': u'Other', u'updated_time': u'2013-12-19T20:26:47+0000', u'quotes': u'Keep me away from the wisdom which does not cry, the philosophy which does not laugh and the greatness which does not bow before children. - Kahlil Gibran\\r\\n\\r\\nWe can never be sure that the opinion we are endeavoring to stifle is a false opinion; and if we were sure, stifling it would be an evil still. - John Stuart Mill, \"Of the Liberty of Thought and Discussion\"', u'link': u'https://www.facebook.com/winteram', u'location': {u'id': u'112111905481230', u'name': u'Brooklyn, New York'}, u'gender': u'male', u'timezone': -5, u'id': u'6821404'}\n"
       ]
      }
     ],
     "prompt_number": 9
    },
    {
     "cell_type": "code",
     "collapsed": false,
     "input": [
      "friends = graph.get_connections(userid, \"friends\")"
     ],
     "language": "python",
     "metadata": {},
     "outputs": [],
     "prompt_number": 10
    },
    {
     "cell_type": "code",
     "collapsed": false,
     "input": [
      "print len(friends['data'])"
     ],
     "language": "python",
     "metadata": {},
     "outputs": [
      {
       "output_type": "stream",
       "stream": "stdout",
       "text": [
        "628\n"
       ]
      }
     ],
     "prompt_number": 11
    },
    {
     "cell_type": "code",
     "collapsed": false,
     "input": [
      "likes = graph.get_connections(userid, \"likes\")"
     ],
     "language": "python",
     "metadata": {},
     "outputs": [],
     "prompt_number": 12
    },
    {
     "cell_type": "code",
     "collapsed": false,
     "input": [
      "print likes"
     ],
     "language": "python",
     "metadata": {},
     "outputs": [
      {
       "output_type": "stream",
       "stream": "stdout",
       "text": [
        "{u'paging': {u'cursors': {u'after': u'MjUyODM4MjYxNDMwMDE0', u'before': u'MTQ2MTI5MTM4ODIzNzY5'}, u'next': u'https://graph.facebook.com/6821404/likes?access_token=CAADRnzIYMZCQBAMivZCrEtLGSLGn3rIWwzwmuQVfmvYRJ0aWztL0ADoKZBMMk128gQy8alXZCR8xwxtZB07ZCOLZBIKqSBqPmNHq5Eo1j3Ns9WXqLfzfrtvk1Q8h2DnPOOZCoJIwpZBLZCOMqPb7KMKrcxW6QZCzNjZBpfFkwYgFxhrWoKbmCJMePZCzGVUPGZCBU069kZD&limit=25&after=MjUyODM4MjYxNDMwMDE0'}, u'data': [{u'category': u'Attractions/things to do', u'created_time': u'2013-12-11T21:47:18+0000', u'name': u'Hoosier Heights Indianapolis', u'category_list': [{u'id': u'174921992560086', u'name': u'Rock Climbing'}], u'id': u'146129138823769'}, {u'category': u'Public figure', u'created_time': u'2013-12-06T03:14:22+0000', u'name': u'Stuff Richard Stallman Says', u'id': u'395389610591123'}, {u'category': u'Local business', u'created_time': u'2013-11-30T06:31:07+0000', u'name': u'The Bee Folks', u'category_list': [{u'id': u'2500', u'name': u'Local Business'}], u'id': u'186265526331'}, {u'category': u'Artist', u'created_time': u'2013-11-11T22:09:37+0000', u'name': u'Cyanide & Happiness', u'id': u'67400590475'}, {u'category': u'Musician/band', u'created_time': u'2013-11-06T01:14:31+0000', u'name': u'Skypunch', u'id': u'244631425692948'}, {u'category': u'Musician/band', u'created_time': u'2013-10-29T13:30:15+0000', u'name': u'Chali 2na', u'id': u'7981499998'}, {u'category': u'Musician/band', u'created_time': u'2013-10-28T16:25:44+0000', u'name': u'Solillaquists of Sound', u'id': u'7466900142'}, {u'category': u'Musician/band', u'created_time': u'2013-10-28T16:24:35+0000', u'name': u'Aceyalone', u'id': u'145458892152497'}, {u'category': u'Entertainment website', u'created_time': u'2013-10-14T00:46:15+0000', u'name': u'xkcd', u'id': u'11606846690'}, {u'category': u'Entertainment website', u'created_time': u'2013-10-14T00:46:04+0000', u'name': u'SMBC Comics', u'id': u'244830742251856'}, {u'category': u'Entertainment website', u'created_time': u'2013-10-14T00:46:03+0000', u'name': u'The Oatmeal', u'id': u'220779885077'}, {u'category': u'Musician/band', u'created_time': u'2013-10-13T23:15:43+0000', u'name': u'Abstract Rude', u'id': u'7502543775'}, {u'category': u'Musician/band', u'created_time': u'2013-10-13T23:15:26+0000', u'name': u'Myka 9', u'id': u'144698115598017'}, {u'category': u'Musician/band', u'created_time': u'2013-10-13T23:15:20+0000', u'name': u\"Haiku d'etat\", u'id': u'245936522121352'}, {u'category': u'Internet/software', u'created_time': u'2013-10-07T21:41:19+0000', u'name': u'Women Who Code', u'id': u'305330336163266'}, {u'category': u'Internet/software', u'created_time': u'2013-09-30T15:35:48+0000', u'name': u'Facebook Washington DC', u'category_list': [{u'id': u'152142351517013', u'name': u'Corporate Office'}], u'id': u'183477870817'}, {u'category': u'Restaurant/cafe', u'created_time': u'2013-09-08T14:32:21+0000', u'name': u'Fort Reno', u'category_list': [{u'id': u'150534008338515', u'name': u'Barbecue Restaurant'}, {u'id': u'110290705711626', u'name': u'Bar'}], u'id': u'265014063554367'}, {u'category': u'Book', u'created_time': u'2013-09-05T01:31:58+0000', u'name': u'NYC Basic Tips and Etiquette', u'id': u'140030676196145'}, {u'category': u'Movie', u'created_time': u'2013-08-07T05:15:43+0000', u'name': u\"King's Gambit\", u'id': u'394578237278376'}, {u'category': u'Spas/beauty/personal care', u'created_time': u'2013-08-02T16:35:16+0000', u'name': u'Erica Joy, LLC', u'category_list': [{u'id': u'109578329118821', u'name': u'Massage'}], u'id': u'394435773946196'}, {u'category': u'Musician/band', u'created_time': u'2013-07-11T18:01:50+0000', u'name': u'Daft Punk', u'id': u'22476490672'}, {u'category': u'Computers/technology', u'created_time': u'2013-06-11T20:01:18+0000', u'name': u'Facebook Engineering NYC', u'id': u'248745975186413'}, {u'category': u'Non-profit organization', u'created_time': u'2013-05-29T20:18:45+0000', u'name': u'Cancer Research UK', u'category_list': [{u'id': u'226326230802065', u'name': u'Charity Organization'}], u'id': u'7950759473'}, {u'category': u'Personal blog', u'created_time': u'2013-02-12T13:29:28+0000', u'name': u'conversationswithhank.com', u'id': u'153680984786782'}, {u'category': u'Organization', u'created_time': u'2013-01-28T15:30:25+0000', u'name': u'Open Science Framework', u'category_list': [{u'id': u'198503866828628', u'name': u'Organization'}], u'id': u'252838261430014'}]}\n"
       ]
      }
     ],
     "prompt_number": 13
    },
    {
     "cell_type": "code",
     "collapsed": false,
     "input": [],
     "language": "python",
     "metadata": {},
     "outputs": []
    }
   ],
   "metadata": {}
  }
 ]
}