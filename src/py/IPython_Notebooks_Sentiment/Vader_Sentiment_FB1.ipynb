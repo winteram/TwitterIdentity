{
 "metadata": {
  "name": "",
  "signature": "sha256:ab1b7b994806c76c41955c8fd4fa6c1dbea80b49e1e1736ce0e40cf0c59f5144"
 },
 "nbformat": 3,
 "nbformat_minor": 0,
 "worksheets": [
  {
   "cells": [
    {
     "cell_type": "code",
     "collapsed": false,
     "input": [
      "import sys, os\n",
      "import pandas as pd\n",
      "import cPickle as pickle\n",
      "import re\n",
      "import numpy as np\n",
      "\n",
      "import matplotlib as plt\n",
      "import scipy.stats\n",
      "\n",
      "\n",
      "from collections import defaultdict \n",
      "%matplotlib "
     ],
     "language": "python",
     "metadata": {},
     "outputs": [
      {
       "output_type": "stream",
       "stream": "stdout",
       "text": [
        "Using matplotlib backend: Qt4Agg\n"
       ]
      }
     ],
     "prompt_number": 56
    },
    {
     "cell_type": "code",
     "collapsed": false,
     "input": [
      "os.chdir('C:/Users/Asaf/Documents/GitHub/TwitterIdentity/src/py')"
     ],
     "language": "python",
     "metadata": {},
     "outputs": [],
     "prompt_number": 2
    },
    {
     "cell_type": "code",
     "collapsed": false,
     "input": [
      "survey=pd.read_pickle('DataFrames/SurveySentiment')\n",
      "\n",
      "traits=pd.read_pickle('DataFrames/traits')\n",
      "\n",
      "aspects=pd.read_pickle('DataFrames/aspects')"
     ],
     "language": "python",
     "metadata": {},
     "outputs": [],
     "prompt_number": 34
    },
    {
     "cell_type": "code",
     "collapsed": false,
     "input": [
      "def p_corr(df1, df2):\n",
      "    \"\"\"\n",
      "    Computes Pearson correlation and its significance (using a t\n",
      "    distribution) on a pandas.DataFrame.\n",
      " \n",
      "    Ignores null values when computing significance. Based on\n",
      "    http://en.wikipedia.org/wiki/Pearson_product-moment_correlation_coefficient#Testing_using_Student.27s_t-distribution\n",
      " \n",
      "    Args:\n",
      "        df1 (pandas.DataFrame): one dataset\n",
      "        df2 (pandas.DataFrame): another dataset\n",
      " \n",
      "    Returns:\n",
      "        corr (float): correlation between the two datasets\n",
      "        t (float): an associated t-value\n",
      "        p (float): one-tailed p-value that the two datasets differ\n",
      "    \"\"\"\n",
      "    corr=scipy.stats.pearsonr(df1,df2)\n",
      "    N = np.sum(df1)\n",
      "    t = corr[0]*np.sqrt((N-2)/(1-corr[0]**2))\n",
      "    p = 1-scipy.stats.t.cdf(abs(t),N-2)  # one-tailed\n",
      "    return corr[0], t, p   "
     ],
     "language": "python",
     "metadata": {},
     "outputs": [],
     "prompt_number": 23
    },
    {
     "cell_type": "code",
     "collapsed": false,
     "input": [
      "def Pair_Cor(DataFrame,pair_list):\n",
      "    \n",
      "    for pair in pair_list:\n",
      "        intermed=DataFrame[DataFrame[pair[0]].notnull() & DataFrame[pair[1]].notnull()]#Make a new frame that doesn't have null values\n",
      "        one=intermed[pair[0]].as_matrix()\n",
      "        two=intermed[pair[1]].as_matrix()\n",
      "        N=len(two) #Get number of observations\n",
      "        stats=p_corr(one,two)\n",
      "        print 'The correlation between %s and %s is %s , the t statistic is %s and the p-value is %s, and the N is %s' %(pair[0], pair[1],stats[0],stats[1],stats[2],N)"
     ],
     "language": "python",
     "metadata": {},
     "outputs": [],
     "prompt_number": 24
    },
    {
     "cell_type": "code",
     "collapsed": false,
     "input": [
      "survey['fear']"
     ],
     "language": "python",
     "metadata": {},
     "outputs": [
      {
       "metadata": {},
       "output_type": "pyout",
       "prompt_number": 5,
       "text": [
        "0     10\n",
        "1      9\n",
        "2      5\n",
        "3    NaN\n",
        "4      5\n",
        "5     16\n",
        "6      5\n",
        "7      9\n",
        "8      8\n",
        "9      5\n",
        "10     6\n",
        "11    10\n",
        "12    10\n",
        "13     6\n",
        "14     7\n",
        "...\n",
        "800    14\n",
        "801    10\n",
        "802   NaN\n",
        "803     8\n",
        "804     8\n",
        "805     9\n",
        "806     7\n",
        "807     9\n",
        "808    15\n",
        "809   NaN\n",
        "810     9\n",
        "811     4\n",
        "812     6\n",
        "813     9\n",
        "814    10\n",
        "Name: fear, Length: 815, dtype: float64"
       ]
      }
     ],
     "prompt_number": 5
    },
    {
     "cell_type": "code",
     "collapsed": false,
     "input": [
      "z=list(survey.keys())"
     ],
     "language": "python",
     "metadata": {},
     "outputs": [],
     "prompt_number": 6
    },
    {
     "cell_type": "code",
     "collapsed": false,
     "input": [],
     "language": "python",
     "metadata": {},
     "outputs": [],
     "prompt_number": 0
    },
    {
     "cell_type": "code",
     "collapsed": false,
     "input": [
      " \n",
      "\n",
      "\n",
      "\n",
      "\n",
      "    \n",
      "tw_cor= ['tw_vader_pos',\n",
      " 'tw_vader_neg',\n",
      " 'tw_vad_neutral',\n",
      " 'tw_vad_comp',\n",
      "\n",
      " 'tw_vader_pos_mdn',\n",
      " 'tw_vader_neg_mdn',\n",
      " 'tw_vad_neu_mdn',\n",
      " 'tw_vad_comp_mdn',\n",
      "'tw_vader_pos_sd',\n",
      " 'tw_vader_neg_sd',\n",
      " 'tw_vad_neu_sd',\n",
      " 'tw_vad_comp_sd',\n",
      " 'tw_vader_pos25',\n",
      " 'tw_vader_neg25',\n",
      " 'tw_vad_neu25',\n",
      " 'tw_vad_comp25',\n",
      " 'tw_vader_pos75',\n",
      " 'tw_vader_neg75',\n",
      " 'tw_vad_neu75',\n",
      " 'tw_vad_comp75',\n",
      "  'tweet_num'\n",
      "\n",
      "]\n",
      "\n",
      "fb_cor=[ 'fb_vader_pos',\n",
      " 'fb_vader_neg',\n",
      " 'fb_vad_neu',\n",
      " 'fb_vad_comp',\n",
      " 'fb_vader_pos_mdn',\n",
      " 'fb_vader_neg_mdn',\n",
      " 'fb_vad_neu_mdn',\n",
      " 'fb_vad_comp_mdn',\n",
      "  'fb_vader_pos_sd',\n",
      " 'fb_vader_neg_sd',\n",
      " 'fb_vad_neu_sd',\n",
      " 'fb_vad_comp_sd',\n",
      "\n",
      " \n",
      " 'fb_vader_pos25',\n",
      " 'fb_vader_neg25',\n",
      " 'fb_vad_neu25',\n",
      " 'fb_vad_comp25',\n",
      " \n",
      " \n",
      "'fb_vader_pos75',\n",
      " 'fb_vader_neg75',\n",
      " 'fb_vad_neu75',\n",
      " 'fb_vad_comp75',\n",
      " 'status_num'\n",
      "]\n",
      "\n"
     ],
     "language": "python",
     "metadata": {},
     "outputs": [],
     "prompt_number": 6
    },
    {
     "cell_type": "code",
     "collapsed": false,
     "input": [
      "print tw_cor[17], fb_cor[17]"
     ],
     "language": "python",
     "metadata": {},
     "outputs": [
      {
       "output_type": "stream",
       "stream": "stdout",
       "text": [
        "tw_vader_neg75 fb_vader_neg75\n"
       ]
      }
     ],
     "prompt_number": 10
    },
    {
     "cell_type": "code",
     "collapsed": false,
     "input": [
      "comp_list=[]\n",
      "for i in range(len(tw_cor)):\n",
      "    comp_list.append((tw_cor[i],fb_cor[i]))\n",
      "    "
     ],
     "language": "python",
     "metadata": {},
     "outputs": [],
     "prompt_number": 10
    },
    {
     "cell_type": "code",
     "collapsed": false,
     "input": [
      "Pair_Cor(survey,comp_list)"
     ],
     "language": "python",
     "metadata": {},
     "outputs": [
      {
       "output_type": "stream",
       "stream": "stdout",
       "text": [
        "The correlation between tw_vader_pos and fb_vader_pos is 0.251517770537 , the t statistic is 1.6716747492 and the p-value is 0.0510675945825, and the N is 313\n",
        "The correlation between tw_vader_neg and fb_vader_neg is 0.378034632581 , the t statistic is 1.8061615665 and the p-value is 0.0431509234108, and the N is 313\n",
        "The correlation between tw_vad_neutral and fb_vad_neu is 0.235801900086 , the t statistic is 3.80567480999 and the p-value is 8.92726159984e-05, and the N is 313\n",
        "The correlation between tw_vad_comp and fb_vad_comp is 0.382468399797 , the t statistic is 2.48303261333 and the p-value is 0.00891247851477, and the N is 313\n",
        "The correlation between tw_vader_pos_mdn and fb_vader_pos_mdn is 0.229999146732 , the t statistic is 0.645177493399 and the p-value is 0.269080753033, and the N is 313\n",
        "The correlation between tw_vader_neg_mdn and fb_vader_neg_mdn is -0.00705141577695 , the t statistic is nan and the p-value is nan, and the N is 313\n",
        "The correlation between tw_vad_neu_mdn and fb_vad_neu_mdn is 0.330628142631 , the t statistic is 5.60079490438 and the p-value is 2.75153058116e-08, and the N is 313\n",
        "The correlation between tw_vad_comp_mdn and fb_vad_comp_mdn is 0.291867280647 , the t statistic is 0.815381087914 and the p-value is 0.220601178185, and the N is 313\n",
        "The correlation between tw_vader_pos_sd and fb_vader_pos_sd is 0.2557091299 , the t statistic is 1.96336243525 and the p-value is 0.0273294956104, and the N is 313\n",
        "The correlation between tw_vader_neg_sd and fb_vader_neg_sd is 0.330665702454 , the t statistic is 2.20887416722 and the p-value is 0.0165063180177, and the N is 313\n",
        "The correlation between tw_vad_neu_sd and fb_vad_neu_sd is 0.278934730176 , the t statistic is 2.30417615122 and the p-value is 0.0122629917161, and the N is 313\n",
        "The correlation between tw_vad_comp_sd and fb_vad_comp_sd is 0.166857254386 , the t statistic is 1.84798927742 and the p-value is 0.033540883089, and the N is 313\n",
        "The correlation between tw_vader_pos25 and fb_vader_pos25 is -0.0156165552215 , the t statistic is nan and the p-value is nan, and the N is 313\n",
        "The correlation between tw_vader_neg25 and fb_vader_neg25 is nan , the t statistic is nan and the p-value is nan, and the N is 313\n",
        "The correlation between tw_vad_neu25 and fb_vad_neu25 is 0.264651359878 , the t statistic is 3.88734422805 and the p-value is 6.88486019483e-05, and the N is 313\n",
        "The correlation between tw_vad_comp25 and fb_vad_comp25 is 0.0831551364351 , the t statistic is nan and the p-value is nan, and the N is 313\n",
        "The correlation between tw_vader_pos75 and fb_vader_pos75 is 0.299767937015 , the t statistic is 2.74017327823 and the p-value is 0.00382410972892, and the N is 313\n",
        "The correlation between tw_vader_neg75 and fb_vader_neg75 is 0.492082300731 , the t statistic is 2.70837840868 and the p-value is 0.00627506412063, and the N is 313\n",
        "The correlation between tw_vad_neu75 and fb_vad_neu75 is 0.0835288273928 , the t statistic is 1.4756670432 and the p-value is 0.070524245022, and the N is 313\n",
        "The correlation between tw_vad_comp75 and fb_vad_comp75 is 0.368913508135 , the t statistic is 4.55994130712 and the p-value is 5.77251605949e-06, and the N is 313\n",
        "The correlation between tweet_num and status_num is 0.274437514206 , the t statistic is 213.762020861 and the p-value is 0.0, and the N is 314\n"
       ]
      }
     ],
     "prompt_number": 25
    },
    {
     "cell_type": "code",
     "collapsed": false,
     "input": [
      "from encrypt import decode_salt\n",
      "\n",
      "from vaderSentiment import sentiment as vaderSentiment"
     ],
     "language": "python",
     "metadata": {},
     "outputs": [],
     "prompt_number": 3
    },
    {
     "cell_type": "code",
     "collapsed": false,
     "input": [
      "k=['tw_vader_pos',\n",
      " 'tw_vader_neg',\n",
      " 'tw_vad_neutral',\n",
      " 'tw_vad_comp',\n",
      " 'fb_vader_pos_mdn',\n",
      " 'fb_vader_neg_mdn',\n",
      " 'fb_vad_neu_mdn',\n",
      " 'fb_vad_comp_mdn',\n",
      " 'tw_vader_pos_mdn',\n",
      " 'tw_vader_neg_mdn',\n",
      " 'tw_vad_neu_mdn',\n",
      " 'tw_vad_comp_mdn',\n",
      " 'tw_vader_pos_sd',\n",
      " 'tw_vader_neg_sd',\n",
      " 'tw_vad_neu_sd',\n",
      " 'tw_vad_comp_sd',\n",
      " 'fb_vader_pos_sd',\n",
      " 'fb_vader_neg_sd',\n",
      " 'fb_vad_neu_sd',\n",
      " 'fb_vad_comp_sd',\n",
      " 'fb_vader_pos25',\n",
      " 'fb_vader_neg25',\n",
      " 'fb_vad_neu25',\n",
      " 'fb_vad_comp25',\n",
      " 'fb_vader_pos75',\n",
      " 'fb_vader_neg75',\n",
      " 'fb_vad_neu75',\n",
      " 'fb_vad_comp75',\n",
      " 'tw_vader_pos25',\n",
      " 'tw_vader_neg25',\n",
      " 'tw_vad_neu25',\n",
      " 'tw_vad_comp25',\n",
      " 'tw_vader_pos75',\n",
      " 'tw_vader_neg75',\n",
      " 'tw_vad_neu75',\n",
      " 'tw_vad_comp75',\n",
      " 'status_num',\n",
      " 'tweet_num']"
     ],
     "language": "python",
     "metadata": {},
     "outputs": [],
     "prompt_number": 27
    },
    {
     "cell_type": "code",
     "collapsed": false,
     "input": [
      "'''w=[ 'PANAS_Pos',\n",
      " 'PANAS_Neg',\n",
      " 'tot_affect',]\n",
      "'''\n",
      "\n",
      "w=[\n",
      " 'joviality_1',\n",
      " 'joviality',\n",
      " 'guilt',\n",
      " 'hostilitity',\n",
      " 'self_assurance',\n",
      " 'hostility_1',\n",
      " 'fatigue',\n",
      " 'fear',\n",
      " 'attentiveness'\n",
      "]\n",
      "\n",
      "\n",
      "#Make list to go into function\n",
      "\n",
      "pair_list_corr=[]\n",
      "\n",
      "for i in k:\n",
      "    for j in w:\n",
      "        pair=(i,j)\n",
      "        pair_list_corr.append(pair)\n"
     ],
     "language": "python",
     "metadata": {},
     "outputs": [],
     "prompt_number": 28
    },
    {
     "cell_type": "code",
     "collapsed": false,
     "input": [
      "\n"
     ],
     "language": "python",
     "metadata": {},
     "outputs": [],
     "prompt_number": 0
    },
    {
     "cell_type": "code",
     "collapsed": false,
     "input": [
      "feel_twitter=survey[survey.tw_feel > 4]\n",
      "feel_facebook=survey[survey.fb_feel > 4]\n",
      "\n",
      "Pair_Cor(feel_twitter, pair_list_corr)"
     ],
     "language": "python",
     "metadata": {},
     "outputs": [
      {
       "output_type": "stream",
       "stream": "stdout",
       "text": [
        "The correlation between tw_vader_pos and joviality_1 is 0.00426152032502 , the t statistic is 0.0229060377122 and the p-value is 0.490941350511, and the N is 223\n",
        "The correlation between tw_vader_pos and joviality is -0.0489807017156 , the t statistic is -0.263589467217 and the p-value is 0.396983629225, and the N is 223\n",
        "The correlation between tw_vader_pos and guilt is -0.0263406979885 , the t statistic is -0.141631370857 and the p-value is 0.4441770973, and the N is 223\n",
        "The correlation between tw_vader_pos and hostilitity is -0.0822414257187 , the t statistic is -0.443553276905 and the p-value is 0.330334841643, and the N is 223\n",
        "The correlation between tw_vader_pos and self_assurance is 0.112809480505 , the t statistic is 0.610250590574 and the p-value is 0.273233271609, and the N is 223\n",
        "The correlation between tw_vader_pos and hostility_1 is -0.0600381131591 , the t statistic is -0.323290271826 and the p-value is 0.374401939609, and the N is 223\n",
        "The correlation between tw_vader_pos and fatigue is 0.0464681550076 , the t statistic is 0.250038153957 and the p-value is 0.402163638902, and the N is 223\n",
        "The correlation between tw_vader_pos and fear is -0.0419561001961 , the t statistic is -0.225714345437 and the p-value is 0.411506369362, and the N is 223\n",
        "The correlation between tw_vader_pos and attentiveness is 0.0848586052196 , the t statistic is 0.457769321103 and the p-value is 0.325271233207, and the N is 223\n",
        "The correlation between tw_vader_neg and joviality_1 is -0.253548941512 , the t statistic is -0.97960803533 and the p-value is 0.171971641499, and the N is 223\n",
        "The correlation between tw_vader_neg and joviality is -0.248075593919 , the t statistic is -0.95705821859 and the p-value is 0.177405508815, and the N is 223\n",
        "The correlation between tw_vader_neg and guilt is 0.1366198129 , the t statistic is 0.515426673148 and the p-value is 0.307157814642, and the N is 223\n",
        "The correlation between tw_vader_neg and hostilitity is 0.124623236024 , the t statistic is 0.469418113842 and the p-value is 0.323007259966, and the N is 223\n",
        "The correlation between tw_vader_neg and self_assurance is -0.115639817382 , the t statistic is -0.435103580536 and the p-value is 0.335067460939, and the N is 223\n",
        "The correlation between tw_vader_neg and hostility_1 is 0.121000687595 , the t statistic is 0.455567238043 and the p-value is 0.32785146114, and the N is 223\n",
        "The correlation between tw_vader_neg and fatigue is 0.134509787709 , the t statistic is 0.507318309549 and the p-value is 0.309923409696, and the N is 223\n",
        "The correlation between tw_vader_neg and fear is -0.0356979608071 , the t statistic is -0.133500274462 and the p-value is 0.447851056279, and the N is 223\n",
        "The correlation between tw_vader_neg and attentiveness is -0.196930946915 , the t statistic is -0.750697257644 and the p-value is 0.232647219881, and the N is 223\n",
        "The correlation between tw_vad_neutral and joviality_1 is 0.121576921098 , the t statistic is 1.61628043886 and the p-value is 0.0539220042184, and the N is 223\n",
        "The correlation between tw_vad_neutral and joviality is 0.164884790204 , the t statistic is 2.20596129809 and the p-value is 0.0143478432069, and the N is 223\n",
        "The correlation between tw_vad_neutral and guilt is -0.0444236338664 , the t statistic is -0.586779607971 and the p-value is 0.279055857814, and the N is 223\n",
        "The correlation between tw_vad_neutral and hostilitity is 0.00935493331236 , the t statistic is 0.123450165723 and the p-value is 0.450946507301, and the N is 223\n",
        "The correlation between tw_vad_neutral and self_assurance is -0.0405255684106 , the t statistic is -0.535202348755 and the p-value is 0.296596394752, and the N is 223\n",
        "The correlation between tw_vad_neutral and hostility_1 is -0.00820294081901 , the t statistic is -0.108247074322 and the p-value is 0.456962168333, and the N is 223\n",
        "The correlation between tw_vad_neutral and fatigue is -0.106159410301 , the t statistic is -1.40880725364 and the p-value is 0.0803376813447, and the N is 223\n",
        "The correlation between tw_vad_neutral and fear is 0.0538647023632 , the t statistic is 0.711815088272 and the p-value is 0.238765932363, and the N is 223\n",
        "The correlation between tw_vad_neutral and attentiveness is 0.023144881038 , the t statistic is 0.305494421102 and the p-value is 0.380177256063, and the N is 223"
       ]
      },
      {
       "output_type": "stream",
       "stream": "stdout",
       "text": [
        "\n",
        "The correlation between tw_vad_comp and joviality_1 is 0.143335962196 , the t statistic is 0.711345842949 and the p-value is 0.241846168157, and the N is 223\n",
        "The correlation between tw_vad_comp and joviality is 0.096626185094 , the t statistic is 0.476814671651 and the p-value is 0.31889256665, and the N is 223\n",
        "The correlation between tw_vad_comp and guilt is -0.0754819563497 , the t statistic is -0.371793437056 and the p-value is 0.356646269925, and the N is 223\n",
        "The correlation between tw_vad_comp and hostilitity is -0.121843046201 , the t statistic is -0.602929394419 and the p-value is 0.276091225504, and the N is 223\n",
        "The correlation between tw_vad_comp and self_assurance is 0.116826488912 , the t statistic is 0.577754432247 and the p-value is 0.28439207176, and the N is 223\n",
        "The correlation between tw_vad_comp and hostility_1 is -0.0976355884828 , the t statistic is -0.481843395553 and the p-value is 0.317129962618, and the N is 223\n",
        "The correlation between tw_vad_comp and fatigue is -0.0101525078216 , the t statistic is -0.049867035112 and the p-value is 0.480319474408, and the N is 223\n",
        "The correlation between tw_vad_comp and fear is -0.00582246779268 , the t statistic is -0.028597777848 and the p-value is 0.488710331111, and the N is 223\n",
        "The correlation between tw_vad_comp and attentiveness is 0.154237589132 , the t statistic is 0.766719066648 and the p-value is 0.225343665238, and the N is 223\n",
        "The correlation between fb_vader_pos_mdn and joviality_1 is 0.0451879922732 , the t statistic is 0.188719333272 and the p-value is 0.426247854602, and the N is 158\n",
        "The correlation between fb_vader_pos_mdn and joviality is 0.0684778915145 , the t statistic is 0.28636538175 and the p-value is 0.388989404044, and the N is 158\n",
        "The correlation between fb_vader_pos_mdn and guilt is 0.171798887176 , the t statistic is 0.727571016997 and the p-value is 0.238274920888, and the N is 158\n",
        "The correlation between fb_vader_pos_mdn and hostilitity is -0.0402899774336 , the t statistic is -0.168228391085 and the p-value is 0.434171454007, and the N is 158\n",
        "The correlation between fb_vader_pos_mdn and self_assurance is -0.0109098245936 , the t statistic is -0.0455190411395 and the p-value is 0.482105881298, and the N is 158\n",
        "The correlation between fb_vader_pos_mdn and hostility_1 is -0.00974217980423 , the t statistic is -0.0406467887888 and the p-value is 0.484020044238, and the N is 158\n",
        "The correlation between fb_vader_pos_mdn and fatigue is -0.0189230042057 , the t statistic is -0.0789618555692 and the p-value is 0.468981831745, and the N is 158\n",
        "The correlation between fb_vader_pos_mdn and fear is 0.119105265294 , the t statistic is 0.500475674778 and the p-value is 0.311504542246, and the N is 158\n",
        "The correlation between fb_vader_pos_mdn and attentiveness is -0.0125703130856 , the t statistic is -0.0524481167972 and the p-value is 0.4793844383, and the N is 158\n",
        "The correlation between fb_vader_neg_mdn and joviality_1 is -0.0579864086064 , the t statistic is nan and the p-value is nan, and the N is 158\n",
        "The correlation between fb_vader_neg_mdn and joviality is -0.0151157535917 , the t statistic is nan and the p-value is nan, and the N is 158\n",
        "The correlation between fb_vader_neg_mdn and guilt is 0.142112307045 , the t statistic is nan and the p-value is nan, and the N is 158\n",
        "The correlation between fb_vader_neg_mdn and hostilitity is 0.135323223039 , the t statistic is nan and the p-value is nan, and the N is 158\n",
        "The correlation between fb_vader_neg_mdn and self_assurance is -0.0169328631475 , the t statistic is nan and the p-value is nan, and the N is 158\n",
        "The correlation between fb_vader_neg_mdn and hostility_1 is 0.0662614427193 , the t statistic is nan and the p-value is nan, and the N is 158\n",
        "The correlation between fb_vader_neg_mdn and fatigue is 0.0288990037456 , the t statistic is nan and the p-value is nan, and the N is 158\n",
        "The correlation between fb_vader_neg_mdn and fear is 0.154260581643 , the t statistic is nan and the p-value is nan, and the N is 158\n",
        "The correlation between fb_vader_neg_mdn and attentiveness is -0.0552157811225 , the t statistic is nan and the p-value is nan, and the N is 158"
       ]
      },
      {
       "output_type": "stream",
       "stream": "stdout",
       "text": [
        "\n",
        "The correlation between fb_vad_neu_mdn and joviality_1 is 0.000638316502394 , the t statistic is 0.00695852965548 and the p-value is 0.497229804541, and the N is 158\n",
        "The correlation between fb_vad_neu_mdn and joviality is -0.0519771112285 , the t statistic is -0.567388989112 and the p-value is 0.285760099794, and the N is 158\n",
        "The correlation between fb_vad_neu_mdn and guilt is -0.214070685459 , the t statistic is -2.38904753403 and the p-value is 0.00923289211382, and the N is 158\n",
        "The correlation between fb_vad_neu_mdn and hostilitity is -0.0624543362826 , the t statistic is -0.682169923205 and the p-value is 0.248229481708, and the N is 158\n",
        "The correlation between fb_vad_neu_mdn and self_assurance is 0.0726662568921 , the t statistic is 0.794261973291 and the p-value is 0.214313076865, and the N is 158\n",
        "The correlation between fb_vad_neu_mdn and hostility_1 is -0.083528295183 , the t statistic is -0.913766600846 and the p-value is 0.181344836038, and the N is 158\n",
        "The correlation between fb_vad_neu_mdn and fatigue is 0.0446650943061 , the t statistic is 0.487397404257 and the p-value is 0.313437305718, and the N is 158\n",
        "The correlation between fb_vad_neu_mdn and fear is -0.124998601444 , the t statistic is -1.37342867524 and the p-value is 0.0861023232848, and the N is 158\n",
        "The correlation between fb_vad_neu_mdn and attentiveness is 0.0988800890405 , the t statistic is 1.08323759748 and the p-value is 0.140447944001, and the N is 158\n",
        "The correlation between fb_vad_comp_mdn and joviality_1 is 0.107944628479 , the t statistic is 0.546787509698 and the p-value is 0.294652068476, and the N is 158\n",
        "The correlation between fb_vad_comp_mdn and joviality is 0.11828613187 , the t statistic is 0.599882245526 and the p-value is 0.276953793839, and the N is 158\n",
        "The correlation between fb_vad_comp_mdn and guilt is 0.126124160344 , the t statistic is 0.640254688852 and the p-value is 0.263875030125, and the N is 158\n",
        "The correlation between fb_vad_comp_mdn and hostilitity is -0.077287912212 , the t statistic is -0.390377754225 and the p-value is 0.349758576182, and the N is 158\n",
        "The correlation between fb_vad_comp_mdn and self_assurance is 0.0517226473341 , the t statistic is 0.260816418582 and the p-value is 0.398170196535, and the N is 158\n",
        "The correlation between fb_vad_comp_mdn and hostility_1 is -0.0666268070555 , the t statistic is -0.336269575879 and the p-value is 0.369717111193, and the N is 158\n",
        "The correlation between fb_vad_comp_mdn and fatigue is 0.0200818009206 , the t statistic is 0.101149264667 and the p-value is 0.460113728033, and the N is 158\n",
        "The correlation between fb_vad_comp_mdn and fear is 0.0867746983628 , the t statistic is 0.438638622958 and the p-value is 0.332318846927, and the N is 158\n",
        "The correlation between fb_vad_comp_mdn and attentiveness is 0.0151498293609 , the t statistic is 0.0763009719056 and the p-value is 0.469889213599, and the N is 158\n",
        "The correlation between tw_vader_pos_mdn and joviality_1 is -0.0414838782723 , the t statistic is -0.080600479277 and the p-value is 0.469928397851, and the N is 223\n",
        "The correlation between tw_vader_pos_mdn and joviality is -0.0902548756711 , the t statistic is -0.175926411828 and the p-value is 0.434698380846, and the N is 223\n",
        "The correlation between tw_vader_pos_mdn and guilt is 0.0209830353716 , the t statistic is 0.0407425494062 and the p-value is 0.484783683831, and the N is 223\n",
        "The correlation between tw_vader_pos_mdn and hostilitity is -0.0446451646517 , the t statistic is -0.0867544851077 and the p-value is 0.467639384954, and the N is 223\n",
        "The correlation between tw_vader_pos_mdn and self_assurance is 0.0495806898014 , the t statistic is 0.0963676531604 and the p-value is 0.464066847228, and the N is 223\n",
        "The correlation between tw_vader_pos_mdn and hostility_1 is -0.00841599015809 , the t statistic is -0.0163382245101 and the p-value is 0.493896292294, and the N is 223\n",
        "The correlation between tw_vader_pos_mdn and fatigue is -0.0478136978756 , the t statistic is -0.0929252187751 and the p-value is 0.465345699196, and the N is 223\n",
        "The correlation between tw_vader_pos_mdn and fear is -0.000947325471139 , the t statistic is -0.00183900821469 and the p-value is 0.499312936819, and the N is 223\n",
        "The correlation between tw_vader_pos_mdn and attentiveness is 0.0896871192587 , the t statistic is 0.174810728193 and the p-value is 0.435107206713, and the N is 223"
       ]
      },
      {
       "output_type": "stream",
       "stream": "stdout",
       "text": [
        "\n",
        "The correlation between tw_vader_neg_mdn and joviality_1 is nan , the t statistic is nan and the p-value is nan, and the N is 223\n",
        "The correlation between tw_vader_neg_mdn and joviality is nan , the t statistic is nan and the p-value is nan, and the N is 223\n",
        "The correlation between tw_vader_neg_mdn and guilt is nan , the t statistic is nan and the p-value is nan, and the N is 223\n",
        "The correlation between tw_vader_neg_mdn and hostilitity is nan , the t statistic is nan and the p-value is nan, and the N is 223\n",
        "The correlation between tw_vader_neg_mdn and self_assurance is nan , the t statistic is nan and the p-value is nan, and the N is 223\n",
        "The correlation between tw_vader_neg_mdn and hostility_1 is nan , the t statistic is nan and the p-value is nan, and the N is 223\n",
        "The correlation between tw_vader_neg_mdn and fatigue is nan , the t statistic is nan and the p-value is nan, and the N is 223\n",
        "The correlation between tw_vader_neg_mdn and fear is nan , the t statistic is nan and the p-value is nan, and the N is 223\n",
        "The correlation between tw_vader_neg_mdn and attentiveness is nan , the t statistic is nan and the p-value is nan, and the N is 223\n",
        "The correlation between tw_vad_neu_mdn and joviality_1 is 0.135683784913 , the t statistic is 1.83774817854 and the p-value is 0.0338736579852, and the N is 223\n",
        "The correlation between tw_vad_neu_mdn and joviality is 0.191915964721 , the t statistic is 2.62411652232 and the p-value is 0.00471660936473, and the N is 223\n",
        "The correlation between tw_vad_neu_mdn and guilt is -0.0712522462647 , the t statistic is -0.95857675498 and the p-value is 0.169528631986, and the N is 223\n",
        "The correlation between tw_vad_neu_mdn and hostilitity is -0.0261484343324 , the t statistic is -0.351008236445 and the p-value is 0.362996244482, and the N is 223\n",
        "The correlation between tw_vad_neu_mdn and self_assurance is -0.019247089018 , the t statistic is -0.258326289651 and the p-value is 0.398225058123, and the N is 223\n",
        "The correlation between tw_vad_neu_mdn and hostility_1 is -0.0413984578789 , the t statistic is -0.556006323616 and the p-value is 0.289448366675, and the N is 223\n",
        "The correlation between tw_vad_neu_mdn and fatigue is -0.126640254302 , the t statistic is -1.7131904723 and the p-value is 0.0441992758121, and the N is 223\n",
        "The correlation between tw_vad_neu_mdn and fear is -0.00719314296297 , the t statistic is -0.0965279363937 and the p-value is 0.461604316746, and the N is 223\n",
        "The correlation between tw_vad_neu_mdn and attentiveness is 0.0536364082216 , the t statistic is 0.720789389701 and the p-value is 0.235986898437, and the N is 223\n",
        "The correlation between tw_vad_comp_mdn and joviality_1 is -0.0318668511075 , the t statistic is -0.0387769123073 and the p-value is 0.486819534327, and the N is 223\n",
        "The correlation between tw_vad_comp_mdn and joviality is -0.0646791055726 , the t statistic is -0.0788293183092 and the p-value is 0.473240669946, and the N is 223\n",
        "The correlation between tw_vad_comp_mdn and guilt is 0.067347615604 , the t statistic is 0.0820961572084 and the p-value is 0.472135787395, and the N is 223\n",
        "The correlation between tw_vad_comp_mdn and hostilitity is -0.00183691707171 , the t statistic is -0.00223410577999 and the p-value is 0.499240298495, and the N is 223\n",
        "The correlation between tw_vad_comp_mdn and self_assurance is 0.0210548591107 , the t statistic is 0.0256130957479 and the p-value is 0.491291920953, and the N is 223\n",
        "The correlation between tw_vad_comp_mdn and hostility_1 is 0.0118901505187 , the t statistic is 0.0144621047561 and the p-value is 0.495082481625, and the N is 223\n",
        "The correlation between tw_vad_comp_mdn and fatigue is -0.0157641576488 , the t statistic is -0.0191751243101 and the p-value is 0.493480212404, and the N is 223\n",
        "The correlation between tw_vad_comp_mdn and fear is 0.111587049019 , the t statistic is 0.136567720996 and the p-value is 0.453800374143, and the N is 223"
       ]
      },
      {
       "output_type": "stream",
       "stream": "stdout",
       "text": [
        "\n",
        "The correlation between tw_vad_comp_mdn and attentiveness is -0.0307759611581 , the t statistic is -0.0374481911435 and the p-value is 0.487270813468, and the N is 223\n",
        "The correlation between tw_vader_pos_sd and joviality_1 is 0.0797299463587 , the t statistic is 0.499200639076 and the p-value is 0.310222946119, and the N is 223\n",
        "The correlation between tw_vader_pos_sd and joviality is 0.0505361243015 , the t statistic is 0.315810156497 and the p-value is 0.376916288967, and the N is 223\n",
        "The correlation between tw_vader_pos_sd and guilt is -0.0559049861691 , the t statistic is -0.34946135067 and the p-value is 0.364312631414, and the N is 223\n",
        "The correlation between tw_vader_pos_sd and hostilitity is -0.0785343113311 , the t statistic is -0.491667782931 and the p-value is 0.312856761116, and the N is 223\n",
        "The correlation between tw_vader_pos_sd and self_assurance is 0.15264067482 , the t statistic is 0.963958593433 and the p-value is 0.170506621778, and the N is 223\n",
        "The correlation between tw_vader_pos_sd and hostility_1 is -0.0653583351575 , the t statistic is -0.408789222644 and the p-value is 0.342466600194, and the N is 223\n",
        "The correlation between tw_vader_pos_sd and fatigue is 0.0704256485869 , the t statistic is 0.440635430556 and the p-value is 0.33095637812, and the N is 223\n",
        "The correlation between tw_vader_pos_sd and fear is -0.0716556738208 , the t statistic is -0.448370763103 and the p-value is 0.3281849326, and the N is 223\n",
        "The correlation between tw_vader_pos_sd and attentiveness is 0.131366605516 , the t statistic is 0.827054099025 and the p-value is 0.206622168338, and the N is 223\n",
        "The correlation between tw_vader_neg_sd and joviality_1 is -0.183707262292 , the t statistic is -1.00016738175 and the p-value is 0.162802620233, and the N is 223\n",
        "The correlation between tw_vader_neg_sd and joviality is -0.175992533932 , the t statistic is -0.956792743436 and the p-value is 0.173339545899, and the N is 223\n",
        "The correlation between tw_vader_neg_sd and guilt is 0.0947977622211 , the t statistic is 0.509623926684 and the p-value is 0.307109813064, and the N is 223\n",
        "The correlation between tw_vader_neg_sd and hostilitity is 0.0795493906204 , the t statistic is 0.427077643986 and the p-value is 0.336258180559, and the N is 223\n",
        "The correlation between tw_vader_neg_sd and self_assurance is -0.0626900710651 , the t statistic is -0.33615945126 and the p-value is 0.369600546744, and the N is 223\n",
        "The correlation between tw_vader_neg_sd and hostility_1 is 0.0812908217815 , the t statistic is 0.43648840576 and the p-value is 0.33287767636, and the N is 223\n",
        "The correlation between tw_vader_neg_sd and fatigue is 0.124851873745 , the t statistic is 0.673438741833 and the p-value is 0.253033390217, and the N is 223\n",
        "The correlation between tw_vader_neg_sd and fear is -0.04543811027 , the t statistic is -0.243422397619 and the p-value is 0.404706653661, and the N is 223\n",
        "The correlation between tw_vader_neg_sd and attentiveness is -0.12588341121 , the t statistic is -0.679091971216 and the p-value is 0.251265514296, and the N is 223\n",
        "The correlation between tw_vad_neu_sd and joviality_1 is 0.0459875318508 , the t statistic is 0.307281600105 and the p-value is 0.380030416179, and the N is 223\n",
        "The correlation between tw_vad_neu_sd and joviality is 0.0380731053185 , the t statistic is 0.254313860191 and the p-value is 0.400211615146, and the N is 223\n",
        "The correlation between tw_vad_neu_sd and guilt is -0.00121688956464 , the t statistic is -0.00812247197625 and the p-value is 0.496777769266, and the N is 223\n",
        "The correlation between tw_vad_neu_sd and hostilitity is -0.00620066090571 , the t statistic is -0.0413888218427 and the p-value is 0.4835854266, and the N is 223\n",
        "The correlation between tw_vad_neu_sd and self_assurance is 0.10073194456 , the t statistic is 0.675800614989 and the p-value is 0.251330120429, and the N is 223\n",
        "The correlation between tw_vad_neu_sd and hostility_1 is -0.00198214744662 , the t statistic is -0.0132304173385 and the p-value is 0.494751515899, and the N is 223"
       ]
      },
      {
       "output_type": "stream",
       "stream": "stdout",
       "text": [
        "\n",
        "The correlation between tw_vad_neu_sd and fatigue is 0.0960095515542 , the t statistic is 0.643816472227 and the p-value is 0.261497540127, and the N is 223\n",
        "The correlation between tw_vad_neu_sd and fear is -0.0561158121607 , the t statistic is -0.37515164766 and the p-value is 0.354663887, and the N is 223\n",
        "The correlation between tw_vad_neu_sd and attentiveness is 0.0740587734423 , the t statistic is 0.495686982966 and the p-value is 0.311275820382, and the N is 223\n",
        "The correlation between tw_vad_comp_sd and joviality_1 is -0.179726870302 , the t statistic is -1.68701735281 and the p-value is 0.0476278084076, and the N is 223\n",
        "The correlation between tw_vad_comp_sd and joviality is -0.182701852832 , the t statistic is -1.71589841186 and the p-value is 0.0449061628461, and the N is 223\n",
        "The correlation between tw_vad_comp_sd and guilt is 0.0818478830509 , the t statistic is 0.758304350748 and the p-value is 0.225179915618, and the N is 223\n",
        "The correlation between tw_vad_comp_sd and hostilitity is 0.0128646138185 , the t statistic is 0.118798022244 and the p-value is 0.452857413217, and the N is 223\n",
        "The correlation between tw_vad_comp_sd and self_assurance is -0.0478136343053 , the t statistic is -0.44200305397 and the p-value is 0.329803051978, and the N is 223\n",
        "The correlation between tw_vad_comp_sd and hostility_1 is 0.0416946533522 , the t statistic is 0.385331675347 and the p-value is 0.350475676797, and the N is 223\n",
        "The correlation between tw_vad_comp_sd and fatigue is 0.0963001654217 , the t statistic is 0.893360422056 and the p-value is 0.187089443377, and the N is 223\n",
        "The correlation between tw_vad_comp_sd and fear is -0.0506909959854 , the t statistic is -0.468668792041 and the p-value is 0.320251234369, and the N is 223\n",
        "The correlation between tw_vad_comp_sd and attentiveness is -0.124934369708 , the t statistic is -1.16271838693 and the p-value is 0.124093918675, and the N is 223\n",
        "The correlation between fb_vader_pos_sd and joviality_1 is 0.12475603376 , the t statistic is 0.712446122137 and the p-value is 0.240667333589, and the N is 158\n",
        "The correlation between fb_vader_pos_sd and joviality is 0.0749451718828 , the t statistic is 0.425844421517 and the p-value is 0.336531314623, and the N is 158\n",
        "The correlation between fb_vader_pos_sd and guilt is 0.0856173863639 , the t statistic is 0.486904499014 and the p-value is 0.314816926482, and the N is 158\n",
        "The correlation between fb_vader_pos_sd and hostilitity is 0.104344602981 , the t statistic is 0.594472004355 and the p-value is 0.278181526456, and the N is 158\n",
        "The correlation between fb_vader_pos_sd and self_assurance is 0.0692862915332 , the t statistic is 0.393528742894 and the p-value is 0.348265208963, and the N is 158\n",
        "The correlation between fb_vader_pos_sd and hostility_1 is 0.127371891608 , the t statistic is 0.727628321209 and the p-value is 0.236057327678, and the N is 158\n",
        "The correlation between fb_vader_pos_sd and fatigue is 0.12646170667 , the t statistic is 0.722343957969 and the p-value is 0.237656095788, and the N is 158\n",
        "The correlation between fb_vader_pos_sd and fear is 0.0232487511285 , the t statistic is 0.131765351702 and the p-value is 0.447996104727, and the N is 158\n",
        "The correlation between fb_vader_pos_sd and attentiveness is 0.0809892913634 , the t statistic is 0.460405829037 and the p-value is 0.324164167512, and the N is 158\n",
        "The correlation between fb_vader_neg_sd and joviality_1 is 0.0665396535425 , the t statistic is 0.298336760259 and the p-value is 0.384260747116, and the N is 158\n",
        "The correlation between fb_vader_neg_sd and joviality is 0.0644333962561 , the t statistic is 0.28885314236 and the p-value is 0.387832234643, and the N is 158\n",
        "The correlation between fb_vader_neg_sd and guilt is 0.0204523793752 , the t statistic is 0.0915160708778 and the p-value is 0.463996175332, and the N is 158\n",
        "The correlation between fb_vader_neg_sd and hostilitity is 0.158548615506 , the t statistic is 0.718378758647 and the p-value is 0.240413517933, and the N is 158\n",
        "The correlation between fb_vader_neg_sd and self_assurance is -0.0170452815411 , the t statistic is -0.0762658215348 and the p-value is 0.469982435631, and the N is 158"
       ]
      },
      {
       "output_type": "stream",
       "stream": "stdout",
       "text": [
        "\n",
        "The correlation between fb_vader_neg_sd and hostility_1 is 0.105755648411 , the t statistic is 0.4757826059 and the p-value is 0.319690731374, and the N is 158\n",
        "The correlation between fb_vader_neg_sd and fatigue is 0.0109366932313 , the t statistic is 0.0489299396093 and the p-value is 0.480730072065, and the N is 158\n",
        "The correlation between fb_vader_neg_sd and fear is -0.0147269806663 , the t statistic is -0.0658906045018 and the p-value is 0.474059342223, and the N is 158\n",
        "The correlation between fb_vader_neg_sd and attentiveness is -0.0407019602228 , the t statistic is -0.182237620068 and the p-value is 0.428614747802, and the N is 158\n",
        "The correlation between fb_vad_neu_sd and joviality_1 is 0.123648141657 , the t statistic is 0.730419946942 and the p-value is 0.23504227909, and the N is 158\n",
        "The correlation between fb_vad_neu_sd and joviality is 0.068447911402 , the t statistic is 0.402179016416 and the p-value is 0.345021578936, and the N is 158\n",
        "The correlation between fb_vad_neu_sd and guilt is 0.00854865402776 , the t statistic is 0.0501133074388 and the p-value is 0.480161133703, and the N is 158\n",
        "The correlation between fb_vad_neu_sd and hostilitity is 0.102761691993 , the t statistic is 0.605586190398 and the p-value is 0.274384457366, and the N is 158\n",
        "The correlation between fb_vad_neu_sd and self_assurance is 0.0910957177183 , the t statistic is 0.536224826674 and the p-value is 0.297628889183, and the N is 158\n",
        "The correlation between fb_vad_neu_sd and hostility_1 is 0.118546182736 , the t statistic is 0.699842461048 and the p-value is 0.244368447904, and the N is 158\n",
        "The correlation between fb_vad_neu_sd and fatigue is 0.115376282268 , the t statistic is 0.680872830713 and the p-value is 0.25025736569, and the N is 158\n",
        "The correlation between fb_vad_neu_sd and fear is -0.0259046983041 , the t statistic is -0.151902094117 and the p-value is 0.440076266435, and the N is 158\n",
        "The correlation between fb_vad_neu_sd and attentiveness is 0.0918784634612 , the t statistic is 0.540871430503 and the p-value is 0.296042735573, and the N is 158\n",
        "The correlation between fb_vad_comp_sd and joviality_1 is 0.075047244675 , the t statistic is 0.604021259129 and the p-value is 0.273975496849, and the N is 158\n",
        "The correlation between fb_vad_comp_sd and joviality is 0.114978784908 , the t statistic is 0.928963381084 and the p-value is 0.178188131248, and the N is 158\n",
        "The correlation between fb_vad_comp_sd and guilt is 0.0637495441652 , the t statistic is 0.51268710226 and the p-value is 0.304961956515, and the N is 158\n",
        "The correlation between fb_vad_comp_sd and hostilitity is -0.00798357869194 , the t statistic is -0.0640770447915 and the p-value is 0.474553659258, and the N is 158\n",
        "The correlation between fb_vad_comp_sd and self_assurance is -0.0448722365227 , the t statistic is -0.360500946715 and the p-value is 0.359826022232, and the N is 158\n",
        "The correlation between fb_vad_comp_sd and hostility_1 is -0.0408617749056 , the t statistic is -0.328224594398 and the p-value is 0.371903215117, and the N is 158\n",
        "The correlation between fb_vad_comp_sd and fatigue is -0.00405369444347 , the t statistic is -0.0325346096726 and the p-value is 0.487073159761, and the N is 158\n",
        "The correlation between fb_vad_comp_sd and fear is 0.0105978236171 , the t statistic is 0.0850613164848 and the p-value is 0.466238237444, and the N is 158\n",
        "The correlation between fb_vad_comp_sd and attentiveness is -0.133615771589 , the t statistic is -1.0820829102 and the p-value is 0.141624999782, and the N is 158\n",
        "The correlation between fb_vader_pos25 and joviality_1 is -0.0965949494195 , the t statistic is -0.0681245047582 and the p-value is 0.481747772864, and the N is 158\n",
        "The correlation between fb_vader_pos25 and joviality is -0.0602990978233 , the t statistic is -0.0424048091603 and the p-value is 0.488622476486, and the N is 158\n",
        "The correlation between fb_vader_pos25 and guilt is 0.120801812647 , the t statistic is 0.0854238150275 and the p-value is 0.477143244336, and the N is 158\n",
        "The correlation between fb_vader_pos25 and hostilitity is -0.118054362126 , the t statistic is -0.0834531985955 and the p-value is 0.47766681055, and the N is 158\n",
        "The correlation between fb_vader_pos25 and self_assurance is -0.0598557893124 , the t statistic is -0.042091931253 and the p-value is 0.488706273624, and the N is 158\n",
        "The correlation between fb_vader_pos25 and hostility_1 is -0.0200283239451 , the t statistic is -0.0140619337093 and the p-value is 0.496224034253, and the N is 158\n",
        "The correlation between fb_vader_pos25 and fatigue is -0.05273898889 , the t statistic is -0.037072334135 and the p-value is 0.490051095708, and the N is 158"
       ]
      },
      {
       "output_type": "stream",
       "stream": "stdout",
       "text": [
        "\n",
        "The correlation between fb_vader_pos25 and fear is 0.100114165306 , the t statistic is 0.0706311473551 and the p-value is 0.481079479001, and the N is 158\n",
        "The correlation between fb_vader_pos25 and attentiveness is 0.0273972265374 , the t statistic is 0.0192390210981 and the p-value is 0.494834311852, and the N is 158\n",
        "The correlation between fb_vader_neg25 and joviality_1 is nan , the t statistic is nan and the p-value is nan, and the N is 158\n",
        "The correlation between fb_vader_neg25 and joviality is nan , the t statistic is nan and the p-value is nan, and the N is 158\n",
        "The correlation between fb_vader_neg25 and guilt is nan , the t statistic is nan and the p-value is nan, and the N is 158\n",
        "The correlation between fb_vader_neg25 and hostilitity is nan , the t statistic is nan and the p-value is nan, and the N is 158\n",
        "The correlation between fb_vader_neg25 and self_assurance is nan , the t statistic is nan and the p-value is nan, and the N is 158\n",
        "The correlation between fb_vader_neg25 and hostility_1 is nan , the t statistic is nan and the p-value is nan, and the N is 158\n",
        "The correlation between fb_vader_neg25 and fatigue is nan , the t statistic is nan and the p-value is nan, and the N is 158\n",
        "The correlation between fb_vader_neg25 and fear is nan , the t statistic is nan and the p-value is nan, and the N is 158\n",
        "The correlation between fb_vader_neg25 and attentiveness is nan , the t statistic is nan and the p-value is nan, and the N is 158\n",
        "The correlation between fb_vad_neu25 and joviality_1 is -0.0895669422393 , the t statistic is -0.843886949536 and the p-value is 0.200509618632, and the N is 158\n",
        "The correlation between fb_vad_neu25 and joviality is -0.0692279445367 , the t statistic is -0.651196578271 and the p-value is 0.258307685408, and the N is 158\n",
        "The correlation between fb_vad_neu25 and guilt is -0.164668649398 , the t statistic is -1.56663502368 and the p-value is 0.060393344086, and the N is 158\n",
        "The correlation between fb_vad_neu25 and hostilitity is -0.0244278922269 , the t statistic is -0.22929949676 and the p-value is 0.409583940139, and the N is 158\n",
        "The correlation between fb_vad_neu25 and self_assurance is -0.0514637046271 , the t statistic is -0.483575642084 and the p-value is 0.31494368521, and the N is 158\n",
        "The correlation between fb_vad_neu25 and hostility_1 is -0.0975971972179 , the t statistic is -0.920244275464 and the p-value is 0.179979612878, and the N is 158\n",
        "The correlation between fb_vad_neu25 and fatigue is -0.0894660195395 , the t statistic is -0.842928393488 and the p-value is 0.200776122407, and the N is 158\n",
        "The correlation between fb_vad_neu25 and fear is -0.149033098319 , the t statistic is -1.41431978801 and the p-value is 0.0803970309693, and the N is 158\n",
        "The correlation between fb_vad_neu25 and attentiveness is -0.0690658914832 , the t statistic is -0.649664902237 and the p-value is 0.258799902756, and the N is 158\n",
        "The correlation between fb_vad_comp25 and joviality_1 is 0.0205471361189 , the t statistic is nan and the p-value is nan, and the N is 158\n",
        "The correlation between fb_vad_comp25 and joviality is 0.0542008893187 , the t statistic is nan and the p-value is nan, and the N is 158\n",
        "The correlation between fb_vad_comp25 and guilt is -0.0369611812503 , the t statistic is nan and the p-value is nan, and the N is 158\n",
        "The correlation between fb_vad_comp25 and hostilitity is -0.119425364814 , the t statistic is nan and the p-value is nan, and the N is 158\n",
        "The correlation between fb_vad_comp25 and self_assurance is -0.0485787728066 , the t statistic is nan and the p-value is nan, and the N is 158\n",
        "The correlation between fb_vad_comp25 and hostility_1 is -0.0466463996844 , the t statistic is nan and the p-value is nan, and the N is 158\n",
        "The correlation between fb_vad_comp25 and fatigue is -0.0554593227207 , the t statistic is nan and the p-value is nan, and the N is 158\n",
        "The correlation between fb_vad_comp25 and fear is 0.052550641504 , the t statistic is nan and the p-value is nan, and the N is 158\n",
        "The correlation between fb_vad_comp25 and attentiveness is 0.0793461682502 , the t statistic is nan and the p-value is nan, and the N is 158"
       ]
      },
      {
       "output_type": "stream",
       "stream": "stdout",
       "text": [
        "\n",
        "The correlation between fb_vader_pos75 and joviality_1 is 0.0801267388574 , the t statistic is 0.575310443135 and the p-value is 0.283800094185, and the N is 158\n",
        "The correlation between fb_vader_pos75 and joviality is 0.0603322569891 , the t statistic is 0.43258113165 and the p-value is 0.333567508557, and the N is 158\n",
        "The correlation between fb_vader_pos75 and guilt is 0.149743495733 , the t statistic is 1.08392354847 and the p-value is 0.141737270164, and the N is 158\n",
        "The correlation between fb_vader_pos75 and hostilitity is -0.0216844280462 , the t statistic is -0.155230210918 and the p-value is 0.438624970882, and the N is 158\n",
        "The correlation between fb_vader_pos75 and self_assurance is 0.0421733219653 , the t statistic is 0.302099855306 and the p-value is 0.38189961427, and the N is 158\n",
        "The correlation between fb_vader_pos75 and hostility_1 is 0.0663189975157 , the t statistic is 0.475686979937 and the p-value is 0.318159965602, and the N is 158\n",
        "The correlation between fb_vader_pos75 and fatigue is 0.0790636578009 , the t statistic is 0.567629176173 and the p-value is 0.286383259668, and the N is 158\n",
        "The correlation between fb_vader_pos75 and fear is 0.144705565464 , the t statistic is 1.04666249092 and the p-value is 0.150084693095, and the N is 158\n",
        "The correlation between fb_vader_pos75 and attentiveness is 0.0508865013476 , the t statistic is 0.36466304726 and the p-value is 0.358432112508, and the N is 158\n",
        "The correlation between fb_vader_neg75 and joviality_1 is -0.150482756263 , the t statistic is -0.482413372381 and the p-value is 0.319926386005, and the N is 158\n",
        "The correlation between fb_vader_neg75 and joviality is -0.130327829321 , the t statistic is -0.416596792752 and the p-value is 0.342868091322, and the N is 158\n",
        "The correlation between fb_vader_neg75 and guilt is 0.0649910680861 , the t statistic is 0.206410396793 and the p-value is 0.420297177941, and the N is 158\n",
        "The correlation between fb_vader_neg75 and hostilitity is 0.0935105565431 , the t statistic is 0.297664150583 and the p-value is 0.38601262731, and the N is 158\n",
        "The correlation between fb_vader_neg75 and self_assurance is -0.138039609065 , the t statistic is -0.441712951992 and the p-value is 0.334027409408, and the N is 158\n",
        "The correlation between fb_vader_neg75 and hostility_1 is 0.0699134741584 , the t statistic is 0.222117939341 and the p-value is 0.414336642757, and the N is 158\n",
        "The correlation between fb_vader_neg75 and fatigue is -0.000131576303468 , the t statistic is -0.000417000371313 and the p-value is 0.49983772388, and the N is 158\n",
        "The correlation between fb_vader_neg75 and fear is -0.0212933545984 , the t statistic is -0.0674996190374 and the p-value is 0.47375436668, and the N is 158\n",
        "The correlation between fb_vader_neg75 and attentiveness is -0.173820062553 , the t statistic is -0.559397566047 and the p-value is 0.294073052806, and the N is 158\n",
        "The correlation between fb_vad_neu75 and joviality_1 is 0.0263629311638 , the t statistic is 0.319422058368 and the p-value is 0.374930443236, and the N is 158\n",
        "The correlation between fb_vad_neu75 and joviality is 0.0241087861821 , the t statistic is 0.292093459765 and the p-value is 0.385313914245, and the N is 158\n",
        "The correlation between fb_vad_neu75 and guilt is -0.090443029747 , the t statistic is -1.09996507571 and the p-value is 0.136574519312, and the N is 158\n",
        "The correlation between fb_vad_neu75 and hostilitity is 0.092544521269 , the t statistic is 1.12574160115 and the p-value is 0.131056587248, and the N is 158\n",
        "The correlation between fb_vad_neu75 and self_assurance is 0.00595317624623 , the t statistic is 0.0721068748996 and the p-value is 0.471307533575, and the N is 158\n",
        "The correlation between fb_vad_neu75 and hostility_1 is 0.0600242240311 , the t statistic is 0.72833396994 and the p-value is 0.233785075879, and the N is 158\n",
        "The correlation between fb_vad_neu75 and fatigue is 0.0242668072093 , the t statistic is 0.294009110614 and the p-value is 0.384583252693, and the N is 158\n",
        "The correlation between fb_vad_neu75 and fear is -0.0395686951105 , the t statistic is -0.47963648974 and the p-value is 0.316100086704, and the N is 158\n",
        "The correlation between fb_vad_neu75 and attentiveness is -0.0313998966093 , the t statistic is -0.38050700674 and the p-value is 0.352059741294, and the N is 158\n",
        "The correlation between fb_vad_comp75 and joviality_1 is 0.109342090455 , the t statistic is 1.01263859315 and the p-value is 0.157057680707, and the N is 158"
       ]
      },
      {
       "output_type": "stream",
       "stream": "stdout",
       "text": [
        "\n",
        "The correlation between fb_vad_comp75 and joviality is 0.144504303844 , the t statistic is 1.34436892405 and the p-value is 0.0912083902041, and the N is 158\n",
        "The correlation between fb_vad_comp75 and guilt is 0.0833701276357 , the t statistic is 0.770158915671 and the p-value is 0.221673652037, and the N is 158\n",
        "The correlation between fb_vad_comp75 and hostilitity is -0.101188703513 , the t statistic is -0.93631549189 and the p-value is 0.175885707192, and the N is 158\n",
        "The correlation between fb_vad_comp75 and self_assurance is 0.00690185155302 , the t statistic is 0.0635376679538 and the p-value is 0.474743998072, and the N is 158\n",
        "The correlation between fb_vad_comp75 and hostility_1 is -0.0599695640572 , the t statistic is -0.55305528782 and the p-value is 0.29084080298, and the N is 158\n",
        "The correlation between fb_vad_comp75 and fatigue is 0.019259821511 , the t statistic is 0.177332417279 and the p-value is 0.429835227655, and the N is 158\n",
        "The correlation between fb_vad_comp75 and fear is 0.0650229334765 , the t statistic is 0.599848962344 and the p-value is 0.275103738844, and the N is 158\n",
        "The correlation between fb_vad_comp75 and attentiveness is -0.0214757686485 , the t statistic is -0.197744404148 and the p-value is 0.421859301777, and the N is 158\n",
        "The correlation between tw_vader_pos25 and joviality_1 is -0.179140261745 , the t statistic is nan and the p-value is nan, and the N is 223\n",
        "The correlation between tw_vader_pos25 and joviality is -0.177024520299 , the t statistic is nan and the p-value is nan, and the N is 223\n",
        "The correlation between tw_vader_pos25 and guilt is -0.0276828106836 , the t statistic is nan and the p-value is nan, and the N is 223\n",
        "The correlation between tw_vader_pos25 and hostilitity is -0.0398373213635 , the t statistic is nan and the p-value is nan, and the N is 223\n",
        "The correlation between tw_vader_pos25 and self_assurance is -0.0303832718822 , the t statistic is nan and the p-value is nan, and the N is 223\n",
        "The correlation between tw_vader_pos25 and hostility_1 is -0.00919522047624 , the t statistic is nan and the p-value is nan, and the N is 223\n",
        "The correlation between tw_vader_pos25 and fatigue is -0.109101522176 , the t statistic is nan and the p-value is nan, and the N is 223\n",
        "The correlation between tw_vader_pos25 and fear is -0.0216351576516 , the t statistic is nan and the p-value is nan, and the N is 223\n",
        "The correlation between tw_vader_pos25 and attentiveness is -0.0706666041939 , the t statistic is nan and the p-value is nan, and the N is 223\n",
        "The correlation between tw_vader_neg25 and joviality_1 is nan , the t statistic is nan and the p-value is nan, and the N is 223\n",
        "The correlation between tw_vader_neg25 and joviality is nan , the t statistic is nan and the p-value is nan, and the N is 223\n",
        "The correlation between tw_vader_neg25 and guilt is nan , the t statistic is nan and the p-value is nan, and the N is 223\n",
        "The correlation between tw_vader_neg25 and hostilitity is nan , the t statistic is nan and the p-value is nan, and the N is 223\n",
        "The correlation between tw_vader_neg25 and self_assurance is nan , the t statistic is nan and the p-value is nan, and the N is 223\n",
        "The correlation between tw_vader_neg25 and hostility_1 is nan , the t statistic is nan and the p-value is nan, and the N is 223\n",
        "The correlation between tw_vader_neg25 and fatigue is nan , the t statistic is nan and the p-value is nan, and the N is 223\n",
        "The correlation between tw_vader_neg25 and fear is nan , the t statistic is nan and the p-value is nan, and the N is 223\n",
        "The correlation between tw_vader_neg25 and attentiveness is nan , the t statistic is nan and the p-value is nan, and the N is 223\n",
        "The correlation between tw_vad_neu25 and joviality_1 is 0.0861695713248 , the t statistic is 1.02831453881 and the p-value is 0.152779144862, and the N is 223"
       ]
      },
      {
       "output_type": "stream",
       "stream": "stdout",
       "text": [
        "\n",
        "The correlation between tw_vad_neu25 and joviality is 0.123320995752 , the t statistic is 1.47746924382 and the p-value is 0.0708872492561, and the N is 223\n",
        "The correlation between tw_vad_neu25 and guilt is -0.0494981865346 , the t statistic is -0.589217495901 and the p-value is 0.278327946017, and the N is 223\n",
        "The correlation between tw_vad_neu25 and hostilitity is 0.0209203498956 , the t statistic is 0.248781263295 and the p-value is 0.401945541825, and the N is 223\n",
        "The correlation between tw_vad_neu25 and self_assurance is -0.0679305154157 , the t statistic is -0.809511334516 and the p-value is 0.209790828742, and the N is 223\n",
        "The correlation between tw_vad_neu25 and hostility_1 is 0.0014898189147 , the t statistic is 0.0177128168869 and the p-value is 0.492946466442, and the N is 223\n",
        "The correlation between tw_vad_neu25 and fatigue is -0.120686211722 , the t statistic is -1.44543100581 and the p-value is 0.0752751141978, and the N is 223\n",
        "The correlation between tw_vad_neu25 and fear is 0.0479369978458 , the t statistic is 0.570589884495 and the p-value is 0.284591800453, and the N is 223\n",
        "The correlation between tw_vad_neu25 and attentiveness is -0.0125429608411 , the t statistic is -0.149137857308 and the p-value is 0.440828709374, and the N is 223\n",
        "The correlation between tw_vad_comp25 and joviality_1 is 0.205549625225 , the t statistic is nan and the p-value is nan, and the N is 223\n",
        "The correlation between tw_vad_comp25 and joviality is 0.164203774925 , the t statistic is nan and the p-value is nan, and the N is 223\n",
        "The correlation between tw_vad_comp25 and guilt is -0.148501919566 , the t statistic is nan and the p-value is nan, and the N is 223\n",
        "The correlation between tw_vad_comp25 and hostilitity is -0.0873221992409 , the t statistic is nan and the p-value is nan, and the N is 223\n",
        "The correlation between tw_vad_comp25 and self_assurance is 0.137663674167 , the t statistic is nan and the p-value is nan, and the N is 223\n",
        "The correlation between tw_vad_comp25 and hostility_1 is -0.108465355704 , the t statistic is nan and the p-value is nan, and the N is 223\n",
        "The correlation between tw_vad_comp25 and fatigue is -0.0818297522447 , the t statistic is nan and the p-value is nan, and the N is 223\n",
        "The correlation between tw_vad_comp25 and fear is -0.0372329681324 , the t statistic is nan and the p-value is nan, and the N is 223\n",
        "The correlation between tw_vad_comp25 and attentiveness is 0.191363521817 , the t statistic is nan and the p-value is nan, and the N is 223\n",
        "The correlation between tw_vader_pos75 and joviality_1 is 0.0195413526128 , the t statistic is 0.144149803447 and the p-value is 0.442957464632, and the N is 223\n",
        "The correlation between tw_vader_pos75 and joviality is -0.0350472059087 , the t statistic is -0.258640650552 and the p-value is 0.398444367321, and the N is 223\n",
        "The correlation between tw_vader_pos75 and guilt is -0.0496924618538 , the t statistic is -0.366947457716 and the p-value is 0.357540958025, and the N is 223\n",
        "The correlation between tw_vader_pos75 and hostilitity is -0.102792309145 , the t statistic is -0.762155802781 and the p-value is 0.224629669718, and the N is 223\n",
        "The correlation between tw_vader_pos75 and self_assurance is 0.123946540873 , the t statistic is 0.921239976262 and the p-value is 0.180496571607, and the N is 223\n",
        "The correlation between tw_vader_pos75 and hostility_1 is -0.0881037955252 , the t statistic is -0.652323836221 and the p-value is 0.258469797241, and the N is 223\n",
        "The correlation between tw_vader_pos75 and fatigue is 0.0542886907922 , the t statistic is 0.400983774645 and the p-value is 0.345001455136, and the N is 223\n",
        "The correlation between tw_vader_pos75 and fear is -0.0524654403106 , the t statistic is -0.387479175553 and the p-value is 0.3499567887, and the N is 223\n",
        "The correlation between tw_vader_pos75 and attentiveness is 0.0952819920899 , the t statistic is 0.705939907864 and the p-value is 0.241619094608, and the N is 223\n",
        "The correlation between tw_vader_neg75 and joviality_1 is -0.255882177804 , the t statistic is -1.11666058487 and the p-value is 0.139494507114, and the N is 223"
       ]
      },
      {
       "output_type": "stream",
       "stream": "stdout",
       "text": [
        "\n",
        "The correlation between tw_vader_neg75 and joviality is -0.256267298498 , the t statistic is -1.11845927411 and the p-value is 0.139120456554, and the N is 223\n",
        "The correlation between tw_vader_neg75 and guilt is 0.115643825164 , the t statistic is 0.491159456006 and the p-value is 0.314657772281, and the N is 223\n",
        "The correlation between tw_vader_neg75 and hostilitity is 0.179788731389 , the t statistic is 0.771034712724 and the p-value is 0.225401114069, and the N is 223\n",
        "The correlation between tw_vader_neg75 and self_assurance is -0.155358692212 , the t statistic is -0.663464103847 and the p-value is 0.257768117729, and the N is 223\n",
        "The correlation between tw_vader_neg75 and hostility_1 is 0.143599762512 , the t statistic is 0.612145631314 and the p-value is 0.274091590233, and the N is 223\n",
        "The correlation between tw_vader_neg75 and fatigue is 0.122560127384 , the t statistic is 0.52096934021 and the p-value is 0.30440495155, and the N is 223\n",
        "The correlation between tw_vader_neg75 and fear is -0.0380251908177 , the t statistic is -0.160532162609 and the p-value is 0.437134986673, and the N is 223\n",
        "The correlation between tw_vader_neg75 and attentiveness is -0.21229912287 , the t statistic is -0.916513972697 and the p-value is 0.185825154303, and the N is 223\n",
        "The correlation between tw_vad_neu75 and joviality_1 is 0.139006130872 , the t statistic is 2.08393811568 and the p-value is 0.0191591269426, and the N is 223\n",
        "The correlation between tw_vad_neu75 and joviality is 0.146393170789 , the t statistic is 2.19704526692 and the p-value is 0.0145295348299, and the N is 223\n",
        "The correlation between tw_vad_neu75 and guilt is -0.0294351411198 , the t statistic is -0.437188036737 and the p-value is 0.331201513668, and the N is 223\n",
        "The correlation between tw_vad_neu75 and hostilitity is -0.0365032455632 , the t statistic is -0.542294178079 and the p-value is 0.294081864085, and the N is 223\n",
        "The correlation between tw_vad_neu75 and self_assurance is 0.0155216071144 , the t statistic is 0.230463912762 and the p-value is 0.408972534302, and the N is 223\n",
        "The correlation between tw_vad_neu75 and hostility_1 is -0.0224131948293 , the t statistic is -0.332833323065 and the p-value is 0.36978823121, and the N is 223\n",
        "The correlation between tw_vad_neu75 and fatigue is 0.062124523468 , the t statistic is 0.924095138218 and the p-value is 0.178223679124, and the N is 223\n",
        "The correlation between tw_vad_neu75 and fear is -0.000141650290895 , the t statistic is -0.00210296186977 and the p-value is 0.499161991272, and the N is 223\n",
        "The correlation between tw_vad_neu75 and attentiveness is 0.0594221083503 , the t statistic is 0.883751331304 and the p-value is 0.188896707947, and the N is 223\n",
        "The correlation between tw_vad_comp75 and joviality_1 is 0.0453798651019 , the t statistic is 0.442101043505 and the p-value is 0.329711961591, and the N is 223\n",
        "The correlation between tw_vad_comp75 and joviality is 0.00698743210758 , the t statistic is 0.0680046959969 and the p-value is 0.472962625782, and the N is 223\n",
        "The correlation between tw_vad_comp75 and guilt is -0.0451632204663 , the t statistic is -0.439986117629 and the p-value is 0.330474773233, and the N is 223\n",
        "The correlation between tw_vad_comp75 and hostilitity is -0.124717533019 , the t statistic is -1.22332644622 and the p-value is 0.112120628269, and the N is 223\n",
        "The correlation between tw_vad_comp75 and self_assurance is 0.081529988765 , the t statistic is 0.796115920826 and the p-value is 0.213977759283, and the N is 223\n",
        "The correlation between tw_vad_comp75 and hostility_1 is -0.0955192080262 , the t statistic is -0.933881431918 and the p-value is 0.176369883647, and the N is 223\n",
        "The correlation between tw_vad_comp75 and fatigue is 0.0738949006874 , the t statistic is 0.721130961125 and the p-value is 0.236302604016, and the N is 223\n",
        "The correlation between tw_vad_comp75 and fear is -0.0476439263195 , the t statistic is -0.464207033784 and the p-value is 0.321782315039, and the N is 223\n",
        "The correlation between tw_vad_comp75 and attentiveness is 0.0676420369988 , the t statistic is 0.659816547373 and the p-value is 0.25548642059, and the N is 223"
       ]
      },
      {
       "output_type": "stream",
       "stream": "stdout",
       "text": [
        "\n",
        "The correlation between status_num and joviality_1 is 0.019629380006 , the t statistic is 4.88297718355 and the p-value is 5.23780737893e-07, and the N is 158\n",
        "The correlation between status_num and joviality is 0.0141728330688 , the t statistic is 3.52528896198 and the p-value is 0.000211663340972, and the N is 158\n",
        "The correlation between status_num and guilt is -0.0418745544202 , the t statistic is -10.4237916631 and the p-value is 0.0, and the N is 158\n",
        "The correlation between status_num and hostilitity is -0.111773225339 , the t statistic is -27.9744897778 and the p-value is 0.0, and the N is 158\n",
        "The correlation between status_num and self_assurance is -0.0803564237599 , the t statistic is -20.0503393277 and the p-value is 0.0, and the N is 158\n",
        "The correlation between status_num and hostility_1 is -0.0709655240309 , the t statistic is -17.6944953155 and the p-value is 0.0, and the N is 158\n",
        "The correlation between status_num and fatigue is 0.0439971077973 , the t statistic is 10.953156788 and the p-value is 0.0, and the N is 158\n",
        "The correlation between status_num and fear is -0.0720448390161 , the t statistic is -17.9650045272 and the p-value is 0.0, and the N is 158\n",
        "The correlation between status_num and attentiveness is -0.00850484673604 , the t statistic is -2.11532267949 and the p-value is 0.0172032205872, and the N is 158\n",
        "The correlation between tweet_num and joviality_1 is 0.00725146544966 , the t statistic is 4.91084379212 and the p-value is 4.53582067905e-07, and the N is 223\n",
        "The correlation between tweet_num and joviality is 0.0135435745408 , the t statistic is 9.17259157316 and the p-value is 0.0, and the N is 223\n",
        "The correlation between tweet_num and guilt is 0.084593157983 , the t statistic is 57.4928251445 and the p-value is 0.0, and the N is 223\n",
        "The correlation between tweet_num and hostilitity is 0.15914565957 , the t statistic is 109.165227915 and the p-value is 0.0, and the N is 223\n",
        "The correlation between tweet_num and self_assurance is 0.0220637375734 , the t statistic is 14.9452690376 and the p-value is 0.0, and the N is 223\n",
        "The correlation between tweet_num and hostility_1 is 0.125172609349 , the t statistic is 85.4392570086 and the p-value is 0.0, and the N is 223\n",
        "The correlation between tweet_num and fatigue is 0.135750509132 , the t statistic is 92.7896101367 and the p-value is 0.0, and the N is 223\n",
        "The correlation between tweet_num and fear is -0.0370936835241 , the t statistic is -25.1372560624 and the p-value is 0.0, and the N is 223\n",
        "The correlation between tweet_num and attentiveness is -0.0644241271694 , the t statistic is -43.7190383699 and the p-value is 0.0, and the N is 223\n"
       ]
      }
     ],
     "prompt_number": 31
    },
    {
     "cell_type": "code",
     "collapsed": false,
     "input": [
      "Pair_Cor(feel_facebook, pair_list_corr)\n",
      "\n",
      "\n"
     ],
     "language": "python",
     "metadata": {},
     "outputs": [
      {
       "output_type": "stream",
       "stream": "stdout",
       "text": [
        "The correlation between tw_vader_pos and joviality_1 is 0.0500887565704 , the t statistic is 0.104759411424 and the p-value is 0.460604125424, and the N is 46\n",
        "The correlation between tw_vader_pos and joviality is -0.0271167468161 , the t statistic is -0.0566636615242 and the p-value is 0.478657189425, and the N is 46\n",
        "The correlation between tw_vader_pos and guilt is -0.0330185308356 , the t statistic is -0.0675932370601 and the p-value is 0.474607836221, and the N is 45\n",
        "The correlation between tw_vader_pos and hostilitity is 0.013230269502 , the t statistic is 0.0276384714765 and the p-value is 0.489584537281, and the N is 46\n",
        "The correlation between tw_vader_pos and self_assurance is -0.0179617143215 , the t statistic is -0.0375253861617 and the p-value is 0.485860553303, and the N is 46\n",
        "The correlation between tw_vader_pos and hostility_1 is -0.0803282044268 , the t statistic is -0.168337582334 and the p-value is 0.436918345854, and the N is 46\n",
        "The correlation between tw_vader_pos and fatigue is 0.312881472784 , the t statistic is 0.68811111869 and the p-value is 0.263115294249, and the N is 46\n",
        "The correlation between tw_vader_pos and fear is -0.118688374995 , the t statistic is -0.249687148297 and the p-value is 0.407074814838, and the N is 46\n",
        "The correlation between tw_vader_pos and attentiveness is 0.00521025796681 , the t statistic is 0.0108835966583 and the p-value is 0.495898011829, and the N is 46\n",
        "The correlation between tw_vader_neg and joviality_1 is 0.0337686225083 , the t statistic is 0.0384693345085 and the p-value is 0.487185694674, and the N is 46\n",
        "The correlation between tw_vader_neg and joviality is -0.0558914041799 , the t statistic is -0.0637349995644 and the p-value is 0.478785738191, and the N is 46\n",
        "The correlation between tw_vader_neg and guilt is -0.0129478000378 , the t statistic is -0.0142023281454 and the p-value is 0.4953254529, and the N is 45\n",
        "The correlation between tw_vader_neg and hostilitity is 0.294942130001 , the t statistic is 0.351441318227 and the p-value is 0.386908080411, and the N is 46\n",
        "The correlation between tw_vader_neg and self_assurance is -0.00991654912901 , the t statistic is -0.0112910802016 and the p-value is 0.496237390099, and the N is 46\n",
        "The correlation between tw_vader_neg and hostility_1 is 0.239641405329 , the t statistic is 0.281033544432 and the p-value is 0.408447396656, and the N is 46\n",
        "The correlation between tw_vader_neg and fatigue is 0.285832167171 , the t statistic is 0.339603678765 and the p-value is 0.390473435783, and the N is 46\n",
        "The correlation between tw_vader_neg and fear is 0.0807593036669 , the t statistic is 0.0922501375272 and the p-value is 0.469334564314, and the N is 46\n",
        "The correlation between tw_vader_neg and attentiveness is -0.200853721903 , the t statistic is -0.233439991409 and the p-value is 0.423424872622, and the N is 46\n",
        "The correlation between tw_vad_neutral and joviality_1 is -0.0625592045246 , the t statistic is -0.367102873018 and the p-value is 0.357898783497, and the N is 46\n",
        "The correlation between tw_vad_neutral and joviality is 0.0573896041143 , the t statistic is 0.336662432673 and the p-value is 0.369211308929, and the N is 46\n",
        "The correlation between tw_vad_neutral and guilt is 0.00410849886766 , the t statistic is 0.023804736462 and the p-value is 0.490574650735, and the N is 45\n",
        "The correlation between tw_vad_neutral and hostilitity is -0.177785264986 , the t statistic is -1.05807179205 and the p-value is 0.148708883515, and the N is 46\n",
        "The correlation between tw_vad_neutral and self_assurance is 0.00510904341771 , the t statistic is 0.0299219794698 and the p-value is 0.488151354581, and the N is 46\n",
        "The correlation between tw_vad_neutral and hostility_1 is -0.0707420647863 , the t statistic is -0.415348091525 and the p-value is 0.340237003785, and the N is 46\n",
        "The correlation between tw_vad_neutral and fatigue is -0.395928281986 , the t statistic is -2.52514185111 and the p-value is 0.00817527289445, and the N is 46\n",
        "The correlation between tw_vad_neutral and fear is 0.0279809100818 , the t statistic is 0.163936996052 and the p-value is 0.435371483758, and the N is 46\n",
        "The correlation between tw_vad_neutral and attentiveness is 0.102149940006 , the t statistic is 0.601396541589 and the p-value is 0.275765139561, and the N is 46\n",
        "The correlation between tw_vad_comp and joviality_1 is 0.0140205872557 , the t statistic is 0.0261165347016 and the p-value is 0.490297974292, and the N is 46\n",
        "The correlation between tw_vad_comp and joviality is 0.00310518342834 , the t statistic is 0.00578357018631 and the p-value is 0.497851163586, and the N is 46\n",
        "The correlation between tw_vad_comp and guilt is -0.0486191137887 , the t statistic is -0.0892943502169 and the p-value is 0.466951143337, and the N is 45\n",
        "The correlation between tw_vad_comp and hostilitity is -0.205410327262 , the t statistic is -0.390921916459 and the p-value is 0.359325949362, and the N is 46\n",
        "The correlation between tw_vad_comp and self_assurance is -0.000574156402643 , the t statistic is -0.00106939202379 and the p-value is 0.499602673714, and the N is 46\n",
        "The correlation between tw_vad_comp and hostility_1 is -0.233923851657 , the t statistic is -0.448126898512 and the p-value is 0.34029906101, and the N is 46\n",
        "The correlation between tw_vad_comp and fatigue is 0.031468968717 , the t statistic is 0.0586413978379 and the p-value is 0.478228201467, and the N is 46"
       ]
      },
      {
       "output_type": "stream",
       "stream": "stdout",
       "text": [
        "\n",
        "The correlation between tw_vad_comp and fear is -0.131529855401 , the t statistic is -0.247127197487 and the p-value is 0.409365114361, and the N is 46\n",
        "The correlation between tw_vad_comp and attentiveness is 0.0990307101658 , the t statistic is 0.185360265224 and the p-value is 0.431633695482, and the N is 46\n",
        "The correlation between fb_vader_pos_mdn and joviality_1 is -0.110056005883 , the t statistic is -0.255000628227 and the p-value is 0.404159161901, and the N is 65\n",
        "The correlation between fb_vader_pos_mdn and joviality is -0.112794836723 , the t statistic is -0.261427292586 and the p-value is 0.401807154951, and the N is 65\n",
        "The correlation between fb_vader_pos_mdn and guilt is 0.114815277842 , the t statistic is 0.266172115901 and the p-value is 0.400073628867, and the N is 65\n",
        "The correlation between fb_vader_pos_mdn and hostilitity is -0.0896429324891 , the t statistic is -0.207276160095 and the p-value is 0.421759932533, and the N is 65\n",
        "The correlation between fb_vader_pos_mdn and self_assurance is -0.348205837732 , the t statistic is -0.855429059789 and the p-value is 0.214628706177, and the N is 65\n",
        "The correlation between fb_vader_pos_mdn and hostility_1 is -0.102093976771 , the t statistic is -0.236350568112 and the p-value is 0.41100991965, and the N is 65\n",
        "The correlation between fb_vader_pos_mdn and fatigue is 0.176477746261 , the t statistic is 0.412896981006 and the p-value is 0.347924097638, and the N is 65\n",
        "The correlation between fb_vader_pos_mdn and fear is 0.0596128083903 , the t statistic is 0.13752888324 and the p-value is 0.44784145277, and the N is 65\n",
        "The correlation between fb_vader_pos_mdn and attentiveness is -0.160584431588 , the t statistic is -0.374677699736 and the p-value is 0.361209230221, and the N is 65\n",
        "The correlation between fb_vader_neg_mdn and joviality_1 is -0.0312863431664 , the t statistic is nan and the p-value is nan, and the N is 65\n",
        "The correlation between fb_vader_neg_mdn and joviality is -0.0815926146927 , the t statistic is nan and the p-value is nan, and the N is 65\n",
        "The correlation between fb_vader_neg_mdn and guilt is 0.354451676254 , the t statistic is nan and the p-value is nan, and the N is 65\n",
        "The correlation between fb_vader_neg_mdn and hostilitity is 0.0868941713117 , the t statistic is nan and the p-value is nan, and the N is 65\n",
        "The correlation between fb_vader_neg_mdn and self_assurance is -0.108877481589 , the t statistic is nan and the p-value is nan, and the N is 65\n",
        "The correlation between fb_vader_neg_mdn and hostility_1 is 0.149543901905 , the t statistic is nan and the p-value is nan, and the N is 65\n",
        "The correlation between fb_vader_neg_mdn and fatigue is -0.142337180698 , the t statistic is nan and the p-value is nan, and the N is 65\n",
        "The correlation between fb_vader_neg_mdn and fear is 0.0514934532566 , the t statistic is nan and the p-value is nan, and the N is 65\n",
        "The correlation between fb_vader_neg_mdn and attentiveness is 0.20984148771 , the t statistic is nan and the p-value is nan, and the N is 65\n",
        "The correlation between fb_vad_neu_mdn and joviality_1 is -0.0431271166559 , the t statistic is -0.300101089954 and the p-value is 0.382693531491, and the N is 65\n",
        "The correlation between fb_vad_neu_mdn and joviality is -0.0850187839107 , the t statistic is -0.593202621445 and the p-value is 0.277905743048, and the N is 65\n",
        "The correlation between fb_vad_neu_mdn and guilt is 0.002893819131 , the t statistic is 0.0201180596921 and the p-value is 0.492016010481, and the N is 65\n",
        "The correlation between fb_vad_neu_mdn and hostilitity is 0.0880831425115 , the t statistic is 0.61474786337 and the p-value is 0.270802408833, and the N is 65\n",
        "The correlation between fb_vad_neu_mdn and self_assurance is 0.186302652471 , the t statistic is 1.31826501866 and the p-value is 0.0968143008471, and the N is 65\n",
        "The correlation between fb_vad_neu_mdn and hostility_1 is 0.109710279726 , the t statistic is 0.767343341482 and the p-value is 0.223304995626, and the N is 65\n",
        "The correlation between fb_vad_neu_mdn and fatigue is -0.274866139279 , the t statistic is -1.98743414614 and the p-value is 0.0262783086292, and the N is 65\n",
        "The correlation between fb_vad_neu_mdn and fear is 0.0698186791609 , the t statistic is 0.486570330781 and the p-value is 0.314381047805, and the N is 65\n",
        "The correlation between fb_vad_neu_mdn and attentiveness is 0.0973133806334 , the t statistic is 0.67975374764 and the p-value is 0.249951701491, and the N is 65\n",
        "The correlation between fb_vad_comp_mdn and joviality_1 is -0.0763903343886 , the t statistic is -0.240492943858 and the p-value is 0.407438901249, and the N is 65\n",
        "The correlation between fb_vad_comp_mdn and joviality is -0.0883837494985 , the t statistic is -0.278527720467 and the p-value is 0.393182453697, and the N is 65\n",
        "The correlation between fb_vad_comp_mdn and guilt is 0.00565182209349 , the t statistic is 0.017741424032 and the p-value is 0.49309961636, and the N is 65"
       ]
      },
      {
       "output_type": "stream",
       "stream": "stdout",
       "text": [
        "\n",
        "The correlation between fb_vad_comp_mdn and hostilitity is -0.174450517205 , the t statistic is -0.556130100011 and the p-value is 0.29526310896, and the N is 65\n",
        "The correlation between fb_vad_comp_mdn and self_assurance is -0.263444009901 , the t statistic is -0.857236198327 and the p-value is 0.205839359008, and the N is 65\n",
        "The correlation between fb_vad_comp_mdn and hostility_1 is -0.190545201399 , the t statistic is -0.609286881438 and the p-value is 0.278060658534, and the N is 65\n",
        "The correlation between fb_vad_comp_mdn and fatigue is 0.0899035244982 , the t statistic is 0.283355749817 and the p-value is 0.391384095936, and the N is 65\n",
        "The correlation between fb_vad_comp_mdn and fear is 0.0226769335975 , the t statistic is 0.0712014897193 and the p-value is 0.472330905077, and the N is 65\n",
        "The correlation between fb_vad_comp_mdn and attentiveness is -0.132289694903 , the t statistic is -0.418941049692 and the p-value is 0.342122507318, and the N is 65\n",
        "The correlation between tw_vader_pos_mdn and joviality_1 is -0.0642222983401 , the t statistic is -0.0130309251068 and the p-value is 0.498717743628, and the N is 46\n",
        "The correlation between tw_vader_pos_mdn and joviality is -0.132700538727 , the t statistic is -0.0271095633486 and the p-value is 0.497338711661, and the N is 46\n",
        "The correlation between tw_vader_pos_mdn and guilt is 0.101178015894 , the t statistic is 0.0205926613565 and the p-value is 0.497975828473, and the N is 45\n",
        "The correlation between tw_vader_pos_mdn and hostilitity is 0.0107346108776 , the t statistic is 0.00217371828324 and the p-value is 0.499785954656, and the N is 46\n",
        "The correlation between tw_vader_pos_mdn and self_assurance is -0.0532200136657 , the t statistic is -0.0107915250716 and the p-value is 0.498937863747, and the N is 46\n",
        "The correlation between tw_vader_pos_mdn and hostility_1 is -0.0607609767373 , the t statistic is -0.0123259341588 and the p-value is 0.498787023969, and the N is 46\n",
        "The correlation between tw_vader_pos_mdn and fatigue is -0.0623582657827 , the t statistic is -0.0126512078723 and the p-value is 0.498755056971, and the N is 46\n",
        "The correlation between tw_vader_pos_mdn and fear is -0.0672244655396 , the t statistic is -0.0136427784604 and the p-value is 0.498657629047, and the N is 46\n",
        "The correlation between tw_vader_pos_mdn and attentiveness is 0.0539926127234 , the t statistic is 0.0109486412248 and the p-value is 0.498922415418, and the N is 46\n",
        "The correlation between tw_vader_neg_mdn and joviality_1 is -0.0717859237247 , the t statistic is nan and the p-value is nan, and the N is 46\n",
        "The correlation between tw_vader_neg_mdn and joviality is -0.0611073600413 , the t statistic is nan and the p-value is nan, and the N is 46\n",
        "The correlation between tw_vader_neg_mdn and guilt is -0.0707618591396 , the t statistic is nan and the p-value is nan, and the N is 45\n",
        "The correlation between tw_vader_neg_mdn and hostilitity is 0.0429799323841 , the t statistic is nan and the p-value is nan, and the N is 46\n",
        "The correlation between tw_vader_neg_mdn and self_assurance is 0.0285056664056 , the t statistic is nan and the p-value is nan, and the N is 46\n",
        "The correlation between tw_vader_neg_mdn and hostility_1 is 0.0956067111513 , the t statistic is nan and the p-value is nan, and the N is 46\n",
        "The correlation between tw_vader_neg_mdn and fatigue is -0.0382872375511 , the t statistic is nan and the p-value is nan, and the N is 46\n",
        "The correlation between tw_vader_neg_mdn and fear is 0.0798933005687 , the t statistic is nan and the p-value is nan, and the N is 46\n",
        "The correlation between tw_vader_neg_mdn and attentiveness is -0.0654262092749 , the t statistic is nan and the p-value is nan, and the N is 46\n",
        "The correlation between tw_vad_neu_mdn and joviality_1 is 0.0608885663061 , the t statistic is 0.362283127198 and the p-value is 0.359651125103, and the N is 46\n",
        "The correlation between tw_vad_neu_mdn and joviality is 0.170595226228 , the t statistic is 1.02821998931 and the p-value is 0.15542323304, and the N is 46\n",
        "The correlation between tw_vad_neu_mdn and guilt is -0.0385686744843 , the t statistic is -0.226795403019 and the p-value is 0.410960156284, and the N is 45\n",
        "The correlation between tw_vad_neu_mdn and hostilitity is -0.237412835987 , the t statistic is -1.45146961985 and the p-value is 0.0777432296579, and the N is 46\n",
        "The correlation between tw_vad_neu_mdn and self_assurance is 0.0711870436521 , the t statistic is 0.42384784319 and the p-value is 0.337125319226, and the N is 46\n",
        "The correlation between tw_vad_neu_mdn and hostility_1 is -0.138908002888 , the t statistic is -0.833036396533 and the p-value is 0.205214972464, and the N is 46\n",
        "The correlation between tw_vad_neu_mdn and fatigue is -0.392022015665 , the t statistic is -2.53075024144 and the p-value is 0.00799698231901, and the N is 46\n",
        "The correlation between tw_vad_neu_mdn and fear is -0.00762675816494 , the t statistic is -0.0452958501325 and the p-value is 0.482063492393, and the N is 46\n",
        "The correlation between tw_vad_neu_mdn and attentiveness is 0.133720554167 , the t statistic is 0.801349482286 and the p-value is 0.214147568603, and the N is 46\n",
        "The correlation between tw_vad_comp_mdn and joviality_1 is 0.0401138503931 , the t statistic is nan and the p-value is nan, and the N is 46\n",
        "The correlation between tw_vad_comp_mdn and joviality is 0.0181578160784 , the t statistic is nan and the p-value is nan, and the N is 46"
       ]
      },
      {
       "output_type": "stream",
       "stream": "stdout",
       "text": [
        "\n",
        "The correlation between tw_vad_comp_mdn and guilt is 0.0751425192031 , the t statistic is nan and the p-value is nan, and the N is 45\n",
        "The correlation between tw_vad_comp_mdn and hostilitity is -0.0460100601618 , the t statistic is nan and the p-value is nan, and the N is 46\n",
        "The correlation between tw_vad_comp_mdn and self_assurance is 0.118325017204 , the t statistic is nan and the p-value is nan, and the N is 46\n",
        "The correlation between tw_vad_comp_mdn and hostility_1 is -0.149185880345 , the t statistic is nan and the p-value is nan, and the N is 46\n",
        "The correlation between tw_vad_comp_mdn and fatigue is -0.179636686588 , the t statistic is nan and the p-value is nan, and the N is 46\n",
        "The correlation between tw_vad_comp_mdn and fear is -0.0433859261018 , the t statistic is nan and the p-value is nan, and the N is 46\n",
        "The correlation between tw_vad_comp_mdn and attentiveness is 0.161735243187 , the t statistic is nan and the p-value is nan, and the N is 46\n",
        "The correlation between tw_vader_pos_sd and joviality_1 is 0.171955316777 , the t statistic is 0.433677850816 and the p-value is 0.339635180207, and the N is 46\n",
        "The correlation between tw_vader_pos_sd and joviality is 0.112737409204 , the t statistic is 0.281889998316 and the p-value is 0.393620587734, and the N is 46\n",
        "The correlation between tw_vader_pos_sd and guilt is 0.00553805774482 , the t statistic is 0.0134939291537 and the p-value is 0.494837875806, and the N is 45\n",
        "The correlation between tw_vader_pos_sd and hostilitity is 0.021601745272 , the t statistic is 0.0536814501802 and the p-value is 0.47944217827, and the N is 46\n",
        "The correlation between tw_vader_pos_sd and self_assurance is -0.0197028194549 , the t statistic is -0.0489606007153 and the p-value is 0.481248313992, and the N is 46\n",
        "The correlation between tw_vader_pos_sd and hostility_1 is -0.0583179264557 , the t statistic is -0.145136248397 and the p-value is 0.444613488045, and the N is 46\n",
        "The correlation between tw_vader_pos_sd and fatigue is 0.370130350116 , the t statistic is 0.989879796282 and the p-value is 0.179717575278, and the N is 46\n",
        "The correlation between tw_vader_pos_sd and fear is -0.107204770072 , the t statistic is -0.267891079199 and the p-value is 0.39875552088, and the N is 46\n",
        "The correlation between tw_vader_pos_sd and attentiveness is 0.0406273429882 , the t statistic is 0.101020888194 and the p-value is 0.461367832031, and the N is 46\n",
        "The correlation between tw_vader_neg_sd and joviality_1 is 0.13462114046 , the t statistic is 0.271942781243 and the p-value is 0.399552036001, and the N is 46\n",
        "The correlation between tw_vader_neg_sd and joviality is 0.0287560696501 , the t statistic is 0.0575840237624 and the p-value is 0.478418701917, and the N is 46\n",
        "The correlation between tw_vader_neg_sd and guilt is 0.0129036285765 , the t statistic is 0.0252498087897 and the p-value is 0.490558298329, and the N is 45\n",
        "The correlation between tw_vader_neg_sd and hostilitity is 0.211551452537 , the t statistic is 0.433262645724 and the p-value is 0.343564665793, and the N is 46\n",
        "The correlation between tw_vader_neg_sd and self_assurance is -0.0175669952401 , the t statistic is -0.0351687839134 and the p-value is 0.486813764777, and the N is 46\n",
        "The correlation between tw_vader_neg_sd and hostility_1 is 0.129669344946 , the t statistic is 0.261765465898 and the p-value is 0.403204227668, and the N is 46\n",
        "The correlation between tw_vader_neg_sd and fatigue is 0.354451448367 , the t statistic is 0.758758247276 and the p-value is 0.245091432708, and the N is 46\n",
        "The correlation between tw_vader_neg_sd and fear is 0.0205590255013 , the t statistic is 0.041161118995 and the p-value is 0.484568459284, and the N is 46\n",
        "The correlation between tw_vader_neg_sd and attentiveness is -0.122571666969 , the t statistic is -0.247212298732 and the p-value is 0.40844741914, and the N is 46\n",
        "The correlation between tw_vad_neu_sd and joviality_1 is 0.216339019425 , the t statistic is 0.601598380846 and the p-value is 0.282739425045, and the N is 46\n",
        "The correlation between tw_vad_neu_sd and joviality is 0.129671835691 , the t statistic is 0.35505139415 and the p-value is 0.366247188901, and the N is 46\n",
        "The correlation between tw_vad_neu_sd and guilt is 0.0261978465724 , the t statistic is 0.069899478993 and the p-value is 0.473099013899, and the N is 45\n",
        "The correlation between tw_vad_neu_sd and hostilitity is 0.0828422578 , the t statistic is 0.225689078605 and the p-value is 0.413787018119, and the N is 46\n",
        "The correlation between tw_vad_neu_sd and self_assurance is 0.0335844004024 , the t statistic is 0.0912317263847 and the p-value is 0.464869297341, and the N is 46\n",
        "The correlation between tw_vad_neu_sd and hostility_1 is 0.0182384933344 , the t statistic is 0.0495249945167 and the p-value is 0.480908179457, and the N is 46\n",
        "The correlation between tw_vad_neu_sd and fatigue is 0.369169397783 , the t statistic is 1.07845979076 and the p-value is 0.157425592731, and the N is 46\n",
        "The correlation between tw_vad_neu_sd and fear is 0.00425957033801 , the t statistic is 0.0115646626061 and the p-value is 0.495539881036, and the N is 46"
       ]
      },
      {
       "output_type": "stream",
       "stream": "stdout",
       "text": [
        "\n",
        "The correlation between tw_vad_neu_sd and attentiveness is -0.0246987666811 , the t statistic is -0.067076594772 and the p-value is 0.474152066974, and the N is 46\n",
        "The correlation between tw_vad_comp_sd and joviality_1 is 0.0233698210737 , the t statistic is 0.0939183945617 and the p-value is 0.463164946119, and the N is 46\n",
        "The correlation between tw_vad_comp_sd and joviality is -0.104417808759 , the t statistic is -0.421824495658 and the p-value is 0.339358681758, and the N is 46\n",
        "The correlation between tw_vad_comp_sd and guilt is 0.0288414983693 , the t statistic is 0.114495109752 and the p-value is 0.455146280318, and the N is 45\n",
        "The correlation between tw_vad_comp_sd and hostilitity is 0.133115792645 , the t statistic is 0.539620619864 and the p-value is 0.298412357976, and the N is 46\n",
        "The correlation between tw_vad_comp_sd and self_assurance is -0.102884176489 , the t statistic is -0.415562184109 and the p-value is 0.341601092013, and the N is 46\n",
        "The correlation between tw_vad_comp_sd and hostility_1 is 0.0514898129906 , the t statistic is 0.207144986084 and the p-value is 0.419243610587, and the N is 46\n",
        "The correlation between tw_vad_comp_sd and fatigue is 0.395866558759 , the t statistic is 1.7319568668 and the p-value is 0.0511717988533, and the N is 46\n",
        "The correlation between tw_vad_comp_sd and fear is 0.0277434880487 , the t statistic is 0.111507713469 and the p-value is 0.456294273429, and the N is 46\n",
        "The correlation between tw_vad_comp_sd and attentiveness is -0.181050620498 , the t statistic is -0.739628910075 and the p-value is 0.235072967538, and the N is 46\n",
        "The correlation between fb_vader_pos_sd and joviality_1 is 0.184850778713 , the t statistic is 0.618634912725 and the p-value is 0.274480887805, and the N is 65\n",
        "The correlation between fb_vader_pos_sd and joviality is 0.19826063877 , the t statistic is 0.665285075562 and the p-value is 0.259900314982, and the N is 65\n",
        "The correlation between fb_vader_pos_sd and guilt is -0.178458183084 , the t statistic is -0.596524205894 and the p-value is 0.28155016753, and the N is 65\n",
        "The correlation between fb_vader_pos_sd and hostilitity is -0.218000458847 , the t statistic is -0.734672801736 and the p-value is 0.239081421341, and the N is 65\n",
        "The correlation between fb_vader_pos_sd and self_assurance is 0.0212292386543 , the t statistic is 0.0698386498693 and the p-value is 0.472798195225, and the N is 65\n",
        "The correlation between fb_vader_pos_sd and hostility_1 is -0.209265211344 , the t statistic is -0.703856885199 and the p-value is 0.248196822713, and the N is 65\n",
        "The correlation between fb_vader_pos_sd and fatigue is 0.213768827554 , the t statistic is 0.719722012502 and the p-value is 0.243477582258, and the N is 65\n",
        "The correlation between fb_vader_pos_sd and fear is -0.103849460192 , the t statistic is -0.343417452904 and the p-value is 0.36893295171, and the N is 65\n",
        "The correlation between fb_vader_pos_sd and attentiveness is -0.075638095627 , the t statistic is -0.249488199328 and the p-value is 0.4038285598, and the N is 65\n",
        "The correlation between fb_vader_neg_sd and joviality_1 is 0.16307586432 , the t statistic is 0.433203551473 and the p-value is 0.339071998096, and the N is 65\n",
        "The correlation between fb_vader_neg_sd and joviality is 0.154070282087 , the t statistic is 0.408681515371 and the p-value is 0.347606661497, and the N is 65\n",
        "The correlation between fb_vader_neg_sd and guilt is -0.12094863763 , the t statistic is -0.319337841743 and the p-value is 0.379481113039, and the N is 65\n",
        "The correlation between fb_vader_neg_sd and hostilitity is -0.0490251766142 , the t statistic is -0.128644460175 and the p-value is 0.450662178948, and the N is 65\n",
        "The correlation between fb_vader_neg_sd and self_assurance is 0.194676886072 , the t statistic is 0.520179778711 and the p-value is 0.309638411976, and the N is 65\n",
        "The correlation between fb_vader_neg_sd and hostility_1 is -0.0884425510872 , the t statistic is -0.232710441739 and the p-value is 0.411383858014, and the N is 65\n",
        "The correlation between fb_vader_neg_sd and fatigue is 0.197440242087 , the t statistic is 0.527860844023 and the p-value is 0.307105614344, and the N is 65\n",
        "The correlation between fb_vader_neg_sd and fear is -0.131871807123 , the t statistic is -0.348666958679 and the p-value is 0.368890659514, and the N is 65\n",
        "The correlation between fb_vader_neg_sd and attentiveness is 0.0757307831679 , the t statistic is 0.199053946614 and the p-value is 0.423992004067, and the N is 65\n",
        "The correlation between fb_vad_neu_sd and joviality_1 is 0.229314359692 , the t statistic is 0.812296845412 and the p-value is 0.216293499816, and the N is 65\n",
        "The correlation between fb_vad_neu_sd and joviality is 0.228611204509 , the t statistic is 0.80966849215 and the p-value is 0.217019226175, and the N is 65\n",
        "The correlation between fb_vad_neu_sd and guilt is -0.131462101866 , the t statistic is -0.457235356313 and the p-value is 0.327872498509, and the N is 65\n",
        "The correlation between fb_vad_neu_sd and hostilitity is -0.164769423884 , the t statistic is -0.575979566337 and the p-value is 0.287685553694, and the N is 65\n",
        "The correlation between fb_vad_neu_sd and self_assurance is 0.163550450919 , the t statistic is 0.571600877898 and the p-value is 0.289119982399, and the N is 65"
       ]
      },
      {
       "output_type": "stream",
       "stream": "stdout",
       "text": [
        "\n",
        "The correlation between fb_vad_neu_sd and hostility_1 is -0.160160753551 , the t statistic is -0.55943877216 and the p-value is 0.293124050381, and the N is 65\n",
        "The correlation between fb_vad_neu_sd and fatigue is 0.189046451138 , the t statistic is 0.663780905973 and the p-value is 0.259748293254, and the N is 65\n",
        "The correlation between fb_vad_neu_sd and fear is -0.109678371392 , the t statistic is -0.380454387457 and the p-value is 0.355159443581, and the N is 65\n",
        "The correlation between fb_vad_neu_sd and attentiveness is 0.0302910223424 , the t statistic is 0.104488114354 and the p-value is 0.459262089969, and the N is 65\n",
        "The correlation between fb_vad_comp_sd and joviality_1 is 0.0892835967465 , the t statistic is 0.458724705113 and the p-value is 0.32510827221, and the N is 65\n",
        "The correlation between fb_vad_comp_sd and joviality is 0.0759199056349 , the t statistic is 0.389630902962 and the p-value is 0.349980166129, and the N is 65\n",
        "The correlation between fb_vad_comp_sd and guilt is 0.0853397654564 , the t statistic is 0.438309821555 and the p-value is 0.332378165041, and the N is 65\n",
        "The correlation between fb_vad_comp_sd and hostilitity is -0.0621485464685 , the t statistic is -0.318649933745 and the p-value is 0.376259824543, and the N is 65\n",
        "The correlation between fb_vad_comp_sd and self_assurance is -0.232678889655 , the t statistic is -1.22429462926 and the p-value is 0.115870844652, and the N is 65\n",
        "The correlation between fb_vad_comp_sd and hostility_1 is -0.0578283831498 , the t statistic is -0.296422351221 and the p-value is 0.384622892448, and the N is 65\n",
        "The correlation between fb_vad_comp_sd and fatigue is 0.142738779731 , the t statistic is 0.737996703538 and the p-value is 0.233539462754, and the N is 65\n",
        "The correlation between fb_vad_comp_sd and fear is 0.0480548500261 , the t statistic is 0.24619644161 and the p-value is 0.403724870936, and the N is 65\n",
        "The correlation between fb_vad_comp_sd and attentiveness is -0.0486601988911 , the t statistic is -0.249305102969 and the p-value is 0.402534953464, and the N is 65\n",
        "The correlation between fb_vader_pos25 and joviality_1 is 0.102377060719 , the t statistic is nan and the p-value is nan, and the N is 65\n",
        "The correlation between fb_vader_pos25 and joviality is 0.0614854093231 , the t statistic is nan and the p-value is nan, and the N is 65\n",
        "The correlation between fb_vader_pos25 and guilt is -0.0159494190812 , the t statistic is nan and the p-value is nan, and the N is 65\n",
        "The correlation between fb_vader_pos25 and hostilitity is -0.111196753848 , the t statistic is nan and the p-value is nan, and the N is 65\n",
        "The correlation between fb_vader_pos25 and self_assurance is 0.034127677974 , the t statistic is nan and the p-value is nan, and the N is 65\n",
        "The correlation between fb_vader_pos25 and hostility_1 is -0.12208247879 , the t statistic is nan and the p-value is nan, and the N is 65\n",
        "The correlation between fb_vader_pos25 and fatigue is -0.023279093444 , the t statistic is nan and the p-value is nan, and the N is 65\n",
        "The correlation between fb_vader_pos25 and fear is 0.00467979719054 , the t statistic is nan and the p-value is nan, and the N is 65\n",
        "The correlation between fb_vader_pos25 and attentiveness is 0.0509055969171 , the t statistic is nan and the p-value is nan, and the N is 65\n",
        "The correlation between fb_vader_neg25 and joviality_1 is nan , the t statistic is nan and the p-value is nan, and the N is 65\n",
        "The correlation between fb_vader_neg25 and joviality is nan , the t statistic is nan and the p-value is nan, and the N is 65\n",
        "The correlation between fb_vader_neg25 and guilt is nan , the t statistic is nan and the p-value is nan, and the N is 65\n",
        "The correlation between fb_vader_neg25 and hostilitity is nan , the t statistic is nan and the p-value is nan, and the N is 65\n",
        "The correlation between fb_vader_neg25 and self_assurance is nan , the t statistic is nan and the p-value is nan, and the N is 65\n",
        "The correlation between fb_vader_neg25 and hostility_1 is nan , the t statistic is nan and the p-value is nan, and the N is 65\n",
        "The correlation between fb_vader_neg25 and fatigue is nan , the t statistic is nan and the p-value is nan, and the N is 65\n",
        "The correlation between fb_vader_neg25 and fear is nan , the t statistic is nan and the p-value is nan, and the N is 65\n",
        "The correlation between fb_vader_neg25 and attentiveness is nan , the t statistic is nan and the p-value is nan, and the N is 65\n",
        "The correlation between fb_vad_neu25 and joviality_1 is -0.120737262667 , the t statistic is -0.7472543115 and the p-value is 0.229769970926, and the N is 65"
       ]
      },
      {
       "output_type": "stream",
       "stream": "stdout",
       "text": [
        "\n",
        "The correlation between fb_vad_neu25 and joviality is -0.144581815618 , the t statistic is -0.897716811697 and the p-value is 0.187513550428, and the N is 65\n",
        "The correlation between fb_vad_neu25 and guilt is 0.117722070184 , the t statistic is 0.728327341848 and the p-value is 0.235453872175, and the N is 65\n",
        "The correlation between fb_vad_neu25 and hostilitity is 0.205665675241 , the t statistic is 1.29117481599 and the p-value is 0.102247357207, and the N is 65\n",
        "The correlation between fb_vad_neu25 and self_assurance is 0.0260320181352 , the t statistic is 0.159990201551 and the p-value is 0.436870948426, and the N is 65\n",
        "The correlation between fb_vad_neu25 and hostility_1 is 0.229718007546 , the t statistic is 1.4501260226 and the p-value is 0.077641256279, and the N is 65\n",
        "The correlation between fb_vad_neu25 and fatigue is -0.278152470474 , the t statistic is -1.77912800804 and the p-value is 0.0416363647357, and the N is 65\n",
        "The correlation between fb_vad_neu25 and fear is 0.138081535045 , the t statistic is 0.856552860327 and the p-value is 0.198548695737, and the N is 65\n",
        "The correlation between fb_vad_neu25 and attentiveness is 0.0632915708635 , the t statistic is 0.389633077959 and the p-value is 0.349498841374, and the N is 65\n",
        "The correlation between fb_vad_comp25 and joviality_1 is -0.0837486584838 , the t statistic is nan and the p-value is nan, and the N is 65\n",
        "The correlation between fb_vad_comp25 and joviality is -0.000931625752319 , the t statistic is nan and the p-value is nan, and the N is 65\n",
        "The correlation between fb_vad_comp25 and guilt is -0.160774441222 , the t statistic is nan and the p-value is nan, and the N is 65\n",
        "The correlation between fb_vad_comp25 and hostilitity is -0.28609367783 , the t statistic is nan and the p-value is nan, and the N is 65\n",
        "The correlation between fb_vad_comp25 and self_assurance is 0.114399217768 , the t statistic is nan and the p-value is nan, and the N is 65\n",
        "The correlation between fb_vad_comp25 and hostility_1 is -0.303446215394 , the t statistic is nan and the p-value is nan, and the N is 65\n",
        "The correlation between fb_vad_comp25 and fatigue is 0.0489883299879 , the t statistic is nan and the p-value is nan, and the N is 65\n",
        "The correlation between fb_vad_comp25 and fear is -0.0668105278528 , the t statistic is nan and the p-value is nan, and the N is 65\n",
        "The correlation between fb_vad_comp25 and attentiveness is -0.222992440831 , the t statistic is nan and the p-value is nan, and the N is 65\n",
        "The correlation between fb_vader_pos75 and joviality_1 is 0.0955339085818 , the t statistic is 0.394727448787 and the p-value is 0.348988268054, and the N is 65\n",
        "The correlation between fb_vader_pos75 and joviality is 0.130086878483 , the t statistic is 0.539620542082 and the p-value is 0.298245592751, and the N is 65\n",
        "The correlation between fb_vader_pos75 and guilt is -0.152826560736 , the t statistic is -0.636032818623 and the p-value is 0.26663338857, and the N is 65\n",
        "The correlation between fb_vader_pos75 and hostilitity is -0.279751369323 , the t statistic is -1.19844204535 and the p-value is 0.123633060453, and the N is 65\n",
        "The correlation between fb_vader_pos75 and self_assurance is -0.11692217196 , the t statistic is -0.48421112795 and the p-value is 0.317222767856, and the N is 65\n",
        "The correlation between fb_vader_pos75 and hostility_1 is -0.278191889217 , the t statistic is -1.19119920381 and the p-value is 0.12501090892, and the N is 65\n",
        "The correlation between fb_vader_pos75 and fatigue is 0.276723890759 , the t statistic is 1.1843905699 and the p-value is 0.126316791827, and the N is 65\n",
        "The correlation between fb_vader_pos75 and fear is -0.158450368066 , the t statistic is -0.660029744239 and the p-value is 0.259060802423, and the N is 65\n",
        "The correlation between fb_vader_pos75 and attentiveness is -0.107965129967 , the t statistic is -0.446661364364 and the p-value is 0.330392510982, and the N is 65\n",
        "The correlation between fb_vader_neg75 and joviality_1 is -0.0590313682401 , the t statistic is -0.116289897729 and the p-value is 0.456605047212, and the N is 65\n",
        "The correlation between fb_vader_neg75 and joviality is -0.0244619006209 , the t statistic is -0.0481195212695 and the p-value is 0.482001473519, and the N is 65\n",
        "The correlation between fb_vader_neg75 and guilt is 0.1739565027 , the t statistic is 0.347387614707 and the p-value is 0.37318913096, and the N is 65\n",
        "The correlation between fb_vader_neg75 and hostilitity is 0.236436443738 , the t statistic is 0.478527661991 and the p-value is 0.329033367562, and the N is 65\n",
        "The correlation between fb_vader_neg75 and self_assurance is -0.188305889324 , the t statistic is -0.377055000497 and the p-value is 0.36295318874, and the N is 65\n",
        "The correlation between fb_vader_neg75 and hostility_1 is 0.22690960634 , the t statistic is 0.458176261837 and the p-value is 0.335692304179, and the N is 65\n",
        "The correlation between fb_vader_neg75 and fatigue is 0.214979231116 , the t statistic is 0.432885091332 and the p-value is 0.344071140215, and the N is 65"
       ]
      },
      {
       "output_type": "stream",
       "stream": "stdout",
       "text": [
        "\n",
        "The correlation between fb_vader_neg75 and fear is 0.152926309142 , the t statistic is 0.304314018942 and the p-value is 0.388278701857, and the N is 65\n",
        "The correlation between fb_vader_neg75 and attentiveness is -0.114795419028 , the t statistic is -0.227251243139 and the p-value is 0.415866883366, and the N is 65\n",
        "The correlation between fb_vad_neu75 and joviality_1 is 0.112165145042 , the t statistic is 0.86532179455 and the p-value is 0.19519047026, and the N is 65\n",
        "The correlation between fb_vad_neu75 and joviality is 0.193048664682 , the t statistic is 1.50828879834 and the p-value is 0.0684191003039, and the N is 65\n",
        "The correlation between fb_vad_neu75 and guilt is -0.044929097887 , the t statistic is -0.344775927747 and the p-value is 0.365746846993, and the N is 65\n",
        "The correlation between fb_vad_neu75 and hostilitity is -0.0188134426076 , the t statistic is -0.144249926423 and the p-value is 0.442898329124, and the N is 65\n",
        "The correlation between fb_vad_neu75 and self_assurance is 0.218938834015 , the t statistic is 1.72012408548 and the p-value is 0.0453361560039, and the N is 65\n",
        "The correlation between fb_vad_neu75 and hostility_1 is 0.0145982333343 , the t statistic is 0.111922405929 and the p-value is 0.455633169705, and the N is 65\n",
        "The correlation between fb_vad_neu75 and fatigue is -0.102385324397 , the t statistic is -0.78903538939 and the p-value is 0.216631538638, and the N is 65\n",
        "The correlation between fb_vad_neu75 and fear is -0.118740206176 , the t statistic is -0.916751549599 and the p-value is 0.181509856845, and the N is 65\n",
        "The correlation between fb_vad_neu75 and attentiveness is 0.0600268488793 , the t statistic is 0.46099885207 and the p-value is 0.323250513954, and the N is 65\n",
        "The correlation between fb_vad_comp75 and joviality_1 is 0.051124607219 , the t statistic is 0.295705992275 and the p-value is 0.384643541324, and the N is 65\n",
        "The correlation between fb_vad_comp75 and joviality is 0.083671791623 , the t statistic is 0.485027642651 and the p-value is 0.315412982085, and the N is 65\n",
        "The correlation between fb_vad_comp75 and guilt is -0.0334962571305 , the t statistic is -0.193598457219 and the p-value is 0.423832015417, and the N is 65\n",
        "The correlation between fb_vad_comp75 and hostilitity is -0.242378248938 , the t statistic is -1.44311965317 and the p-value is 0.0791548810626, and the N is 65\n",
        "The correlation between fb_vad_comp75 and self_assurance is -0.24552884646 , the t statistic is -1.4630734962 and the p-value is 0.076402008576, and the N is 65\n",
        "The correlation between fb_vad_comp75 and hostility_1 is -0.216482928481 , the t statistic is -1.28087941969 and the p-value is 0.10453376331, and the N is 65\n",
        "The correlation between fb_vad_comp75 and fatigue is 0.192333117513 , the t statistic is 1.13214216283 and the p-value is 0.132822626789, and the N is 65\n",
        "The correlation between fb_vad_comp75 and fear is -0.0593027338152 , the t statistic is -0.343163873694 and the p-value is 0.366813958474, and the N is 65\n",
        "The correlation between fb_vad_comp75 and attentiveness is -0.101156913941 , the t statistic is -0.587341732671 and the p-value is 0.280463983054, and the N is 65\n",
        "The correlation between tw_vader_pos25 and joviality_1 is nan , the t statistic is nan and the p-value is nan, and the N is 46\n",
        "The correlation between tw_vader_pos25 and joviality is nan , the t statistic is nan and the p-value is nan, and the N is 46\n",
        "The correlation between tw_vader_pos25 and guilt is nan , the t statistic is nan and the p-value is nan, and the N is 45\n",
        "The correlation between tw_vader_pos25 and hostilitity is nan , the t statistic is nan and the p-value is nan, and the N is 46\n",
        "The correlation between tw_vader_pos25 and self_assurance is nan , the t statistic is nan and the p-value is nan, and the N is 46\n",
        "The correlation between tw_vader_pos25 and hostility_1 is nan , the t statistic is nan and the p-value is nan, and the N is 46\n",
        "The correlation between tw_vader_pos25 and fatigue is nan , the t statistic is nan and the p-value is nan, and the N is 46\n",
        "The correlation between tw_vader_pos25 and fear is nan , the t statistic is nan and the p-value is nan, and the N is 46\n",
        "The correlation between tw_vader_pos25 and attentiveness is nan , the t statistic is nan and the p-value is nan, and the N is 46\n",
        "The correlation between tw_vader_neg25 and joviality_1 is nan , the t statistic is nan and the p-value is nan, and the N is 46\n",
        "The correlation between tw_vader_neg25 and joviality is nan , the t statistic is nan and the p-value is nan, and the N is 46\n",
        "The correlation between tw_vader_neg25 and guilt is nan , the t statistic is nan and the p-value is nan, and the N is 45\n",
        "The correlation between tw_vader_neg25 and hostilitity is nan , the t statistic is nan and the p-value is nan, and the N is 46\n",
        "The correlation between tw_vader_neg25 and self_assurance is nan , the t statistic is nan and the p-value is nan, and the N is 46"
       ]
      },
      {
       "output_type": "stream",
       "stream": "stdout",
       "text": [
        "\n",
        "The correlation between tw_vader_neg25 and hostility_1 is nan , the t statistic is nan and the p-value is nan, and the N is 46\n",
        "The correlation between tw_vader_neg25 and fatigue is nan , the t statistic is nan and the p-value is nan, and the N is 46\n",
        "The correlation between tw_vader_neg25 and fear is nan , the t statistic is nan and the p-value is nan, and the N is 46\n",
        "The correlation between tw_vader_neg25 and attentiveness is nan , the t statistic is nan and the p-value is nan, and the N is 46\n",
        "The correlation between tw_vad_neu25 and joviality_1 is -0.00167580614921 , the t statistic is -0.00886798053332 and the p-value is 0.496493672517, and the N is 46\n",
        "The correlation between tw_vad_neu25 and joviality is 0.0807316154018 , the t statistic is 0.428611573603 and the p-value is 0.335742524647, and the N is 46\n",
        "The correlation between tw_vad_neu25 and guilt is 0.0307902791997 , the t statistic is 0.161418037332 and the p-value is 0.436473021963, and the N is 45\n",
        "The correlation between tw_vad_neu25 and hostilitity is -0.103107582608 , the t statistic is -0.5485444625 and the p-value is 0.293832657249, and the N is 46\n",
        "The correlation between tw_vad_neu25 and self_assurance is 0.0229258485892 , the t statistic is 0.121350039723 and the p-value is 0.452140197352, and the N is 46\n",
        "The correlation between tw_vad_neu25 and hostility_1 is -0.0402483949652 , the t statistic is -0.213157666384 and the p-value is 0.416374123406, and the N is 46\n",
        "The correlation between tw_vad_neu25 and fatigue is -0.4349723908 , the t statistic is -2.55626236382 and the p-value is 0.0081460365561, and the N is 46\n",
        "The correlation between tw_vad_neu25 and fear is -0.0203925909004 , the t statistic is -0.107935192295 and the p-value is 0.457408380703, and the N is 46\n",
        "The correlation between tw_vad_neu25 and attentiveness is 0.169437705592 , the t statistic is 0.909778672395 and the p-value is 0.185351948592, and the N is 46\n",
        "The correlation between tw_vad_comp25 and joviality_1 is 0.0789585984904 , the t statistic is nan and the p-value is nan, and the N is 46\n",
        "The correlation between tw_vad_comp25 and joviality is 0.031465422844 , the t statistic is nan and the p-value is nan, and the N is 46\n",
        "The correlation between tw_vad_comp25 and guilt is 0.0259996023174 , the t statistic is nan and the p-value is nan, and the N is 45\n",
        "The correlation between tw_vad_comp25 and hostilitity is -0.213657041648 , the t statistic is nan and the p-value is nan, and the N is 46\n",
        "The correlation between tw_vad_comp25 and self_assurance is 0.0784715329609 , the t statistic is nan and the p-value is nan, and the N is 46\n",
        "The correlation between tw_vad_comp25 and hostility_1 is -0.288537577925 , the t statistic is nan and the p-value is nan, and the N is 46\n",
        "The correlation between tw_vad_comp25 and fatigue is -0.0631917408164 , the t statistic is nan and the p-value is nan, and the N is 46\n",
        "The correlation between tw_vad_comp25 and fear is -0.105079648357 , the t statistic is nan and the p-value is nan, and the N is 46\n",
        "The correlation between tw_vad_comp25 and attentiveness is 0.25435893695 , the t statistic is nan and the p-value is nan, and the N is 46\n",
        "The correlation between tw_vader_pos75 and joviality_1 is -0.0224515813672 , the t statistic is -0.0676844661948 and the p-value is 0.473751623615, and the N is 46\n",
        "The correlation between tw_vader_pos75 and joviality is -0.089196102459 , the t statistic is -0.269906277062 and the p-value is 0.396631995922, and the N is 46\n",
        "The correlation between tw_vader_pos75 and guilt is -0.0560750582483 , the t statistic is -0.166207218417 and the p-value is 0.435883790826, and the N is 45\n",
        "The correlation between tw_vader_pos75 and hostilitity is 0.0101027531663 , the t statistic is 0.0304505045656 and the p-value is 0.488183160005, and the N is 46\n",
        "The correlation between tw_vader_pos75 and self_assurance is -0.0610093447329 , the t statistic is -0.184220818486 and the p-value is 0.428943625148, and the N is 46\n",
        "The correlation between tw_vader_pos75 and hostility_1 is -0.072542080236 , the t statistic is -0.219214014147 and the p-value is 0.415664933021, and the N is 46\n",
        "The correlation between tw_vader_pos75 and fatigue is 0.398369365623 , the t statistic is 1.30900889913 and the p-value is 0.111337674249, and the N is 46\n",
        "The correlation between tw_vader_pos75 and fear is -0.106394035364 , the t statistic is -0.322494212793 and the p-value is 0.377188619616, and the N is 46\n",
        "The correlation between tw_vader_pos75 and attentiveness is -0.0856266341743 , the t statistic is -0.259023657358 and the p-value is 0.400695658448, and the N is 46\n",
        "The correlation between tw_vader_neg75 and joviality_1 is 0.0517078262341 , the t statistic is 0.0782716525991 and the p-value is 0.471968601508, and the N is 46\n",
        "The correlation between tw_vader_neg75 and joviality is -0.0292058340854 , the t statistic is -0.044169427883 and the p-value is 0.48416581451, and the N is 46\n",
        "The correlation between tw_vader_neg75 and guilt is -0.0197639365496 , the t statistic is -0.0289059687249 and the p-value is 0.489706520253, and the N is 45"
       ]
      },
      {
       "output_type": "stream",
       "stream": "stdout",
       "text": [
        "\n",
        "The correlation between tw_vader_neg75 and hostilitity is 0.378022812781 , the t statistic is 0.617261850452 and the p-value is 0.296490602451, and the N is 46\n",
        "The correlation between tw_vader_neg75 and self_assurance is 0.0215467714694 , the t statistic is 0.0325799115684 and the p-value is 0.488318022948, and the N is 46\n",
        "The correlation between tw_vader_neg75 and hostility_1 is 0.268907188342 , the t statistic is 0.422054062432 and the p-value is 0.354714670505, and the N is 46\n",
        "The correlation between tw_vader_neg75 and fatigue is 0.189577678674 , the t statistic is 0.291878401827 and the p-value is 0.397391990215, and the N is 46\n",
        "The correlation between tw_vader_neg75 and fear is 0.0450537924571 , the t statistic is 0.0681772431589 and the p-value is 0.475575079991, and the N is 46\n",
        "The correlation between tw_vader_neg75 and attentiveness is -0.143484859576 , the t statistic is -0.219174590781 and the p-value is 0.422281887426, and the N is 46\n",
        "The correlation between tw_vad_neu75 and joviality_1 is -0.17864316575 , the t statistic is -1.20046157754 and the p-value is 0.118212479945, and the N is 46\n",
        "The correlation between tw_vad_neu75 and joviality is -0.0791510850676 , the t statistic is -0.52497729829 and the p-value is 0.301125713267, and the N is 46\n",
        "The correlation between tw_vad_neu75 and guilt is -0.147967672348 , the t statistic is -0.977840440759 and the p-value is 0.166829494212, and the N is 45\n",
        "The correlation between tw_vad_neu75 and hostilitity is -0.0743740827736 , the t statistic is -0.493111436326 and the p-value is 0.312200949977, and the N is 46\n",
        "The correlation between tw_vad_neu75 and self_assurance is -0.215323701552 , the t statistic is -1.45787252932 and the p-value is 0.0760113877403, and the N is 46\n",
        "The correlation between tw_vad_neu75 and hostility_1 is 0.0685973729723 , the t statistic is 0.454622232817 and the p-value is 0.325815293674, and the N is 46\n",
        "The correlation between tw_vad_neu75 and fatigue is 0.106158070869 , the t statistic is 0.705883494324 and the p-value is 0.242002773969, and the N is 46\n",
        "The correlation between tw_vad_neu75 and fear is -0.0441777232581 , the t statistic is -0.292379225461 and the p-value is 0.385689951387, and the N is 46\n",
        "The correlation between tw_vad_neu75 and attentiveness is -0.0902185909536 , the t statistic is -0.598948781891 and the p-value is 0.276149190954, and the N is 46\n",
        "The correlation between tw_vad_comp75 and joviality_1 is -0.0333491875612 , the t statistic is -0.139223604707 and the p-value is 0.44543569643, and the N is 46\n",
        "The correlation between tw_vad_comp75 and joviality is -0.0821990335205 , the t statistic is -0.344131844425 and the p-value is 0.3674344579, and the N is 46\n",
        "The correlation between tw_vad_comp75 and guilt is -0.0935586063256 , the t statistic is -0.387308139145 and the p-value is 0.351668830767, and the N is 45\n",
        "The correlation between tw_vad_comp75 and hostilitity is -0.113368595631 , the t statistic is -0.476088515634 and the p-value is 0.319965677266, and the N is 46\n",
        "The correlation between tw_vad_comp75 and self_assurance is -0.0857532310192 , the t statistic is -0.359119664991 and the p-value is 0.361912138149, and the N is 46\n",
        "The correlation between tw_vad_comp75 and hostility_1 is -0.132517785011 , the t statistic is -0.557837030102 and the p-value is 0.292029327574, and the N is 46\n",
        "The correlation between tw_vad_comp75 and fatigue is 0.336491398721 , the t statistic is 1.49091739539 and the p-value is 0.0769401006974, and the N is 46\n",
        "The correlation between tw_vad_comp75 and fear is -0.105439272549 , the t statistic is -0.442400917808 and the p-value is 0.331823183456, and the N is 46\n",
        "The correlation between tw_vad_comp75 and attentiveness is -0.0989383910086 , the t statistic is -0.414845997716 and the p-value is 0.341661034743, and the N is 46\n",
        "The correlation between status_num and joviality_1 is -0.0598431172166 , the t statistic is -9.53760481073 and the p-value is 0.0, and the N is 67\n",
        "The correlation between status_num and joviality is 0.0832128829545 , the t statistic is 13.2845082244 and the p-value is 0.0, and the N is 67\n",
        "The correlation between status_num and guilt is 0.0688961415035 , the t statistic is 10.9868742754 and the p-value is 0.0, and the N is 67\n",
        "The correlation between status_num and hostilitity is -0.167562383768 , the t statistic is -27.0400012238 and the p-value is 0.0, and the N is 67\n",
        "The correlation between status_num and self_assurance is -0.319352148188 , the t statistic is -53.613518679 and the p-value is 0.0, and the N is 67\n",
        "The correlation between status_num and hostility_1 is -0.0867774152531 , the t statistic is -13.8577958365 and the p-value is 0.0, and the N is 67\n",
        "The correlation between status_num and fatigue is 0.200873472063 , the t statistic is 32.6221258972 and the p-value is 0.0, and the N is 67\n",
        "The correlation between status_num and fear is -0.0648075388761 , the t statistic is -10.3320272847 and the p-value is 0.0, and the N is 67\n",
        "The correlation between status_num and attentiveness is -0.220835835176 , the t statistic is -36.0223881149 and the p-value is 0.0, and the N is 67\n",
        "The correlation between tweet_num and joviality_1 is 0.0687928352414 , the t statistic is 19.0876676039 and the p-value is 0.0, and the N is 46"
       ]
      },
      {
       "output_type": "stream",
       "stream": "stdout",
       "text": [
        "\n",
        "The correlation between tweet_num and joviality is 0.115267122532 , the t statistic is 32.1210323445 and the p-value is 0.0, and the N is 46\n",
        "The correlation between tweet_num and guilt is -0.0801636038214 , the t statistic is -21.7996700854 and the p-value is 0.0, and the N is 45\n",
        "The correlation between tweet_num and hostilitity is 0.153084721801 , the t statistic is 42.880597925 and the p-value is 0.0, and the N is 46\n",
        "The correlation between tweet_num and self_assurance is -0.224307520564 , the t statistic is -63.7137785436 and the p-value is 0.0, and the N is 46\n",
        "The correlation between tweet_num and hostility_1 is 0.0488006713456 , the t statistic is 13.5245594292 and the p-value is 0.0, and the N is 46\n",
        "The correlation between tweet_num and fatigue is 0.283250941995 , the t statistic is 81.7544831837 and the p-value is 0.0, and the N is 46\n",
        "The correlation between tweet_num and fear is -0.261749655259 , the t statistic is -75.0718758114 and the p-value is 0.0, and the N is 46\n",
        "The correlation between tweet_num and attentiveness is -0.202877066086 , the t statistic is -57.350770509 and the p-value is 0.0, and the N is 46\n"
       ]
      }
     ],
     "prompt_number": 33
    },
    {
     "cell_type": "code",
     "collapsed": false,
     "input": [
      "Pair_Cor(survey, pair_list_corr)"
     ],
     "language": "python",
     "metadata": {},
     "outputs": [
      {
       "output_type": "stream",
       "stream": "stdout",
       "text": [
        "The correlation between tw_vader_pos and joviality_1 is 0.0245551078063 , the t statistic is 0.536453402085 and the p-value is 0.295947662031\n",
        "The correlation between tw_vader_pos and joviality is 0.00555625697627 , the t statistic is 0.12135235729 and the p-value is 0.451731527106\n",
        "The correlation between tw_vader_pos and guilt is -0.0196679041728 , the t statistic is -0.429636616451 and the p-value is 0.333827001318\n",
        "The correlation between tw_vader_pos and hostilitity is -0.0518417522159 , the t statistic is -1.13376551954 and the p-value is 0.128731201716\n",
        "The correlation between tw_vader_pos and self_assurance is -0.0108092840403 , the t statistic is -0.236092119892 and the p-value is 0.406731263857\n",
        "The correlation between tw_vader_pos and hostility_1 is -0.0449042397451 , the t statistic is -0.981713658124 and the p-value is 0.163369297087\n",
        "The correlation between tw_vader_pos and fatigue is 0.0295929920905 , the t statistic is 0.646603895252 and the p-value is 0.259099665897\n",
        "The correlation between tw_vader_pos and fear is 0.026034799604 , the t statistic is 0.56880140873 and the p-value is 0.284879310501\n",
        "The correlation between tw_vader_pos and attentiveness is 0.0171888544455 , the t statistic is 0.375465718735 and the p-value is 0.35374052079\n",
        "The correlation between tw_vader_neg and joviality_1 is -0.165904126831 , the t statistic is -3.67431996565 and the p-value is 0.000132760640041\n",
        "The correlation between tw_vader_neg and joviality is -0.169194679177 , the t statistic is -3.7493228703 and the p-value is 9.9538010687e-05\n",
        "The correlation between tw_vader_neg and guilt is 0.0868051509114 , the t statistic is 1.90303648797 and the p-value is 0.0288187750349\n",
        "The correlation between tw_vader_neg and hostilitity is 0.114074885687 , the t statistic is 2.50780366676 and the p-value is 0.00623974218618\n",
        "The correlation between tw_vader_neg and self_assurance is -0.0615385446401 , the t statistic is -1.34657425404 and the p-value is 0.0893784340936\n",
        "The correlation between tw_vader_neg and hostility_1 is 0.0878423102415 , the t statistic is 1.92594998056 and the p-value is 0.0273523069619\n",
        "The correlation between tw_vader_neg and fatigue is 0.114764459295 , the t statistic is 2.52316485295 and the p-value is 0.0059771585951\n",
        "The correlation between tw_vader_neg and fear is -0.0125684313208 , the t statistic is -0.274520366679 and the p-value is 0.391901802973\n",
        "The correlation between tw_vader_neg and attentiveness is -0.155464489636 , the t statistic is -3.43718680483 and the p-value is 0.000319615124859\n",
        "The correlation between tw_vad_neutral and joviality_1 is 0.0500460035872 , the t statistic is 1.09439258531 and the p-value is 0.137167574492\n",
        "The correlation between tw_vad_neutral and joviality is 0.0705447296408 , the t statistic is 1.5445682627 and the p-value is 0.0615569392064\n",
        "The correlation between tw_vad_neutral and guilt is -0.0223632737773 , the t statistic is -0.488543451228 and the p-value is 0.312694738133\n",
        "The correlation between tw_vad_neutral and hostilitity is 0.00115505987058 , the t statistic is 0.025226905188 and the p-value is 0.489942263238\n",
        "The correlation between tw_vad_neutral and self_assurance is 0.0372210761026 , the t statistic is 0.813484271993 and the p-value is 0.208173164318\n",
        "The correlation between tw_vad_neutral and hostility_1 is 0.00610711557597 , the t statistic is 0.133383904922 and the p-value is 0.446973013293\n",
        "The correlation between tw_vad_neutral and fatigue is -0.080175488912 , the t statistic is -1.75671438776 and the p-value is 0.039804053915\n",
        "The correlation between tw_vad_neutral and fear is -0.0232423876877 , the t statistic is -0.507758575666 and the p-value is 0.305928681159\n",
        "The correlation between tw_vad_neutral and attentiveness is 0.0524546231656 , the t statistic is 1.14720561062 and the p-value is 0.125935867613\n",
        "The correlation between tw_vad_comp and joviality_1 is 0.115006373335 , the t statistic is 2.52855469044 and the p-value is 0.00588738129278\n",
        "The correlation between tw_vad_comp and joviality is 0.100257780368 , the t statistic is 2.20075147125 and the p-value is 0.0141160404537\n",
        "The correlation between tw_vad_comp and guilt is -0.0804223557106 , the t statistic is -1.76215861095 and the p-value is 0.0393414790894\n",
        "The correlation between tw_vad_comp and hostilitity is -0.133159630513 , the t statistic is -2.93438206504 and the p-value is 0.00175162285821\n",
        "The correlation between tw_vad_comp and self_assurance is -0.00219901588081 , the t statistic is -0.0480273479042 and the p-value is 0.480857274555\n",
        "The correlation between tw_vad_comp and hostility_1 is -0.104004876128 , the t statistic is -2.28388678562 and the p-value is 0.0114084270936\n",
        "The correlation between tw_vad_comp and fatigue is -0.00090831927262 , the t statistic is -0.0198380005413 and the p-value is 0.492090449535\n",
        "The correlation between tw_vad_comp and fear is 0.028498541776 , the t statistic is 0.622670454964 and the p-value is 0.266899329373\n",
        "The correlation between tw_vad_comp and attentiveness is 0.089668962151 , the t statistic is 1.96632077236 and the p-value is 0.0249205003219\n",
        "The correlation between fb_vader_pos_mdn and joviality_1 is nan , the t statistic is nan and the p-value is nan\n",
        "The correlation between fb_vader_pos_mdn and joviality is nan , the t statistic is nan and the p-value is nan\n",
        "The correlation between fb_vader_pos_mdn and guilt is nan , the t statistic is nan and the p-value is nan\n",
        "The correlation between fb_vader_pos_mdn and hostilitity is nan , the t statistic is nan and the p-value is nan\n",
        "The correlation between fb_vader_pos_mdn and self_assurance is nan , the t statistic is nan and the p-value is nan\n",
        "The correlation between fb_vader_pos_mdn and hostility_1 is nan , the t statistic is nan and the p-value is nan\n",
        "The correlation between fb_vader_pos_mdn and fatigue is nan , the t statistic is nan and the p-value is nan\n",
        "The correlation between fb_vader_pos_mdn and fear is nan , the t statistic is nan and the p-value is nan\n",
        "The correlation between fb_vader_pos_mdn and attentiveness is nan , the t statistic is nan and the p-value is nan\n",
        "The correlation between fb_vader_neg_mdn and joviality_1 is nan , the t statistic is nan and the p-value is nan\n",
        "The correlation between fb_vader_neg_mdn and joviality is nan , the t statistic is nan and the p-value is nan\n",
        "The correlation between fb_vader_neg_mdn and guilt is nan , the t statistic is nan and the p-value is nan\n",
        "The correlation between fb_vader_neg_mdn and hostilitity is nan , the t statistic is nan and the p-value is nan\n",
        "The correlation between fb_vader_neg_mdn and self_assurance is nan , the t statistic is nan and the p-value is nan\n",
        "The correlation between fb_vader_neg_mdn and hostility_1 is nan , the t statistic is nan and the p-value is nan\n",
        "The correlation between fb_vader_neg_mdn and fatigue is nan , the t statistic is nan and the p-value is nan\n",
        "The correlation between fb_vader_neg_mdn and fear is nan , the t statistic is nan and the p-value is nan\n",
        "The correlation between fb_vader_neg_mdn and attentiveness is nan , the t statistic is nan and the p-value is nan\n",
        "The correlation between fb_vad_neu_mdn and joviality_1 is nan , the t statistic is nan and the p-value is nan\n",
        "The correlation between fb_vad_neu_mdn and joviality is nan , the t statistic is nan and the p-value is nan\n",
        "The correlation between fb_vad_neu_mdn and guilt is nan , the t statistic is nan and the p-value is nan\n",
        "The correlation between fb_vad_neu_mdn and hostilitity is nan , the t statistic is nan and the p-value is nan\n",
        "The correlation between fb_vad_neu_mdn and self_assurance is nan , the t statistic is nan and the p-value is nan\n",
        "The correlation between fb_vad_neu_mdn and hostility_1 is nan , the t statistic is nan and the p-value is nan\n",
        "The correlation between fb_vad_neu_mdn and fatigue is nan , the t statistic is nan and the p-value is nan\n",
        "The correlation between fb_vad_neu_mdn and fear is nan , the t statistic is nan and the p-value is nan\n",
        "The correlation between fb_vad_neu_mdn and attentiveness is nan , the t statistic is nan and the p-value is nan\n",
        "The correlation between fb_vad_comp_mdn and joviality_1 is nan , the t statistic is nan and the p-value is nan\n",
        "The correlation between fb_vad_comp_mdn and joviality is nan , the t statistic is nan and the p-value is nan\n",
        "The correlation between fb_vad_comp_mdn and guilt is nan , the t statistic is nan and the p-value is nan\n",
        "The correlation between fb_vad_comp_mdn and hostilitity is nan , the t statistic is nan and the p-value is nan\n",
        "The correlation between fb_vad_comp_mdn and self_assurance is nan , the t statistic is nan and the p-value is nan\n",
        "The correlation between fb_vad_comp_mdn and hostility_1 is nan , the t statistic is nan and the p-value is nan\n",
        "The correlation between fb_vad_comp_mdn and fatigue is nan , the t statistic is nan and the p-value is nan\n",
        "The correlation between fb_vad_comp_mdn and fear is nan , the t statistic is nan and the p-value is nan\n",
        "The correlation between fb_vad_comp_mdn and attentiveness is nan , the t statistic is nan and the p-value is nan\n",
        "The correlation between tw_vader_pos_mdn and joviality_1 is -0.0225042019916 , the t statistic is -0.491623694906 and the p-value is 0.311605766997\n",
        "The correlation between tw_vader_pos_mdn and joviality is -0.0408237964235 , the t statistic is -0.892349068859 and the p-value is 0.186327898808\n",
        "The correlation between tw_vader_pos_mdn and guilt is 0.00268464523717 , the t statistic is 0.0586337483174 and the p-value is 0.476634192294\n",
        "The correlation between tw_vader_pos_mdn and hostilitity is 0.00970411999058 , the t statistic is 0.21195115968 and the p-value is 0.41611783548\n",
        "The correlation between tw_vader_pos_mdn and self_assurance is -0.041659463429 , the t statistic is -0.910646977106 and the p-value is 0.181470676111\n",
        "The correlation between tw_vader_pos_mdn and hostility_1 is 0.0250728393503 , the t statistic is 0.54777128165 and the p-value is 0.292052591757\n",
        "The correlation between tw_vader_pos_mdn and fatigue is -0.0380872625781 , the t statistic is -0.832442376906 and the p-value is 0.202787931466\n",
        "The correlation between tw_vader_pos_mdn and fear is 0.0351147171706 , the t statistic is 0.767390257863 and the p-value is 0.221614596317\n",
        "The correlation between tw_vader_pos_mdn and attentiveness is 0.0245616463242 , the t statistic is 0.53659633476 and the p-value is 0.295898322611\n",
        "The correlation between tw_vader_neg_mdn and joviality_1 is -0.038988871722 , the t statistic is -0.852177769523 and the p-value is 0.197271541881\n",
        "The correlation between tw_vader_neg_mdn and joviality is -0.0228295951387 , the t statistic is -0.498735869129 and the p-value is 0.309097688815\n",
        "The correlation between tw_vader_neg_mdn and guilt is 0.0121755051585 , the t statistic is 0.265936758886 and the p-value is 0.395201409872"
       ]
      },
      {
       "output_type": "stream",
       "stream": "stdout",
       "text": [
        "\n",
        "The correlation between tw_vader_neg_mdn and hostilitity is 0.0300702179408 , the t statistic is 0.65704059416 and the p-value is 0.255735848816\n",
        "The correlation between tw_vader_neg_mdn and self_assurance is 0.0295582908609 , the t statistic is 0.645845013464 and the p-value is 0.259345150478\n",
        "The correlation between tw_vader_neg_mdn and hostility_1 is 0.0710946665155 , the t statistic is 1.55666999463 and the p-value is 0.0601060298747\n",
        "The correlation between tw_vader_neg_mdn and fatigue is 0.0124685603459 , the t statistic is 0.272338638824 and the p-value is 0.39273974786\n",
        "The correlation between tw_vader_neg_mdn and fear is 0.0215813318568 , the t statistic is 0.471453205792 and the p-value is 0.318766343327\n",
        "The correlation between tw_vader_neg_mdn and attentiveness is -0.0238796890159 , the t statistic is -0.521689045546 and the p-value is 0.301064498131\n",
        "The correlation between tw_vad_neu_mdn and joviality_1 is 0.0430841253284 , the t statistic is 0.94184605369 and the p-value is 0.173374104138\n",
        "The correlation between tw_vad_neu_mdn and joviality is 0.0684423795735 , the t statistic is 1.4983175815 and the p-value is 0.067356111075\n",
        "The correlation between tw_vad_neu_mdn and guilt is -0.014820510565 , the t statistic is -0.323720390729 and the p-value is 0.373145807982\n",
        "The correlation between tw_vad_neu_mdn and hostilitity is -0.00592106984542 , the t statistic is -0.129320384356 and the p-value is 0.448579326776\n",
        "The correlation between tw_vad_neu_mdn and self_assurance is 0.033348345827 , the t statistic is 0.728744202112 and the p-value is 0.233257889135\n",
        "The correlation between tw_vad_neu_mdn and hostility_1 is -0.0122938462108 , the t statistic is -0.26852194692 and the p-value is 0.394206837684\n",
        "The correlation between tw_vad_neu_mdn and fatigue is -0.0901063437078 , the t statistic is -1.9759902844 and the p-value is 0.0243658333382\n",
        "The correlation between tw_vad_neu_mdn and fear is -0.0274364581661 , the t statistic is -0.599446953357 and the p-value is 0.274579743676\n",
        "The correlation between tw_vad_neu_mdn and attentiveness is 0.0173027736626 , the t statistic is 0.377954862387 and the p-value is 0.35281612747\n",
        "The correlation between tw_vad_comp_mdn and joviality_1 is 0.0272238056018 , the t statistic is 0.59479734275 and the p-value is 0.276130489226\n",
        "The correlation between tw_vad_comp_mdn and joviality is 0.00751349726568 , the t statistic is 0.164101889299 and the p-value is 0.434860222637\n",
        "The correlation between tw_vad_comp_mdn and guilt is 0.0176197934712 , the t statistic is 0.384881847383 and the p-value is 0.350248251877\n",
        "The correlation between tw_vad_comp_mdn and hostilitity is -0.0365463253535 , the t statistic is -0.798717369089 and the p-value is 0.212425905478\n",
        "The correlation between tw_vad_comp_mdn and self_assurance is -0.0210468104006 , the t statistic is -0.459771120885 and the p-value is 0.322944998451\n",
        "The correlation between tw_vad_comp_mdn and hostility_1 is -0.0063034131531 , the t statistic is -0.137671356373 and the p-value is 0.445279125853\n",
        "The correlation between tw_vad_comp_mdn and fatigue is -0.039857018155 , the t statistic is -0.871182663619 and the p-value is 0.192046333827\n",
        "The correlation between tw_vad_comp_mdn and fear is 0.043180183249 , the t statistic is 0.943949858438 and the p-value is 0.172836568788\n",
        "The correlation between tw_vad_comp_mdn and attentiveness is 0.0451162122763 , the t statistic is 0.986357312474 and the p-value is 0.162228927022\n",
        "The correlation between tw_vader_pos_sd and joviality_1 is 0.100973303213 , the t statistic is 2.21661906943 and the p-value is 0.0135600409887\n",
        "The correlation between tw_vader_pos_sd and joviality is 0.0726117426642 , the t statistic is 1.59006170989 and the p-value is 0.0562417083419\n",
        "The correlation between tw_vader_pos_sd and guilt is -0.0972901671155 , the t statistic is -2.13497753025 and the p-value is 0.0166358909256\n",
        "The correlation between tw_vader_pos_sd and hostilitity is -0.15094007412 , the t statistic is -3.33478792892 and the p-value is 0.000460089819774\n",
        "The correlation between tw_vader_pos_sd and self_assurance is 0.0743149049597 , the t statistic is 1.6275625198 and the p-value is 0.0521390002709\n",
        "The correlation between tw_vader_pos_sd and hostility_1 is -0.166864243138 , the t statistic is -3.69619112186 and the p-value is 0.000122127429796\n",
        "The correlation between tw_vader_pos_sd and fatigue is 0.0890908754691 , the t statistic is 1.9535423485 and the p-value is 0.0256697603024\n",
        "The correlation between tw_vader_pos_sd and fear is -0.0112159078068 , the t statistic is -0.244974532989 and the p-value is 0.403290751185\n",
        "The correlation between tw_vader_pos_sd and attentiveness is 0.0516019803918 , the t statistic is 1.12850773989 and the p-value is 0.129836404191\n",
        "The correlation between tw_vader_neg_sd and joviality_1 is -0.102676656178 , the t statistic is -2.25440704517 and the p-value is 0.0123117300589\n",
        "The correlation between tw_vader_neg_sd and joviality is -0.109917136235 , the t statistic is -2.41526115214 and the p-value is 0.00804946740123\n",
        "The correlation between tw_vader_neg_sd and guilt is 0.0689539086764 , the t statistic is 1.5095691033 and the p-value is 0.0659077506422\n",
        "The correlation between tw_vader_neg_sd and hostilitity is 0.0652973804419 , the t statistic is 1.42916637249 and the p-value is 0.0768054832216\n",
        "The correlation between tw_vader_neg_sd and self_assurance is -0.0427457997652 , the t statistic is -0.934436451846 and the p-value is 0.175275794337\n",
        "The correlation between tw_vader_neg_sd and hostility_1 is 0.0285299011855 , the t statistic is 0.623356190952 and the p-value is 0.266674210302\n",
        "The correlation between tw_vader_neg_sd and fatigue is 0.115736938787 , the t statistic is 2.54483443816 and the p-value is 0.00562345438695\n",
        "The correlation between tw_vader_neg_sd and fear is -0.0178117806971 , the t statistic is -0.389076886466 and the p-value is 0.348696448572\n",
        "The correlation between tw_vader_neg_sd and attentiveness is -0.127664979765 , the t statistic is -2.81124871339 and the p-value is 0.00256907484064\n",
        "The correlation between tw_vad_neu_sd and joviality_1 is 0.0426394263094 , the t statistic is 0.93210685431 and the p-value is 0.175876421934\n",
        "The correlation between tw_vad_neu_sd and joviality is 0.0222145135793 , the t statistic is 0.485292056842 and the p-value is 0.313845998727\n",
        "The correlation between tw_vad_neu_sd and guilt is -0.0276914844192 , the t statistic is -0.605023164614 and the p-value is 0.272725658446\n",
        "The correlation between tw_vad_neu_sd and hostilitity is -0.0674869597984 , the t statistic is -1.47730547588 and the p-value is 0.070126844584\n",
        "The correlation between tw_vad_neu_sd and self_assurance is 0.0470826479389 , the t statistic is 1.02944220692 and the p-value is 0.151896814231\n",
        "The correlation between tw_vad_neu_sd and hostility_1 is -0.0984252965358 , the t statistic is -2.16012955775 and the p-value is 0.0156300314528\n",
        "The correlation between tw_vad_neu_sd and fatigue is 0.0966229244893 , the t statistic is 2.12019680008 and the p-value is 0.0172525302661\n",
        "The correlation between tw_vad_neu_sd and fear is -0.024448443773 , the t statistic is -0.534121725058 and the p-value is 0.296753076171\n",
        "The correlation between tw_vad_neu_sd and attentiveness is -0.0308199973623 , the t statistic is -0.673438819161 and the p-value is 0.25049716017\n",
        "The correlation between tw_vad_comp_sd and joviality_1 is -0.0199097710674 , the t statistic is -0.434922173622 and the p-value is 0.331907809496\n",
        "The correlation between tw_vad_comp_sd and joviality is -0.0414615317149 , the t statistic is -0.906312858726 and the p-value is 0.182613931477\n",
        "The correlation between tw_vad_comp_sd and guilt is 0.0247370927453 , the t statistic is 0.540431637364 and the p-value is 0.294575818788\n",
        "The correlation between tw_vad_comp_sd and hostilitity is -0.0407400719609 , the t statistic is -0.890515927668 and the p-value is 0.186818924263\n",
        "The correlation between tw_vad_comp_sd and self_assurance is -0.00830833476078 , the t statistic is -0.181463033328 and the p-value is 0.428040614279\n",
        "The correlation between tw_vad_comp_sd and hostility_1 is -0.0365593295962 , the t statistic is -0.799001956205 and the p-value is 0.212343468578\n",
        "The correlation between tw_vad_comp_sd and fatigue is 0.102217319574 , the t statistic is 2.24421494881 and the p-value is 0.0126381774778\n",
        "The correlation between tw_vad_comp_sd and fear is 0.017149579604 , the t statistic is 0.374607563823 and the p-value is 0.354059414764\n",
        "The correlation between tw_vad_comp_sd and attentiveness is -0.0187796466507 , the t statistic is -0.410226018532 and the p-value is 0.340912171908\n",
        "The correlation between fb_vader_pos_sd and joviality_1 is 0.0788302530749 , the t statistic is 1.86961607393 and the p-value is 0.0310298475742\n",
        "The correlation between fb_vader_pos_sd and joviality is 0.0870760823428 , the t statistic is 2.0666052217 and the p-value is 0.0196156538587\n",
        "The correlation between fb_vader_pos_sd and guilt is -0.0760431357947 , the t statistic is -1.8031225 and the p-value is 0.0359536760425\n",
        "The correlation between fb_vader_pos_sd and hostilitity is -0.0830133508924 , the t statistic is -1.9694975153 and the p-value is 0.0246946730459\n",
        "The correlation between fb_vader_pos_sd and self_assurance is 0.0495793874342 , the t statistic is 1.17365780366 and the p-value is 0.12051596245\n",
        "The correlation between fb_vader_pos_sd and hostility_1 is -0.102238030269 , the t statistic is -2.42996534475 and the p-value is 0.00770701719747\n",
        "The correlation between fb_vader_pos_sd and fatigue is 0.0160262967241 , the t statistic is 0.378961301313 and the p-value is 0.352430248451\n",
        "The correlation between fb_vader_pos_sd and fear is -0.0565399745083 , the t statistic is -1.33892667427 and the p-value is 0.0905693788795\n",
        "The correlation between fb_vader_pos_sd and attentiveness is 0.0071442424633 , the t statistic is 0.168916927321 and the p-value is 0.43296154386\n",
        "The correlation between fb_vader_neg_sd and joviality_1 is 0.0301602511091 , the t statistic is 0.71340881769 and the p-value is 0.23794527159\n",
        "The correlation between fb_vader_neg_sd and joviality is 0.0389483430332 , the t statistic is 0.921561975363 and the p-value is 0.178577325882\n",
        "The correlation between fb_vader_neg_sd and guilt is 0.00426207484089 , the t statistic is 0.100769921457 and the p-value is 0.4598846179\n",
        "The correlation between fb_vader_neg_sd and hostilitity is 0.00475165750133 , the t statistic is 0.112345565861 and the p-value is 0.45529487226\n",
        "The correlation between fb_vader_neg_sd and self_assurance is -0.00818729409006 , the t statistic is -0.193580162842 and the p-value is 0.423287475251"
       ]
      },
      {
       "output_type": "stream",
       "stream": "stdout",
       "text": [
        "\n",
        "The correlation between fb_vader_neg_sd and hostility_1 is -0.0441063219424 , the t statistic is -1.04382955604 and the p-value is 0.148507721486\n",
        "The correlation between fb_vader_neg_sd and fatigue is 0.0387175907637 , the t statistic is 0.916093893559 and the p-value is 0.18000633805\n",
        "The correlation between fb_vader_neg_sd and fear is -0.0216636598524 , the t statistic is -0.512318060609 and the p-value is 0.304315390792\n",
        "The correlation between fb_vader_neg_sd and attentiveness is -0.0312224639755 , the t statistic is -0.738558438652 and the p-value is 0.230242567174\n",
        "The correlation between fb_vad_neu_sd and joviality_1 is 0.076388857042 , the t statistic is 1.81136819299 and the p-value is 0.0353102297967\n",
        "The correlation between fb_vad_neu_sd and joviality is 0.0800033680068 , the t statistic is 1.8976167307 and the p-value is 0.0291307814983\n",
        "The correlation between fb_vad_neu_sd and guilt is -0.0397794413728 , the t statistic is -0.941257545574 and the p-value is 0.173489733528\n",
        "The correlation between fb_vad_neu_sd and hostilitity is -0.0559736914398 , the t statistic is -1.32547412873 and the p-value is 0.0927776949295\n",
        "The correlation between fb_vad_neu_sd and self_assurance is 0.0597874035873 , the t statistic is 1.41609760471 and the p-value is 0.0786519410936\n",
        "The correlation between fb_vad_neu_sd and hostility_1 is -0.0927455444993 , the t statistic is -2.20229190353 and the p-value is 0.0140261079601\n",
        "The correlation between fb_vad_neu_sd and fatigue is 0.0149053024621 , the t statistic is 0.352447915018 and the p-value is 0.362317607274\n",
        "The correlation between fb_vad_neu_sd and fear is -0.0616615980139 , the t statistic is -1.46065577505 and the p-value is 0.0723358720055\n",
        "The correlation between fb_vad_neu_sd and attentiveness is 0.0113309272575 , the t statistic is 0.267916361609 and the p-value is 0.394431263998\n",
        "The correlation between fb_vad_comp_sd and joviality_1 is 0.0444676214187 , the t statistic is 1.05239701818 and the p-value is 0.146536067553\n",
        "The correlation between fb_vad_comp_sd and joviality is 0.0660636760652 , the t statistic is 1.56537514408 and the p-value is 0.0590304333817\n",
        "The correlation between fb_vad_comp_sd and guilt is -0.0442597582091 , the t statistic is -1.04746792617 and the p-value is 0.147668250702\n",
        "The correlation between fb_vad_comp_sd and hostilitity is -0.069493551317 , the t statistic is -1.64703046023 and the p-value is 0.050056889435\n",
        "The correlation between fb_vad_comp_sd and self_assurance is -0.0634912795276 , the t statistic is -1.50417062799 and the p-value is 0.0665510997416\n",
        "The correlation between fb_vad_comp_sd and hostility_1 is -0.0704964612448 , the t statistic is -1.67091777561 and the p-value is 0.0476488169689\n",
        "The correlation between fb_vad_comp_sd and fatigue is 0.0681741224355 , the t statistic is 1.61561192622 and the p-value is 0.0533712296033\n",
        "The correlation between fb_vad_comp_sd and fear is -0.0377856697317 , the t statistic is -0.894011866186 and the p-value is 0.185850142056\n",
        "The correlation between fb_vad_comp_sd and attentiveness is -0.0177330787671 , the t statistic is -0.419332325296 and the p-value is 0.337567184624\n",
        "The correlation between fb_vader_pos25 and joviality_1 is -0.0440776349543 , the t statistic is -1.04314932169 and the p-value is 0.148665024358\n",
        "The correlation between fb_vader_pos25 and joviality is -0.0338047345928 , the t statistic is -0.799708521164 and the p-value is 0.212109692795\n",
        "The correlation between fb_vader_pos25 and guilt is -0.0460776285136 , the t statistic is -1.0905800499 and the p-value is 0.137963788161\n",
        "The correlation between fb_vader_pos25 and hostilitity is -0.0923223030793 , the t statistic is -2.19215521546 and the p-value is 0.0143899485449\n",
        "The correlation between fb_vader_pos25 and self_assurance is -0.0241446997124 , the t statistic is -0.571023969702 and the p-value is 0.284106440042\n",
        "The correlation between fb_vader_pos25 and hostility_1 is -0.064311032352 , the t statistic is -1.52367151556 and the p-value is 0.0640781461139\n",
        "The correlation between fb_vader_pos25 and fatigue is -0.0874117336905 , the t statistic is -2.07463256287 and the p-value is 0.0192387993081\n",
        "The correlation between fb_vader_pos25 and fear is 0.0102303153471 , the t statistic is 0.2418898541 and the p-value is 0.404477111146\n",
        "The correlation between fb_vader_pos25 and attentiveness is -0.00994086691359 , the t statistic is -0.23504532807 and the p-value is 0.40712981329\n",
        "The correlation between fb_vader_neg25 and joviality_1 is -0.0321297316957 , the t statistic is -0.760041460832 and the p-value is 0.223775113057\n",
        "The correlation between fb_vader_neg25 and joviality is -0.0666643196716 , the t statistic is -1.57967060577 and the p-value is 0.0573739870537\n",
        "The correlation between fb_vader_neg25 and guilt is -0.0083696379374 , the t statistic is -0.197891794642 and the p-value is 0.421600832465\n",
        "The correlation between fb_vader_neg25 and hostilitity is -0.0447097681201 , the t statistic is -1.05813925261 and the p-value is 0.145224495853\n",
        "The correlation between fb_vader_neg25 and self_assurance is -0.0271353210247 , the t statistic is -0.641801633018 and the p-value is 0.260632535966\n",
        "The correlation between fb_vader_neg25 and hostility_1 is -0.028807872489 , the t statistic is -0.681392539042 and the p-value is 0.247952662301\n",
        "The correlation between fb_vader_neg25 and fatigue is -0.0346639264292 , the t statistic is -0.820058315141 and the p-value is 0.206266195465\n",
        "The correlation between fb_vader_neg25 and fear is -0.0360715065871 , the t statistic is -0.853400536536 and the p-value is 0.196901375486\n",
        "The correlation between fb_vader_neg25 and attentiveness is -0.00669708852811 , the t statistic is -0.158344026122 and the p-value is 0.437121451376\n",
        "The correlation between fb_vad_neu25 and joviality_1 is -0.0865097791719 , the t statistic is -2.05306328401 and the p-value is 0.0202656437031\n",
        "The correlation between fb_vad_neu25 and joviality is -0.105277603095 , the t statistic is -2.50300693703 and the p-value is 0.00629925849413\n",
        "The correlation between fb_vad_neu25 and guilt is 0.11145650732 , the t statistic is 2.65170832304 and the p-value is 0.0041179214595\n",
        "The correlation between fb_vad_neu25 and hostilitity is 0.121594838073 , the t statistic is 2.89638041462 and the p-value is 0.00196134572593\n",
        "The correlation between fb_vad_neu25 and self_assurance is -0.0565358135853 , the t statistic is -1.33882782322 and the p-value is 0.0905854619224\n",
        "The correlation between fb_vad_neu25 and hostility_1 is 0.122213522323 , the t statistic is 2.91134030714 and the p-value is 0.0018711839605\n",
        "The correlation between fb_vad_neu25 and fatigue is 0.0276112409879 , the t statistic is 0.653066553869 and the p-value is 0.256990936414\n",
        "The correlation between fb_vad_neu25 and fear is 0.0491135089314 , the t statistic is 1.16260259793 and the p-value is 0.122743431067\n",
        "The correlation between fb_vad_neu25 and attentiveness is -0.0111604370317 , the t statistic is -0.263884665574 and the p-value is 0.395983021571\n",
        "The correlation between fb_vad_comp25 and joviality_1 is 0.0208276257641 , the t statistic is 0.492538162957 and the p-value is 0.311266171293\n",
        "The correlation between fb_vad_comp25 and joviality is 0.0242369304818 , the t statistic is 0.573206514008 and the p-value is 0.283367691215\n",
        "The correlation between fb_vad_comp25 and guilt is -0.0423878525167 , the t statistic is -1.00308520406 and the p-value is 0.158126877622\n",
        "The correlation between fb_vad_comp25 and hostilitity is -0.0756281997153 , the t statistic is -1.79322684831 and the p-value is 0.036738556927\n",
        "The correlation between fb_vad_comp25 and self_assurance is 0.0043987855942 , the t statistic is 0.10400228945 and the p-value is 0.458602417048\n",
        "The correlation between fb_vad_comp25 and hostility_1 is -0.0550495109222 , the t statistic is -1.30352216877 and the p-value is 0.0964665717361\n",
        "The correlation between fb_vad_comp25 and fatigue is -0.0507074853084 , the t statistic is -1.20043054112 and the p-value is 0.11524031478\n",
        "The correlation between fb_vad_comp25 and fear is 0.0201036291298 , the t statistic is 0.475409818508 and the p-value is 0.317340303879\n",
        "The correlation between fb_vad_comp25 and attentiveness is -0.0375069639987 , the t statistic is -0.887408342834 and the p-value is 0.187620367801\n",
        "The correlation between fb_vader_pos75 and joviality_1 is 0.0696726096806 , the t statistic is 1.65129490341 and the p-value is 0.0496199981833\n",
        "The correlation between fb_vader_pos75 and joviality is 0.0861173931386 , the t statistic is 2.04368138215 and the p-value is 0.0207266189369\n",
        "The correlation between fb_vader_pos75 and guilt is -0.150705288613 , the t statistic is -3.60431826427 and the p-value is 0.000170462391648\n",
        "The correlation between fb_vader_pos75 and hostilitity is -0.1514692467 , the t statistic is -3.6230172705 and the p-value is 0.000158859408627\n",
        "The correlation between fb_vader_pos75 and self_assurance is 0.0372660500417 , the t statistic is 0.881700407315 and the p-value is 0.189158897634\n",
        "The correlation between fb_vader_pos75 and hostility_1 is -0.12709910375 , the t statistic is -3.02959705623 and the p-value is 0.00128099103805\n",
        "The correlation between fb_vader_pos75 and fatigue is -0.0111693752178 , the t statistic is -0.264096032247 and the p-value is 0.395901627451\n",
        "The correlation between fb_vader_pos75 and fear is -0.049056518557 , the t statistic is -1.16125027985 and the p-value is 0.123017878834\n",
        "The correlation between fb_vader_pos75 and attentiveness is 0.0159453214778 , the t statistic is 0.377046054817 and the p-value is 0.353141235113\n",
        "The correlation between fb_vader_neg75 and joviality_1 is -0.108924216727 , the t statistic is -2.59072964818 and the p-value is 0.00491362355712\n",
        "The correlation between fb_vader_neg75 and joviality is -0.0855525217833 , the t statistic is -2.03017705873 and the p-value is 0.0214057583491\n",
        "The correlation between fb_vader_neg75 and guilt is 0.00834042191915 , the t statistic is 0.197200962704 and the p-value is 0.421870978934\n",
        "The correlation between fb_vader_neg75 and hostilitity is 0.0517394196918 , the t statistic is 1.22492509717 and the p-value is 0.110559673695\n",
        "The correlation between fb_vader_neg75 and self_assurance is -0.0910918904366 , the t statistic is -2.16269345504 and the p-value is 0.0154940442706\n",
        "The correlation between fb_vader_neg75 and hostility_1 is 0.0500537263726 , the t statistic is 1.18491456293 and the p-value is 0.11827736775"
       ]
      },
      {
       "output_type": "stream",
       "stream": "stdout",
       "text": [
        "\n",
        "The correlation between fb_vader_neg75 and fatigue is 0.0239572004677 , the t statistic is 0.566587041893 and the p-value is 0.285611094875\n",
        "The correlation between fb_vader_neg75 and fear is -0.0324634775936 , the t statistic is -0.767944637693 and the p-value is 0.221422172758\n",
        "The correlation between fb_vader_neg75 and attentiveness is -0.0539094394285 , the t statistic is -1.27644679721 and the p-value is 0.101163829574\n",
        "The correlation between fb_vad_neu75 and joviality_1 is -0.00507304212174 , the t statistic is -0.119944395708 and the p-value is 0.452285145439\n",
        "The correlation between fb_vad_neu75 and joviality is -0.0170914952635 , the t statistic is -0.404156348485 and the p-value is 0.343126163892\n",
        "The correlation between fb_vad_neu75 and guilt is 0.0492732586686 , the t statistic is 1.16639334187 and the p-value is 0.1219764103\n",
        "The correlation between fb_vad_neu75 and hostilitity is 0.0747296723834 , the t statistic is 1.7718014181 and the p-value is 0.0384861159415\n",
        "The correlation between fb_vad_neu75 and self_assurance is 0.0153835963688 , the t statistic is 0.36376019623 and the p-value is 0.358087311294\n",
        "The correlation between fb_vad_neu75 and hostility_1 is 0.0430431415319 , the t statistic is 1.01862082194 and the p-value is 0.154411831268\n",
        "The correlation between fb_vad_neu75 and fatigue is 0.036142468289 , the t statistic is 0.855081583223 and the p-value is 0.196436156664\n",
        "The correlation between fb_vad_neu75 and fear is -0.0296070115254 , the t statistic is -0.700310932349 and the p-value is 0.242012252351\n",
        "The correlation between fb_vad_neu75 and attentiveness is -0.0184668428086 , the t statistic is -0.436689371166 and the p-value is 0.331252631175\n",
        "The correlation between fb_vad_comp75 and joviality_1 is 0.0718746025358 , the t statistic is 1.70375067609 and the p-value is 0.0444917214994\n",
        "The correlation between fb_vad_comp75 and joviality is 0.0981553927225 , the t statistic is 2.33196653256 and the p-value is 0.0100283512273\n",
        "The correlation between fb_vad_comp75 and guilt is -0.139275765622 , the t statistic is -3.32533201295 and the p-value is 0.000470522796141\n",
        "The correlation between fb_vad_comp75 and hostilitity is -0.155518583466 , the t statistic is -3.7222426421 and the p-value is 0.000108724336343\n",
        "The correlation between fb_vad_comp75 and self_assurance is 0.00778458984787 , the t statistic is 0.184058042529 and the p-value is 0.42701733447\n",
        "The correlation between fb_vad_comp75 and hostility_1 is -0.127191127917 , the t statistic is -3.03182664609 and the p-value is 0.00127172129085\n",
        "The correlation between fb_vad_comp75 and fatigue is 0.0266486014763 , the t statistic is 0.630281540027 and the p-value is 0.264383979356\n",
        "The correlation between fb_vad_comp75 and fear is -0.0674800196138 , the t statistic is -1.5990872248 and the p-value is 0.0551831235163\n",
        "The correlation between fb_vad_comp75 and attentiveness is 0.0238518361378 , the t statistic is 0.564093757198 and the p-value is 0.286458285161\n",
        "The correlation between tw_vader_pos25 and joviality_1 is -0.0509194756233 , the t statistic is -1.11354266389 and the p-value is 0.133018121138\n",
        "The correlation between tw_vader_pos25 and joviality is -0.0359211898037 , the t statistic is -0.785037270169 and the p-value is 0.216410720148\n",
        "The correlation between tw_vader_pos25 and guilt is 0.0486022462005 , the t statistic is 1.06274501837 and the p-value is 0.144217665321\n",
        "The correlation between tw_vader_pos25 and hostilitity is 0.0532209708838 , the t statistic is 1.16401323565 and the p-value is 0.122500264397\n",
        "The correlation between tw_vader_pos25 and self_assurance is -0.0646876131209 , the t statistic is -1.41576402451 and the p-value is 0.0787486025548\n",
        "The correlation between tw_vader_pos25 and hostility_1 is 0.0590926442491 , the t statistic is 1.29286210422 and the p-value is 0.098342301261\n",
        "The correlation between tw_vader_pos25 and fatigue is -0.0367462440043 , the t statistic is -0.803092468703 and the p-value is 0.211160635467\n",
        "The correlation between tw_vader_pos25 and fear is 0.0293381611958 , the t statistic is 0.641031048345 and the p-value is 0.260905184506\n",
        "The correlation between tw_vader_pos25 and attentiveness is -0.0413674968708 , the t statistic is -0.9042538116 and the p-value is 0.183158645134\n",
        "The correlation between tw_vader_neg25 and joviality_1 is nan , the t statistic is nan and the p-value is nan\n",
        "The correlation between tw_vader_neg25 and joviality is nan , the t statistic is nan and the p-value is nan\n",
        "The correlation between tw_vader_neg25 and guilt is nan , the t statistic is nan and the p-value is nan\n",
        "The correlation between tw_vader_neg25 and hostilitity is nan , the t statistic is nan and the p-value is nan\n",
        "The correlation between tw_vader_neg25 and self_assurance is nan , the t statistic is nan and the p-value is nan\n",
        "The correlation between tw_vader_neg25 and hostility_1 is nan , the t statistic is nan and the p-value is nan\n",
        "The correlation between tw_vader_neg25 and fatigue is nan , the t statistic is nan and the p-value is nan\n",
        "The correlation between tw_vader_neg25 and fear is nan , the t statistic is nan and the p-value is nan\n",
        "The correlation between tw_vader_neg25 and attentiveness is nan , the t statistic is nan and the p-value is nan\n",
        "The correlation between tw_vad_neu25 and joviality_1 is 0.00874431811458 , the t statistic is 0.190986092177 and the p-value is 0.424308875466\n",
        "The correlation between tw_vad_neu25 and joviality is 0.0390269323037 , the t statistic is 0.853010926068 and the p-value is 0.197040680923\n",
        "The correlation between tw_vad_neu25 and guilt is 0.0175656735297 , the t statistic is 0.383699301057 and the p-value is 0.350686147087\n",
        "The correlation between tw_vad_neu25 and hostilitity is 0.0414739836228 , the t statistic is 0.906585515477 and the p-value is 0.182541877259\n",
        "The correlation between tw_vad_neu25 and self_assurance is -0.0116758176607 , the t statistic is -0.255021090284 and the p-value is 0.399408362855\n",
        "The correlation between tw_vad_neu25 and hostility_1 is 0.0571164782053 , the t statistic is 1.24948246678 and the p-value is 0.106050704549\n",
        "The correlation between tw_vad_neu25 and fatigue is -0.117159183987 , the t statistic is -2.5765394466 and the p-value is 0.00513952444523\n",
        "The correlation between tw_vad_neu25 and fear is -0.0113607672932 , the t statistic is -0.248138916757 and the p-value is 0.402066856168\n",
        "The correlation between tw_vad_neu25 and attentiveness is 0.0364453005586 , the t statistic is 0.796506538678 and the p-value is 0.213066959585\n",
        "The correlation between tw_vad_comp25 and joviality_1 is 0.103505320994 , the t statistic is 2.27279775713 and the p-value is 0.0117411988771\n",
        "The correlation between tw_vad_comp25 and joviality is 0.101591603757 , the t statistic is 2.23033344154 and the p-value is 0.0130948673124\n",
        "The correlation between tw_vad_comp25 and guilt is -0.0520039556094 , the t statistic is -1.13732246965 and the p-value is 0.127987242483\n",
        "The correlation between tw_vad_comp25 and hostilitity is -0.0890706579793 , the t statistic is -1.95309548335 and the p-value is 0.0256963008246\n",
        "The correlation between tw_vad_comp25 and self_assurance is -0.0192819800172 , the t statistic is -0.421203108056 and the p-value is 0.336898250122\n",
        "The correlation between tw_vad_comp25 and hostility_1 is -0.105236260802 , the t statistic is -2.31122830612 and the p-value is 0.0106228333407\n",
        "The correlation between tw_vad_comp25 and fatigue is -0.0220259196743 , the t statistic is -0.481170078783 and the p-value is 0.315308133732\n",
        "The correlation between tw_vad_comp25 and fear is 0.0158436263177 , the t statistic is 0.346073460404 and the p-value is 0.364720048846\n",
        "The correlation between tw_vad_comp25 and attentiveness is 0.0436823168582 , the t statistic is 0.954947725148 and the p-value is 0.170043913017\n",
        "The correlation between tw_vader_pos75 and joviality_1 is 0.0523820011201 , the t statistic is 1.14561296158 and the p-value is 0.126264878921\n",
        "The correlation between tw_vader_pos75 and joviality is 0.0209945296575 , the t statistic is 0.458628534994 and the p-value is 0.323354916265\n",
        "The correlation between tw_vader_pos75 and guilt is -0.0505902716039 , the t statistic is -1.10632486726 and the p-value is 0.134571784351\n",
        "The correlation between tw_vader_pos75 and hostilitity is -0.0996940624143 , the t statistic is -2.18825276348 and the p-value is 0.0145677656456\n",
        "The correlation between tw_vader_pos75 and self_assurance is 0.0167020093066 , the t statistic is 0.364828278644 and the p-value is 0.35770064341\n",
        "The correlation between tw_vader_pos75 and hostility_1 is -0.0952593571788 , the t statistic is -2.09000006616 and the p-value is 0.0185733937214\n",
        "The correlation between tw_vader_pos75 and fatigue is 0.0496910291737 , the t statistic is 1.08661081667 and the p-value is 0.138878816597\n",
        "The correlation between tw_vader_pos75 and fear is 0.00449972813463 , the t statistic is 0.0982765408109 and the p-value is 0.460876994479\n",
        "The correlation between tw_vader_pos75 and attentiveness is 0.0399210637504 , the t statistic is 0.872584785653 and the p-value is 0.191664228928\n",
        "The correlation between tw_vader_neg75 and joviality_1 is -0.167921593325 , the t statistic is -3.72028975305 and the p-value is 0.000111341447969\n",
        "The correlation between tw_vader_neg75 and joviality is -0.169506705345 , the t statistic is -3.75644166528 and the p-value is 9.68294790753e-05\n",
        "The correlation between tw_vader_neg75 and guilt is 0.0879916710054 , the t statistic is 1.9292502586 and the p-value is 0.0271463230135\n",
        "The correlation between tw_vader_neg75 and hostilitity is 0.149302405676 , the t statistic is 3.29777662063 and the p-value is 0.000523665873696\n",
        "The correlation between tw_vader_neg75 and self_assurance is -0.0861265920328 , the t statistic is -1.88804877197 and the p-value is 0.0298130234603\n",
        "The correlation between tw_vader_neg75 and hostility_1 is 0.114664573258 , the t statistic is 2.52093952783 and the p-value is 0.00601457907241\n",
        "The correlation between tw_vader_neg75 and fatigue is 0.0866916581753 , the t statistic is 1.90052952407 and the p-value is 0.0289831287689\n",
        "The correlation between tw_vader_neg75 and fear is -0.00182309461147 , the t statistic is -0.0398170534996 and the p-value is 0.484127819861"
       ]
      },
      {
       "output_type": "stream",
       "stream": "stdout",
       "text": [
        "\n",
        "The correlation between tw_vader_neg75 and attentiveness is -0.107545120778 , the t statistic is -2.36252304202 and the p-value is 0.00927576174309\n",
        "The correlation between tw_vad_neu75 and joviality_1 is 0.0732990487087 , the t statistic is 1.60519334749 and the p-value is 0.0545565373652\n",
        "The correlation between tw_vad_neu75 and joviality is 0.067161960559 , the t statistic is 1.47015885135 and the p-value is 0.0710890090387\n",
        "The correlation between tw_vad_neu75 and guilt is -0.0564480035492 , the t statistic is -1.23481186436 and the p-value is 0.108754221334\n",
        "The correlation between tw_vad_neu75 and hostilitity is -0.0573122913461 , the t statistic is -1.2537801758 and the p-value is 0.105268020808\n",
        "The correlation between tw_vad_neu75 and self_assurance is 0.0645830088623 , the t statistic is 1.4134650413 and the p-value is 0.0790856394446\n",
        "The correlation between tw_vad_neu75 and hostility_1 is -0.0540935133619 , the t statistic is -1.18315244889 and the p-value is 0.118669038654\n",
        "The correlation between tw_vad_neu75 and fatigue is 0.0528637520358 , the t statistic is 1.15617841658 and the p-value is 0.124093462926\n",
        "The correlation between tw_vad_neu75 and fear is -0.0221304277617 , the t statistic is -0.483454239773 and the p-value is 0.314497542979\n",
        "The correlation between tw_vad_neu75 and attentiveness is 0.0475289009392 , the t statistic is 1.03922132754 and the p-value is 0.149614146257\n",
        "The correlation between tw_vad_comp75 and joviality_1 is 0.0863667645972 , the t statistic is 1.89335329627 and the p-value is 0.0294579191368\n",
        "The correlation between tw_vad_comp75 and joviality is 0.0632201774718 , the t statistic is 1.38351710001 and the p-value is 0.0835767432386\n",
        "The correlation between tw_vad_comp75 and guilt is -0.0770450843158 , the t statistic is -1.68770656296 and the p-value is 0.0460606323911\n",
        "The correlation between tw_vad_comp75 and hostilitity is -0.146608466667 , the t statistic is -3.23695382358 and the p-value is 0.000646108733167\n",
        "The correlation between tw_vad_comp75 and self_assurance is 0.000630517790103 , the t statistic is 0.0137707191346 and the p-value is 0.494509330358\n",
        "The correlation between tw_vad_comp75 and hostility_1 is -0.114585016897 , the t statistic is -2.51916717566 and the p-value is 0.00604453135584\n",
        "The correlation between tw_vad_comp75 and fatigue is 0.0766193377416 , the t statistic is 1.67832516972 and the p-value is 0.0469693047469\n",
        "The correlation between tw_vad_comp75 and fear is 0.0121422973482 , the t statistic is 0.265211328498 and the p-value is 0.395480620476\n",
        "The correlation between tw_vad_comp75 and attentiveness is 0.0611661916124 , the t statistic is 1.3383958076 and the p-value is 0.0907025186131\n",
        "The correlation between status_num and joviality_1 is 0.0467373456603 , the t statistic is 1.11509806617 and the p-value is 0.132639985423\n",
        "The correlation between status_num and joviality is 0.0556404096139 , the t statistic is 1.32812143367 and the p-value is 0.0923357059723\n",
        "The correlation between status_num and guilt is -0.0597676201751 , the t statistic is -1.42697776676 and the p-value is 0.0770678853711\n",
        "The correlation between status_num and hostilitity is -0.088229013015 , the t statistic is -2.11097239609 and the p-value is 0.0176055196274\n",
        "The correlation between status_num and self_assurance is -0.057454915918 , the t statistic is -1.37157438148 and the p-value is 0.0853687599358\n",
        "The correlation between status_num and hostility_1 is -0.0479814755529 , the t statistic is -1.14484914692 and the p-value is 0.126376913826\n",
        "The correlation between status_num and fatigue is 0.0728685738242 , the t statistic is 1.74128766782 and the p-value is 0.0410872914614\n",
        "The correlation between status_num and fear is -0.0449254541436 , the t statistic is -1.07177927353 and the p-value is 0.142137178786\n",
        "The correlation between status_num and attentiveness is 0.0150560708335 , the t statistic is 0.358868258202 and the p-value is 0.359913500285\n",
        "The correlation between tweet_num and joviality_1 is 0.0405723545219 , the t statistic is 0.886843822673 and the p-value is 0.187804948573\n",
        "The correlation between tweet_num and joviality is 0.0266572481362 , the t statistic is 0.582410056986 and the p-value is 0.280282847719\n",
        "The correlation between tweet_num and guilt is 0.05165385055 , the t statistic is 1.12964514575 and the p-value is 0.129596760862\n",
        "The correlation between tweet_num and hostilitity is 0.0795743175481 , the t statistic is 1.74345794477 and the p-value is 0.0409489692248\n",
        "The correlation between tweet_num and self_assurance is 0.0199244975037 , the t statistic is 0.435243995322 and the p-value is 0.331791097799\n",
        "The correlation between tweet_num and hostility_1 is 0.0488263351328 , the t statistic is 1.0676566678 and the p-value is 0.14310772457\n",
        "The correlation between tweet_num and fatigue is 0.0977653974853 , the t statistic is 2.14550658401 and the p-value is 0.0162082525626\n",
        "The correlation between tweet_num and fear is -0.0155905582273 , the t statistic is -0.340544321195 and the p-value is 0.366798289365\n",
        "The correlation between tweet_num and attentiveness is 0.0101581007634 , the t statistic is 0.2218677167 and the p-value is 0.412255908697\n"
       ]
      }
     ],
     "prompt_number": 21
    },
    {
     "cell_type": "code",
     "collapsed": false,
     "input": [
      "\n",
      " 'fb_vader_pos_mdn',\n",
      " 'fb_vader_neg_mdn',\n",
      " 'fb_vad_neu_mdn',\n",
      " 'fb_vad_comp_mdn',\n",
      " 'tw_vader_pos_mdn',\n",
      " 'tw_vader_neg_mdn',\n",
      " 'tw_vad_neu_mdn',\n",
      " 'tw_vad_comp_mdn',\n",
      " 'tw_vader_pos_sd',\n",
      " 'tw_vader_neg_sd',\n",
      " 'tw_vad_neu_sd',\n",
      " 'tw_vad_comp_sd',\n",
      " 'fb_vader_pos_sd',\n",
      " 'fb_vader_neg_sd',\n",
      " 'fb_vad_neu_sd',\n",
      " 'fb_vad_comp_sd',\n",
      " 'fb_vader_pos25',\n",
      " 'fb_vader_neg25',\n",
      " 'fb_vad_neu25',\n",
      " 'fb_vad_comp25',\n",
      " 'fb_vader_pos75',\n",
      " 'fb_vader_neg75',\n",
      " 'fb_vad_neu75',\n",
      " 'fb_vad_comp75',\n",
      " 'tw_vader_pos25',\n",
      " 'tw_vader_neg25',\n",
      " 'tw_vad_neu25',\n",
      " 'tw_vad_comp25',\n",
      " 'tw_vader_pos75',\n",
      " 'tw_vader_neg75',\n",
      " 'tw_vad_neu75',\n",
      " 'tw_vad_comp75',\n",
      " 'status_num',\n",
      " 'tweet_num']"
     ],
     "language": "python",
     "metadata": {},
     "outputs": []
    },
    {
     "cell_type": "code",
     "collapsed": false,
     "input": [
      "['tw_vader_pos',\n",
      " 'tw_vader_neg',\n",
      " 'tw_vad_neutral',\n",
      " 'tw_vad_comp', 'tw_vader_pos_mdn',\n",
      " 'tw_vader_neg_mdn',\n",
      " 'tw_vad_neu_mdn',\n",
      " 'tw_vad_comp_mdn',\n",
      " 'tw_vader_pos_sd',\n",
      " 'tw_vader_neg_sd',\n",
      " 'tw_vad_neu_sd',\n",
      " 'tw_vad_comp_sd',]\n",
      "\n"
     ],
     "language": "python",
     "metadata": {},
     "outputs": []
    },
    {
     "cell_type": "code",
     "collapsed": false,
     "input": [
      "survey.fb_vader_pos_mdn"
     ],
     "language": "python",
     "metadata": {},
     "outputs": [
      {
       "metadata": {},
       "output_type": "pyout",
       "prompt_number": 22,
       "text": [
        "0     None\n",
        "1     None\n",
        "2     None\n",
        "3     None\n",
        "4     None\n",
        "5     None\n",
        "6     None\n",
        "7     None\n",
        "8     None\n",
        "9     None\n",
        "10    None\n",
        "11    None\n",
        "12    None\n",
        "13    None\n",
        "14    None\n",
        "...\n",
        "800    None\n",
        "801    None\n",
        "802    None\n",
        "803    None\n",
        "804    None\n",
        "805    None\n",
        "806    None\n",
        "807    None\n",
        "808    None\n",
        "809    None\n",
        "810    None\n",
        "811    None\n",
        "812    None\n",
        "813    None\n",
        "814    None\n",
        "Name: fb_vader_pos_mdn, Length: 815, dtype: object"
       ]
      }
     ],
     "prompt_number": 22
    },
    {
     "cell_type": "code",
     "collapsed": false,
     "input": [
      "\n",
      "all_files=[]\n",
      "\n",
      "\n",
      "path= 'B:/Participants/'"
     ],
     "language": "python",
     "metadata": {},
     "outputs": [],
     "prompt_number": 3
    },
    {
     "cell_type": "code",
     "collapsed": false,
     "input": [
      "for i in survey['FBid']:\n",
      "    path_full=path+i+'/statuses'\n",
      "    \n",
      "    if os.path.exists(path_full):\n",
      "        all_files.append(path_full)\n",
      "''' \n",
      "   try:\n",
      "        z=pickle.load( open(path_full, \"rb\" ))\n",
      "        good_files.append(path_full)\n",
      "    except:\n",
      "        bad_files.append()\n",
      " '''\n",
      "        \n",
      "        "
     ],
     "language": "python",
     "metadata": {},
     "outputs": [
      {
       "ename": "NameError",
       "evalue": "name 'survey' is not defined",
       "output_type": "pyerr",
       "traceback": [
        "\u001b[1;31m---------------------------------------------------------------------------\u001b[0m\n\u001b[1;31mNameError\u001b[0m                                 Traceback (most recent call last)",
        "\u001b[1;32m<ipython-input-4-1213abe2b318>\u001b[0m in \u001b[0;36m<module>\u001b[1;34m()\u001b[0m\n\u001b[1;32m----> 1\u001b[1;33m \u001b[1;32mfor\u001b[0m \u001b[0mi\u001b[0m \u001b[1;32min\u001b[0m \u001b[0msurvey\u001b[0m\u001b[1;33m[\u001b[0m\u001b[1;34m'FBid'\u001b[0m\u001b[1;33m]\u001b[0m\u001b[1;33m:\u001b[0m\u001b[1;33m\u001b[0m\u001b[0m\n\u001b[0m\u001b[0;32m      2\u001b[0m     \u001b[0mpath_full\u001b[0m\u001b[1;33m=\u001b[0m\u001b[0mpath\u001b[0m\u001b[1;33m+\u001b[0m\u001b[0mi\u001b[0m\u001b[1;33m+\u001b[0m\u001b[1;34m'/statuses'\u001b[0m\u001b[1;33m\u001b[0m\u001b[0m\n\u001b[0;32m      3\u001b[0m \u001b[1;33m\u001b[0m\u001b[0m\n\u001b[0;32m      4\u001b[0m     \u001b[1;32mif\u001b[0m \u001b[0mos\u001b[0m\u001b[1;33m.\u001b[0m\u001b[0mpath\u001b[0m\u001b[1;33m.\u001b[0m\u001b[0mexists\u001b[0m\u001b[1;33m(\u001b[0m\u001b[0mpath_full\u001b[0m\u001b[1;33m)\u001b[0m\u001b[1;33m:\u001b[0m\u001b[1;33m\u001b[0m\u001b[0m\n\u001b[0;32m      5\u001b[0m         \u001b[0mall_files\u001b[0m\u001b[1;33m.\u001b[0m\u001b[0mappend\u001b[0m\u001b[1;33m(\u001b[0m\u001b[0mpath_full\u001b[0m\u001b[1;33m)\u001b[0m\u001b[1;33m\u001b[0m\u001b[0m\n",
        "\u001b[1;31mNameError\u001b[0m: name 'survey' is not defined"
       ]
      }
     ],
     "prompt_number": 4
    },
    {
     "cell_type": "code",
     "collapsed": false,
     "input": [
      "len(all_files)\n"
     ],
     "language": "python",
     "metadata": {},
     "outputs": [
      {
       "metadata": {},
       "output_type": "pyout",
       "prompt_number": 8,
       "text": [
        "570"
       ]
      }
     ],
     "prompt_number": 8
    },
    {
     "cell_type": "code",
     "collapsed": false,
     "input": [
      "all_files[1]"
     ],
     "language": "python",
     "metadata": {},
     "outputs": [
      {
       "metadata": {},
       "output_type": "pyout",
       "prompt_number": 9,
       "text": [
        "'B:/Participants/100000967142850/statuses'"
       ]
      }
     ],
     "prompt_number": 9
    },
    {
     "cell_type": "code",
     "collapsed": false,
     "input": [
      "\n",
      "k=re.findall(r'\\d+',all_files[1])"
     ],
     "language": "python",
     "metadata": {},
     "outputs": [],
     "prompt_number": 10
    },
    {
     "cell_type": "code",
     "collapsed": false,
     "input": [
      "k"
     ],
     "language": "python",
     "metadata": {},
     "outputs": [
      {
       "metadata": {},
       "output_type": "pyout",
       "prompt_number": 12,
       "text": [
        "['100000967142850']"
       ]
      }
     ],
     "prompt_number": 12
    },
    {
     "cell_type": "code",
     "collapsed": false,
     "input": [],
     "language": "python",
     "metadata": {},
     "outputs": [],
     "prompt_number": 11
    },
    {
     "cell_type": "code",
     "collapsed": false,
     "input": [
      "\n"
     ],
     "language": "python",
     "metadata": {},
     "outputs": [],
     "prompt_number": 38
    },
    {
     "cell_type": "code",
     "collapsed": false,
     "input": [
      "#initiate columns in survey\n",
      "\n",
      "survey['fb_vader_pos']=None\n",
      "survey['fb_vader_neg']=None\n",
      "survey['fb_vad_neutral']=None\n",
      "survey['fb_vad_comp']=None"
     ],
     "language": "python",
     "metadata": {},
     "outputs": [],
     "prompt_number": 23
    },
    {
     "cell_type": "code",
     "collapsed": false,
     "input": [
      "for i in all_files[0:1]:\n",
      "        z=pickle.load(open(i))\n",
      "        status_sent=[]\n",
      "        temp=re.findall(r'\\d+',i)"
     ],
     "language": "python",
     "metadata": {},
     "outputs": [
      {
       "ename": "NameError",
       "evalue": "name 'all_files' is not defined",
       "output_type": "pyerr",
       "traceback": [
        "\u001b[1;31m---------------------------------------------------------------------------\u001b[0m\n\u001b[1;31mNameError\u001b[0m                                 Traceback (most recent call last)",
        "\u001b[1;32m<ipython-input-24-5239e33adecd>\u001b[0m in \u001b[0;36m<module>\u001b[1;34m()\u001b[0m\n\u001b[1;32m----> 1\u001b[1;33m \u001b[1;32mfor\u001b[0m \u001b[0mi\u001b[0m \u001b[1;32min\u001b[0m \u001b[0mall_files\u001b[0m\u001b[1;33m[\u001b[0m\u001b[1;36m0\u001b[0m\u001b[1;33m:\u001b[0m\u001b[1;36m1\u001b[0m\u001b[1;33m]\u001b[0m\u001b[1;33m:\u001b[0m\u001b[1;33m\u001b[0m\u001b[0m\n\u001b[0m\u001b[0;32m      2\u001b[0m         \u001b[0mz\u001b[0m\u001b[1;33m=\u001b[0m\u001b[0mpickle\u001b[0m\u001b[1;33m.\u001b[0m\u001b[0mload\u001b[0m\u001b[1;33m(\u001b[0m\u001b[0mopen\u001b[0m\u001b[1;33m(\u001b[0m\u001b[0mi\u001b[0m\u001b[1;33m)\u001b[0m\u001b[1;33m)\u001b[0m\u001b[1;33m\u001b[0m\u001b[0m\n\u001b[0;32m      3\u001b[0m         \u001b[0mstatus_sent\u001b[0m\u001b[1;33m=\u001b[0m\u001b[1;33m[\u001b[0m\u001b[1;33m]\u001b[0m\u001b[1;33m\u001b[0m\u001b[0m\n\u001b[0;32m      4\u001b[0m         \u001b[0mtemp\u001b[0m\u001b[1;33m=\u001b[0m\u001b[0mre\u001b[0m\u001b[1;33m.\u001b[0m\u001b[0mfindall\u001b[0m\u001b[1;33m(\u001b[0m\u001b[1;34mr'\\d+'\u001b[0m\u001b[1;33m,\u001b[0m\u001b[0mi\u001b[0m\u001b[1;33m)\u001b[0m\u001b[1;33m\u001b[0m\u001b[0m\n",
        "\u001b[1;31mNameError\u001b[0m: name 'all_files' is not defined"
       ]
      }
     ],
     "prompt_number": 24
    },
    {
     "cell_type": "code",
     "collapsed": false,
     "input": [
      "nltk.download()"
     ],
     "language": "python",
     "metadata": {},
     "outputs": [
      {
       "ename": "NameError",
       "evalue": "name 'nltk' is not defined",
       "output_type": "pyerr",
       "traceback": [
        "\u001b[1;31m---------------------------------------------------------------------------\u001b[0m\n\u001b[1;31mNameError\u001b[0m                                 Traceback (most recent call last)",
        "\u001b[1;32m<ipython-input-1-a1a554e5d735>\u001b[0m in \u001b[0;36m<module>\u001b[1;34m()\u001b[0m\n\u001b[1;32m----> 1\u001b[1;33m \u001b[0mnltk\u001b[0m\u001b[1;33m.\u001b[0m\u001b[0mdownload\u001b[0m\u001b[1;33m(\u001b[0m\u001b[1;33m)\u001b[0m\u001b[1;33m\u001b[0m\u001b[0m\n\u001b[0m",
        "\u001b[1;31mNameError\u001b[0m: name 'nltk' is not defined"
       ]
      }
     ],
     "prompt_number": 1
    },
    {
     "cell_type": "code",
     "collapsed": false,
     "input": [
      "\n",
      "import nltk\n",
      "\n",
      "error_log=[]\n",
      "all_statuses=[]\n",
      "message_list=[]\n",
      "\n",
      "#Here is where the real sentiment analysis begins.\n",
      "for file_name in all_files:\n",
      "    \n",
      "    try:\n",
      "\n",
      "        z=pickle.load(open(file_name))\n",
      "        # I took out the bit about opening as a binary, it doesn't work some files, and it screws up the the indexing\n",
      "        #basically it adds an /r to the end of keys, which makes it more cumbersome. \n",
      "        #Now we want to pull out the all out each status for each person, and then look at the stentiment for that status.\n",
      "        #We also want to store the sentiments for each person in another pickle file. This way later we can look at distributions and stuff\n",
      "        #for each person initilize a new list that will be the sentiment for all their status\n",
      "        status_sent=[]\n",
      "        temp=re.findall(r'\\d+',file_name)\n",
      "        sent_path='B:/Participants/'+temp[0]+'/status_sentiment'\n",
      "\n",
      "        for status_set in z:\n",
      "            for status_list in status_set['data']:\n",
      "                if 'message' in status_list.keys():\n",
      "                        msg=status_list['message'].encode('utf-8')\n",
      "\n",
      "                        message_list.append(msg)\n",
      "                        sent = vaderSentiment(msg)\n",
      "                        status_sent.append(sent)\n",
      "                        all_statuses.append(sent)\n",
      "\n",
      "        #pickle.dump( status_sent, open( sent_path, \"wb\" ) )               \n",
      "        pos=np.mean([i['pos'] for i in status_sent])\n",
      "        neg=np.mean([i['neg'] for i in status_sent])\n",
      "        neu=np.mean([i['neu'] for i in status_sent])\n",
      "        compound=np.mean([i['compound'] for i in status_sent])\n",
      "        survey.fb_vader_pos[survey.FBid==temp[0]]=pos\n",
      "        survey.fb_vader_neg[survey.FBid==temp[0]]=neg\n",
      "        survey.fb_vad_neutral[survey.FBid==temp[0]]=neu\n",
      "        survey.fb_vad_comp[survey.FBid==temp[0]]=compound\n",
      "\n",
      "    except Exception, e:\n",
      "        error_log.append(file_name)\n",
      "        print e\n",
      "#pickle.dump(all_statuses, open('C:/Users/Asaf/Documents/GitHub/TwitterIdentity/src/py/DataFrames/sentiment_all', 'wb'))\n"
     ],
     "language": "python",
     "metadata": {},
     "outputs": [
      {
       "ename": "NameError",
       "evalue": "name 'all_files' is not defined",
       "output_type": "pyerr",
       "traceback": [
        "\u001b[1;31m---------------------------------------------------------------------------\u001b[0m\n\u001b[1;31mNameError\u001b[0m                                 Traceback (most recent call last)",
        "\u001b[1;32m<ipython-input-2-667bb9aa3c1e>\u001b[0m in \u001b[0;36m<module>\u001b[1;34m()\u001b[0m\n\u001b[0;32m      7\u001b[0m \u001b[1;33m\u001b[0m\u001b[0m\n\u001b[0;32m      8\u001b[0m \u001b[1;31m#Here is where the real sentiment analysis begins.\u001b[0m\u001b[1;33m\u001b[0m\u001b[1;33m\u001b[0m\u001b[0m\n\u001b[1;32m----> 9\u001b[1;33m \u001b[1;32mfor\u001b[0m \u001b[0mfile_name\u001b[0m \u001b[1;32min\u001b[0m \u001b[0mall_files\u001b[0m\u001b[1;33m:\u001b[0m\u001b[1;33m\u001b[0m\u001b[0m\n\u001b[0m\u001b[0;32m     10\u001b[0m \u001b[1;33m\u001b[0m\u001b[0m\n\u001b[0;32m     11\u001b[0m     \u001b[1;32mtry\u001b[0m\u001b[1;33m:\u001b[0m\u001b[1;33m\u001b[0m\u001b[0m\n",
        "\u001b[1;31mNameError\u001b[0m: name 'all_files' is not defined"
       ]
      }
     ],
     "prompt_number": 2
    },
    {
     "cell_type": "code",
     "collapsed": false,
     "input": [
      "(survey.fb_vader_pos)\n"
     ],
     "language": "python",
     "metadata": {},
     "outputs": [
      {
       "metadata": {},
       "output_type": "pyout",
       "prompt_number": 50,
       "text": [
        "0.18998345359811422"
       ]
      }
     ],
     "prompt_number": 50
    },
    {
     "cell_type": "code",
     "collapsed": false,
     "input": [
      "k='B:/Participants/1053874667/status_sentiment'"
     ],
     "language": "python",
     "metadata": {},
     "outputs": [],
     "prompt_number": 37
    },
    {
     "cell_type": "code",
     "collapsed": false,
     "input": [
      "g=pickle.load(open(k,'rb'))"
     ],
     "language": "python",
     "metadata": {},
     "outputs": [],
     "prompt_number": 39
    },
    {
     "cell_type": "code",
     "collapsed": false,
     "input": [],
     "language": "python",
     "metadata": {},
     "outputs": [],
     "prompt_number": 41
    },
    {
     "cell_type": "code",
     "collapsed": false,
     "input": [
      "\n",
      "\n",
      "\n",
      "error_log=[]\n",
      "all_statuses=[]\n",
      "\n",
      "#Here is where the real sentiment analysis begins.\n",
      "for file_name in all_files[0:1]:\n",
      "    try:\n",
      "        z=pickle.load(open(i))\n",
      "        # I took out the bit about opening as a binary, it doesn't work some files, and it screws up the the indexing\n",
      "        #basically it adds an /r to the end of keys, which makes it more cumbersome. \n",
      "        #Now we want to pull out the all out each status for each person, and then look at the stentiment for that status.\n",
      "        #We also want to store the sentiments for each person in another pickle file. This way later we can look at distributions and stuff\n",
      "        #for each person initilize a new list that will be the sentiment for all their status\n",
      "        status_sent=[]\n",
      "        temp=re.findall(r'\\d+',i)\n",
      "        sent_path='B:/Participants/'+temp[0]+'/status_sentiment'\n",
      "       \n",
      "        for status_set in z:\n",
      "            for status_list in status_set['data']:\n",
      "                if 'message' in status_list.keys():\n",
      "                    for message in status_list['message']:\n",
      "                        msg=message.encode('utf-8')\n",
      "                        sent = vaderSentiment(msg)\n",
      "                        status_sent.append(sent)\n",
      "                        all_statuses.append(sent)\n",
      "                        pickle.dump( status_sent, open( sent_path, \"wb\" ) )\n",
      "        #The other piece of all this that I need to put the mean sentiments for each each category into the survey data frame\n",
      "        #We're just talking about means.\n",
      "        pos=np.mean([i['pos'] for i in status_sent])\n",
      "        neg=np.mean([i['neg'] for i in status_sent])\n",
      "        neu=np.mean([i['neu'] for i in status_sent])\n",
      "        comp=np.mean([i['composite'] for i in status_sent])\n",
      "        compound=np.mean([i['compound'] for i in status_sent])\n",
      "        survey.fb_vader_pos[survey.FBid==temp[0]]=pos\n",
      "        survey.fb_vader_neg[survey.FBid==temp[0]]=neg\n",
      "        survey.fb_vad_neutral[survey.FBid==temp[0]]=neu\n",
      "        survey.fb_vad_comp[survey.FBid==temp[0]]=comp\n",
      "        \n",
      "            \n",
      "            \n",
      "        \n",
      "    except Exception, e:\n",
      "        error_log.append(file_name)\n",
      "        print e"
     ],
     "language": "python",
     "metadata": {},
     "outputs": [],
     "prompt_number": 15
    },
    {
     "cell_type": "code",
     "collapsed": false,
     "input": [
      "survey.fb_vader_pos.hist()"
     ],
     "language": "python",
     "metadata": {},
     "outputs": [
      {
       "metadata": {},
       "output_type": "pyout",
       "prompt_number": 52,
       "text": [
        "<matplotlib.axes.AxesSubplot at 0x12b85e10>"
       ]
      }
     ],
     "prompt_number": 52
    },
    {
     "cell_type": "code",
     "collapsed": false,
     "input": [
      "survey.fb_vader_neg.hist()"
     ],
     "language": "python",
     "metadata": {},
     "outputs": [
      {
       "metadata": {},
       "output_type": "pyout",
       "prompt_number": 54,
       "text": [
        "<matplotlib.axes.AxesSubplot at 0x134e6320>"
       ]
      }
     ],
     "prompt_number": 54
    },
    {
     "cell_type": "code",
     "collapsed": false,
     "input": [
      "survey.fb_vad_comp.hist()"
     ],
     "language": "python",
     "metadata": {},
     "outputs": [
      {
       "metadata": {},
       "output_type": "pyout",
       "prompt_number": 56,
       "text": [
        "<matplotlib.axes.AxesSubplot at 0x127090f0>"
       ]
      }
     ],
     "prompt_number": 56
    },
    {
     "cell_type": "raw",
     "metadata": {},
     "source": []
    },
    {
     "cell_type": "code",
     "collapsed": false,
     "input": [
      "survey.fb_vad_neutral.hist()"
     ],
     "language": "python",
     "metadata": {},
     "outputs": [
      {
       "metadata": {},
       "output_type": "pyout",
       "prompt_number": 61,
       "text": [
        "<matplotlib.axes.AxesSubplot at 0x12ef6278>"
       ]
      }
     ],
     "prompt_number": 61
    },
    {
     "cell_type": "code",
     "collapsed": false,
     "input": [
      "pickle.dump(survey,open('DataFrames/SurveySentiment', 'wb'))"
     ],
     "language": "python",
     "metadata": {},
     "outputs": [],
     "prompt_number": 64
    },
    {
     "cell_type": "code",
     "collapsed": false,
     "input": [
      "survey.keys()\n"
     ],
     "language": "python",
     "metadata": {},
     "outputs": [
      {
       "metadata": {},
       "output_type": "pyout",
       "prompt_number": 63,
       "text": [
        "Index([u'Agree', u'FBid', u'IUname', u'Id', u'Referred_by', u'Twitid', u'active', u'afraid', u'alert', u'ashamed', u'attentive', u'comments', u'con_agree_0', u'con_agree_1', u'con_agree_10', u'con_agree_11', u'con_agree_12', u'con_agree_13', u'con_agree_14', u'con_agree_15', u'con_agree_16', u'con_agree_17', u'con_agree_18', u'con_agree_19', u'con_agree_2', u'con_agree_20', u'con_agree_21', u'con_agree_22', u'con_agree_23', u'con_agree_24', u'con_agree_25', u'con_agree_26', u'con_agree_27', u'con_agree_28', u'con_agree_29', u'con_agree_3', u'con_agree_30', u'con_agree_31', u'con_agree_32', u'con_agree_33', u'con_agree_34', u'con_agree_4', u'con_agree_5', u'con_agree_6', u'con_agree_7', u'con_agree_8', u'con_agree_9', u'determined', u'distressed', u'edu', u'ended', u'enthusiastic', u'ethnicity', u'excited', u'fam_income', u'fb_academic', u'fb_academic_comments', u'fb_appearance', u'fb_appearance_comments', u'fb_comments', u'fb_doing', u'fb_doing_comments', u'fb_entertain', u'fb_entertain_comments', u'fb_family', u'fb_family_comments', u'fb_feel', u'fb_feel_comments', u'fb_god', u'fb_god_comments', u'fb_political', u'fb_political_comments', u'fb_where', u'fb_where_comments', u'gender', u'guilty', u'hostile', u'income', u'inspired', u'interested', u'irritable', u'jittery', u'nervous', u'own_URL1', u'own_URL2', u'own_URL3', u'own_form11', u'own_form12', u'own_form21', u'own_form22', u'own_form31', u'own_form32', u'party', u'party0_bond', u'party10_common_avg', u'party11_similar_avg', u'party12_common_oth', u'party13_similar_oth', u'party1_solidarity', u'party2_committed', ...], dtype='object')"
       ]
      }
     ],
     "prompt_number": 63
    },
    {
     "cell_type": "code",
     "collapsed": false,
     "input": [
      "len(all_statuses)"
     ],
     "language": "python",
     "metadata": {},
     "outputs": [
      {
       "metadata": {},
       "output_type": "pyout",
       "prompt_number": 65,
       "text": [
        "145836"
       ]
      }
     ],
     "prompt_number": 65
    },
    {
     "cell_type": "code",
     "collapsed": false,
     "input": [
      "all_statuses[1]"
     ],
     "language": "python",
     "metadata": {},
     "outputs": [
      {
       "metadata": {},
       "output_type": "pyout",
       "prompt_number": 66,
       "text": [
        "{'compound': -0.866, 'neg': 0.512, 'neu': 0.339, 'pos': 0.149}"
       ]
      }
     ],
     "prompt_number": 66
    },
    {
     "cell_type": "code",
     "collapsed": false,
     "input": [
      "k=pd.DataFrame(all_statuses)"
     ],
     "language": "python",
     "metadata": {},
     "outputs": [],
     "prompt_number": 67
    },
    {
     "cell_type": "code",
     "collapsed": false,
     "input": [
      "k.keys()"
     ],
     "language": "python",
     "metadata": {},
     "outputs": [
      {
       "metadata": {},
       "output_type": "pyout",
       "prompt_number": 68,
       "text": [
        "Index([u'compound', u'neg', u'neu', u'pos'], dtype='object')"
       ]
      }
     ],
     "prompt_number": 68
    },
    {
     "cell_type": "code",
     "collapsed": false,
     "input": [
      "k.pos.hist()"
     ],
     "language": "python",
     "metadata": {},
     "outputs": [
      {
       "metadata": {},
       "output_type": "pyout",
       "prompt_number": 69,
       "text": [
        "<matplotlib.axes.AxesSubplot at 0x122e31d0>"
       ]
      }
     ],
     "prompt_number": 69
    },
    {
     "cell_type": "code",
     "collapsed": false,
     "input": [
      "k.neg.hist()"
     ],
     "language": "python",
     "metadata": {},
     "outputs": [
      {
       "metadata": {},
       "output_type": "pyout",
       "prompt_number": 70,
       "text": [
        "<matplotlib.axes.AxesSubplot at 0x12e27908>"
       ]
      }
     ],
     "prompt_number": 70
    },
    {
     "cell_type": "code",
     "collapsed": false,
     "input": [
      "k.neu.hist()"
     ],
     "language": "python",
     "metadata": {},
     "outputs": [
      {
       "metadata": {},
       "output_type": "pyout",
       "prompt_number": 71,
       "text": [
        "<matplotlib.axes.AxesSubplot at 0x10e2ad30>"
       ]
      }
     ],
     "prompt_number": 71
    },
    {
     "cell_type": "code",
     "collapsed": false,
     "input": [
      "k.compound.hist()"
     ],
     "language": "python",
     "metadata": {},
     "outputs": [
      {
       "ename": "AttributeError",
       "evalue": "'function' object has no attribute 'hist'",
       "output_type": "pyerr",
       "traceback": [
        "\u001b[1;31m---------------------------------------------------------------------------\u001b[0m\n\u001b[1;31mAttributeError\u001b[0m                            Traceback (most recent call last)",
        "\u001b[1;32m<ipython-input-72-547493a918e7>\u001b[0m in \u001b[0;36m<module>\u001b[1;34m()\u001b[0m\n\u001b[1;32m----> 1\u001b[1;33m \u001b[0mk\u001b[0m\u001b[1;33m.\u001b[0m\u001b[0mcompound\u001b[0m\u001b[1;33m.\u001b[0m\u001b[0mhist\u001b[0m\u001b[1;33m(\u001b[0m\u001b[1;33m)\u001b[0m\u001b[1;33m\u001b[0m\u001b[0m\n\u001b[0m",
        "\u001b[1;31mAttributeError\u001b[0m: 'function' object has no attribute 'hist'"
       ]
      }
     ],
     "prompt_number": 72
    },
    {
     "cell_type": "code",
     "collapsed": false,
     "input": [
      "k['compound'].hist()"
     ],
     "language": "python",
     "metadata": {},
     "outputs": [
      {
       "metadata": {},
       "output_type": "pyout",
       "prompt_number": 73,
       "text": [
        "<matplotlib.axes.AxesSubplot at 0x10ea53c8>"
       ]
      }
     ],
     "prompt_number": 73
    },
    {
     "cell_type": "code",
     "collapsed": false,
     "input": [
      " survey['fb_vader_neg25']"
     ],
     "language": "python",
     "metadata": {},
     "outputs": [
      {
       "metadata": {},
       "output_type": "pyout",
       "prompt_number": 36,
       "text": [
        "0        0\n",
        "1        0\n",
        "2        0\n",
        "3        0\n",
        "4        0\n",
        "5     None\n",
        "6        0\n",
        "7        0\n",
        "8     None\n",
        "9        0\n",
        "10       0\n",
        "11       0\n",
        "12    None\n",
        "13    None\n",
        "14       0\n",
        "...\n",
        "800    None\n",
        "801    None\n",
        "802    None\n",
        "803    None\n",
        "804       0\n",
        "805    None\n",
        "806       0\n",
        "807    None\n",
        "808       0\n",
        "809       0\n",
        "810    None\n",
        "811       0\n",
        "812       0\n",
        "813    None\n",
        "814       0\n",
        "Name: fb_vader_neg25, Length: 815, dtype: object"
       ]
      }
     ],
     "prompt_number": 36
    },
    {
     "cell_type": "code",
     "collapsed": false,
     "input": [
      "survey.fb_vad_comp25"
     ],
     "language": "python",
     "metadata": {},
     "outputs": [
      {
       "metadata": {},
       "output_type": "pyout",
       "prompt_number": 37,
       "text": [
        "0            0\n",
        "1      -0.2143\n",
        "2            0\n",
        "3    -0.225675\n",
        "4            0\n",
        "5         None\n",
        "6            0\n",
        "7            0\n",
        "8         None\n",
        "9            0\n",
        "10    -0.03815\n",
        "11           0\n",
        "12        None\n",
        "13        None\n",
        "14           0\n",
        "...\n",
        "800    None\n",
        "801    None\n",
        "802    None\n",
        "803    None\n",
        "804       0\n",
        "805    None\n",
        "806       0\n",
        "807    None\n",
        "808       0\n",
        "809       0\n",
        "810    None\n",
        "811       0\n",
        "812       0\n",
        "813    None\n",
        "814       0\n",
        "Name: fb_vad_comp25, Length: 815, dtype: object"
       ]
      }
     ],
     "prompt_number": 37
    },
    {
     "cell_type": "code",
     "collapsed": false,
     "input": [
      "survey.tweet_num.quantile(.25)"
     ],
     "language": "python",
     "metadata": {},
     "outputs": [
      {
       "metadata": {},
       "output_type": "pyout",
       "prompt_number": 43,
       "text": [
        "530.5"
       ]
      }
     ],
     "prompt_number": 43
    },
    {
     "cell_type": "code",
     "collapsed": false,
     "input": [
      "survey.status_num.quantile(.75)"
     ],
     "language": "python",
     "metadata": {},
     "outputs": [
      {
       "metadata": {},
       "output_type": "pyout",
       "prompt_number": 44,
       "text": [
        "323.0"
       ]
      }
     ],
     "prompt_number": 44
    },
    {
     "cell_type": "code",
     "collapsed": false,
     "input": [
      "survey.status_num.quantile(.9999)"
     ],
     "language": "python",
     "metadata": {},
     "outputs": [
      {
       "metadata": {},
       "output_type": "pyout",
       "prompt_number": 50,
       "text": [
        "3908.8657999999205"
       ]
      }
     ],
     "prompt_number": 50
    },
    {
     "cell_type": "code",
     "collapsed": false,
     "input": [
      "survey.status_num.max()"
     ],
     "language": "python",
     "metadata": {},
     "outputs": [
      {
       "metadata": {},
       "output_type": "pyout",
       "prompt_number": 51,
       "text": [
        "4018"
       ]
      }
     ],
     "prompt_number": 51
    },
    {
     "cell_type": "code",
     "collapsed": false,
     "input": [
      "survey.status_num.min()"
     ],
     "language": "python",
     "metadata": {},
     "outputs": [
      {
       "metadata": {},
       "output_type": "pyout",
       "prompt_number": 53,
       "text": [
        "0"
       ]
      }
     ],
     "prompt_number": 53
    },
    {
     "cell_type": "raw",
     "metadata": {},
     "source": [
      "survey.status_num.hist()"
     ]
    },
    {
     "cell_type": "code",
     "collapsed": false,
     "input": [
      "plt.show()"
     ],
     "language": "python",
     "metadata": {},
     "outputs": [
      {
       "ename": "AttributeError",
       "evalue": "'module' object has no attribute 'show'",
       "output_type": "pyerr",
       "traceback": [
        "\u001b[1;31m---------------------------------------------------------------------------\u001b[0m\n\u001b[1;31mAttributeError\u001b[0m                            Traceback (most recent call last)",
        "\u001b[1;32m<ipython-input-57-c4e69632d98a>\u001b[0m in \u001b[0;36m<module>\u001b[1;34m()\u001b[0m\n\u001b[1;32m----> 1\u001b[1;33m \u001b[0mplt\u001b[0m\u001b[1;33m.\u001b[0m\u001b[0mshow\u001b[0m\u001b[1;33m(\u001b[0m\u001b[1;33m)\u001b[0m\u001b[1;33m\u001b[0m\u001b[0m\n\u001b[0m",
        "\u001b[1;31mAttributeError\u001b[0m: 'module' object has no attribute 'show'"
       ]
      }
     ],
     "prompt_number": 57
    },
    {
     "cell_type": "code",
     "collapsed": false,
     "input": [
      "survey.tweet_num.max()"
     ],
     "language": "python",
     "metadata": {},
     "outputs": [
      {
       "metadata": {},
       "output_type": "pyout",
       "prompt_number": 58,
       "text": [
        "3243"
       ]
      }
     ],
     "prompt_number": 58
    },
    {
     "cell_type": "code",
     "collapsed": false,
     "input": [
      "survey.status_num.mean()"
     ],
     "language": "python",
     "metadata": {},
     "outputs": [
      {
       "metadata": {},
       "output_type": "pyout",
       "prompt_number": 59,
       "text": [
        "262.73859649122807"
       ]
      }
     ],
     "prompt_number": 59
    },
    {
     "cell_type": "code",
     "collapsed": false,
     "input": [
      "survey.tweet_num.mean()"
     ],
     "language": "python",
     "metadata": {},
     "outputs": [
      {
       "metadata": {},
       "output_type": "pyout",
       "prompt_number": 60,
       "text": [
        "1802.6638830897703"
       ]
      }
     ],
     "prompt_number": 60
    },
    {
     "cell_type": "code",
     "collapsed": false,
     "input": [
      "'100000092866170'"
     ],
     "language": "python",
     "metadata": {},
     "outputs": []
    }
   ],
   "metadata": {}
  }
 ]
}