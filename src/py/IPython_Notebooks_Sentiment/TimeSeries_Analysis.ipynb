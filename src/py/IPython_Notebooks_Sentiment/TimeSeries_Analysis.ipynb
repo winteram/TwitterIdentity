{
 "metadata": {
  "name": "",
  "signature": "sha256:63aae5793c0855c3aa1051ccc58a6ae848a99af63bfa71bcc9d18c80319b8395"
 },
 "nbformat": 3,
 "nbformat_minor": 0,
 "worksheets": [
  {
   "cells": [
    {
     "cell_type": "code",
     "collapsed": false,
     "input": [
      "import sys, os\n",
      "import pandas as pd\n",
      "import cPickle as pickle\n",
      "import re\n",
      "import numpy as np\n",
      "import scipy \n",
      "from scipy import stats\n",
      "import matplotlib.pyplot as plt\n",
      "import math\n",
      "\n",
      "\n",
      "%matplotlib \n",
      "\n",
      "\n",
      "\n",
      "os.chdir('C:/Users/Asaf/Documents/GitHub/TwitterIdentity/src/py')\n",
      "\n",
      "\n",
      "survey=pd.read_pickle('DataFrames/SurveySentiment')\n",
      "traits=pd.read_pickle('DataFrames/traits')\n",
      "\n",
      "aspects=pd.read_pickle('DataFrames/aspects')"
     ],
     "language": "python",
     "metadata": {},
     "outputs": [
      {
       "output_type": "stream",
       "stream": "stdout",
       "text": [
        "Using matplotlib backend: Qt4Agg\n"
       ]
      }
     ],
     "prompt_number": 1
    },
    {
     "cell_type": "code",
     "collapsed": false,
     "input": [
      "def correlate(df1,df2,dfmain):\n",
      "    temp=dfmain[dfmain[df1].notnull() & dfmain[df2].notnull()]\n",
      "    \n",
      "    return scipy.stats.spearmanr(temp[df1],temp[df2]), len(temp)-2, df1,df2"
     ],
     "language": "python",
     "metadata": {},
     "outputs": [],
     "prompt_number": 2
    },
    {
     "cell_type": "code",
     "collapsed": false,
     "input": [
      "correlate('tw_vader_neg75_b2m', 'tot_affect', survey)"
     ],
     "language": "python",
     "metadata": {},
     "outputs": [
      {
       "metadata": {},
       "output_type": "pyout",
       "prompt_number": 8,
       "text": [
        "((-0.041853565674737941, 0.39623817561781327),\n",
        " 411,\n",
        " 'tw_vader_neg75_b2m',\n",
        " 'tot_affect')"
       ]
      }
     ],
     "prompt_number": 8
    },
    {
     "cell_type": "code",
     "collapsed": false,
     "input": [
      "correlate('tw_vad_comp_b2m', 'tw_vad_comp_b2mc', survey)"
     ],
     "language": "python",
     "metadata": {},
     "outputs": [
      {
       "metadata": {},
       "output_type": "pyout",
       "prompt_number": 9,
       "text": [
        "((0.48202357401241808, 1.047221520319309e-25),\n",
        " 416,\n",
        " 'tw_vad_comp_b2m',\n",
        " 'tw_vad_comp_b2mc')"
       ]
      }
     ],
     "prompt_number": 9
    },
    {
     "cell_type": "code",
     "collapsed": false,
     "input": [
      " "
     ],
     "language": "python",
     "metadata": {},
     "outputs": []
    }
   ],
   "metadata": {}
  }
 ]
}