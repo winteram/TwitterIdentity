{
 "metadata": {
  "name": "",
  "signature": "sha256:3179f188354b636dc7ea3153366771733f5e889b9a600f1f97a285c65b7bb077"
 },
 "nbformat": 3,
 "nbformat_minor": 0,
 "worksheets": [
  {
   "cells": [
    {
     "cell_type": "code",
     "collapsed": false,
     "input": [
      "import os\n",
      "import sys\n",
      "import pymysql\n",
      "import cPickle as pickle\n",
      "import datetime\n",
      "import time\n",
      "import dateutil.parser as dateparser\n",
      "import numpy as np\n",
      "import nltk\n",
      "import re\n",
      "\n",
      "os.chdir('C:/Users/Asaf/Documents/GitHub/TwitterIdentity/src/py')\n",
      "sys.path.append('C:/Users/Asaf/Documents/GitHub/TwitterIdentity/src/py')\n",
      "\n",
      "\n",
      "import pandas as pd\n",
      "survey=pd.read_pickle('DataFrames/SurveySentiment')\n",
      "\n",
      "from vaderSentiment import sentiment as vaderSentiment\n",
      "\n",
      " \n",
      "\n",
      "tw_ids=os.listdir('B:/Twitter_Part')\n",
      "path='B:/Twitter_Part/'\n",
      "error_log=[]\n",
      "\n",
      "all_statuses=[] # take every tweet's sentiment and combine them all. \n",
      "\n",
      "\n",
      "\n",
      "\n"
     ],
     "language": "python",
     "metadata": {},
     "outputs": [],
     "prompt_number": 2
    },
    {
     "cell_type": "code",
     "collapsed": false,
     "input": [
      "def GenScores(score_list, name, current_id):\n",
      "    \n",
      "  \n",
      "    print 'starting block'\n",
      "    pos_mdn=np.median([i['pos'] for i in score_list])\n",
      "    neg_mdn=np.median([i['neg'] for i in score_list])\n",
      "    comp_mdn=np.median([i['compound'] for i in score_list])\n",
      "\n",
      "\n",
      "    pos=np.mean([i['pos'] for i in score_list])\n",
      "    neg=np.mean([i['neg'] for i in score_list])\n",
      "    comp=np.mean([i['compound'] for i in score_list])\n",
      "\n",
      "\n",
      "    pos75=np.percentile([i['pos'] for i in score_list],75)\n",
      "    neg75=np.percentile([i['neg'] for i in score_list],75)\n",
      "    comp75=np.percentile([i['compound'] for i in score_list],75)\n",
      "\n",
      "    #Record number of posts for a given window\n",
      "\n",
      "    colname='tw_'+name+'_len'\n",
      "    survey[colname][survey.Twitid==current_id]=len(score_list) \n",
      "\n",
      "    #Set score for median of vader positive\n",
      "    colname='tw_vader_pos_mdn_' + name\n",
      "    survey[colname][survey.Twitid==current_id]=pos_mdn\n",
      "\n",
      "    #Set score for median vader negative\n",
      "\n",
      "    colname='tw_vader_neg_mdn_' + name\n",
      "    survey[colname][survey.Twitid==current_id]=neg_mdn\n",
      "\n",
      "    #Set score for median vader composite\n",
      "\n",
      "    colname='tw_vad_comp_mdn_' + name\n",
      "    survey[colname][survey.Twitid==current_id]=comp_mdn\n",
      "\n",
      "    #Set score for mean vader positive\n",
      "\n",
      "    colname='tw_vader_pos_' + name \n",
      "    survey[colname][survey.Twitid==current_id]=pos\n",
      "\n",
      "    #set score for mean vader negative\n",
      "\n",
      "    colname='tw_vader_neg_' + name\n",
      "    survey[colname][survey.Twitid==current_id]=neg\n",
      "\n",
      "    #Set score for mean comp\n",
      "    colname='tw_vad_comp_' + name\n",
      "    survey[colname][survey.Twitid==current_id]=comp\n",
      "\n",
      "    #Set score for positive 75th percentile\n",
      "    colname='tw_vader_pos75_' + name\n",
      "    survey[colname][survey.Twitid==current_id]=pos75\n",
      "\n",
      "    #Set score for negative 75th percentile\n",
      "\n",
      "    colname='tw_vader_neg75_' + name\n",
      "    survey[colname][survey.Twitid==current_id]=neg75\n",
      "\n",
      "    #Set score for composite 75th percentile\n",
      "    colname='tw_vad_comp75_' + name\n",
      "    survey[colname][survey.Twitid==current_id]=comp75"
     ],
     "language": "python",
     "metadata": {},
     "outputs": [],
     "prompt_number": 3
    },
    {
     "cell_type": "code",
     "collapsed": false,
     "input": [
      "def TimedList(full_list, lower, upper, window_name, current_id):\n",
      "    \n",
      "    windowed=[i for i in full_list if i['time_sec'] > int(lower) and i['time_sec'] < int(upper)]\n",
      "    if len(windowed) != 0:\n",
      "        GenScores(windowed, window_name, current_id)"
     ],
     "language": "python",
     "metadata": {},
     "outputs": [],
     "prompt_number": 4
    },
    {
     "cell_type": "code",
     "collapsed": false,
     "input": [
      "\n",
      "error_log=[]\n",
      "for j in tw_ids:\n",
      "    \n",
      "    sent_statuses=[]\n",
      "    filename=path+str(j)+'/tweets'\n",
      "    to_store=path+str(j)+'/tweets_sentiment_time'\n",
      "    \n",
      "    try:\n",
      "        \n",
      "        z=pickle.load(open(filename))\n",
      "        sent_path=path+str(j)+'/vader_sent'\n",
      "        for status in z:\n",
      "\n",
      "            if 'text' in status.keys():\n",
      "\n",
      "                if status['text'] != 'None':\n",
      "\n",
      "\n",
      "                    message=status['text'].encode('utf-8')\n",
      "                    sent = vaderSentiment(message)\n",
      "\n",
      "\n",
      "                    time_norm=status['created_at']\n",
      "                    time_date=dateparser.parse(status['created_at'])\n",
      "                    time_sec=time.mktime(time_date.timetuple())\n",
      "                    sent['time_sec']=time_sec\n",
      "                    sent_statuses.append(sent)\n",
      "            pickle.dump(sent_statuses, open(to_store, 'wb'))\n",
      "        print 'getting to subsetting and timing'\n",
      "\n",
      "        survey_intermed=survey[survey.Twitid==j] # This is the time, in seconds when each person took the survey\n",
      "        survey_med1=survey_intermed.ended_sec.tolist()\n",
      "        survey_time=survey_med1[0]\n",
      "        week1 =604800\n",
      "        week2= 2*week1\n",
      "        week3=week2+week1\n",
      "        month=2592000\n",
      "        month2=2*month\n",
      "        month6=6*month\n",
      "        year=12*month\n",
      "        year2=year*2\n",
      "\n",
      "\n",
      "        #Actually, it's best to create a function here, as opposed to 11 different list comprehensions where there is a good probability\n",
      "        #of messing one of them up and not seeing it as an error.\n",
      "\n",
      "        #Now, I'm going to generate all the time windows, then make a loop that calls function, TimedList, which should do all the work\n",
      "\n",
      "        pm1w=(survey_time - week1, survey_time + week1, 'pm1w') # One week before and after taking the survey\n",
      "        pm2w=(survey_time - week2, survey_time + week2, 'pm2w') # Two weeks before and after\n",
      "        pm3w=(survey_time - week3, survey_time + week3, 'pm3w') # weeks\n",
      "        b1m=(survey_time - month, survey_time, 'b1m') # One month before\n",
      "        b1mc=(survey_time - month2, survey_time - month, 'b1mc') # Comparison, one month before the first month\n",
      "        b2m=(survey_time - month2, survey_time, 'b2m') # Two months before\n",
      "        b2mc=(survey_time - (month2 *2), survey_time - month2, 'b2mc') # Comparison, two months before the first two months. \n",
      "        b6m=(survey_time - month6, survey_time, 'b6m') # Six months before\n",
      "        b6mc=(survey_time - year, survey_time - month6, 'b6mc') # Comparison\n",
      "        b1y=(survey_time - year, survey_time, 'b1y') # One year before\n",
      "        b1yc=(survey_time - year2, survey_time - year, 'b1yc' ) # Comparison for the year. \n",
      "\n",
      "\n",
      "\n",
      "        window_vars=[pm1w, pm2w, pm3w, b1m, b1mc, b2m, b2mc, b6m, b6mc, b1y, b1yc]\n",
      "\n",
      "\n",
      "        for i in window_vars:\n",
      "            print 'iteration in time_list_loop'\n",
      "            TimedList(sent_statuses,i[0], i[1], i[2], j)\n",
      "        print 'Complete'\n",
      "    \n",
      "    \n",
      "   \n",
      "      \n",
      "    except Exception, e:\n",
      "        error_log.append(j)\n",
      "        print e\n",
      "\n",
      "                    \n"
     ],
     "language": "python",
     "metadata": {},
     "outputs": [],
     "prompt_number": 9
    },
    {
     "cell_type": "code",
     "collapsed": false,
     "input": [
      "print 'i like dogs'"
     ],
     "language": "python",
     "metadata": {},
     "outputs": [],
     "prompt_number": 14
    },
    {
     "cell_type": "code",
     "collapsed": false,
     "input": [
      "time_date=dateparser.parse(q)"
     ],
     "language": "python",
     "metadata": {},
     "outputs": [],
     "prompt_number": 10
    },
    {
     "cell_type": "code",
     "collapsed": false,
     "input": [
      "time_date"
     ],
     "language": "python",
     "metadata": {},
     "outputs": [
      {
       "metadata": {},
       "output_type": "pyout",
       "prompt_number": 11,
       "text": [
        "datetime.datetime(2014, 9, 4, 4, 28, 45, tzinfo=tzutc())"
       ]
      }
     ],
     "prompt_number": 11
    },
    {
     "cell_type": "code",
     "collapsed": false,
     "input": [
      "survey.tw_vad_comp75_b1m\n"
     ],
     "language": "python",
     "metadata": {},
     "outputs": [
      {
       "metadata": {},
       "output_type": "pyout",
       "prompt_number": 10,
       "text": [
        "0         None\n",
        "1         None\n",
        "2       0.4939\n",
        "3         None\n",
        "4       0.4215\n",
        "5         None\n",
        "6       0.5949\n",
        "7      0.41995\n",
        "8         0.34\n",
        "9         None\n",
        "10           0\n",
        "11        None\n",
        "12    0.408325\n",
        "13           0\n",
        "14     0.63365\n",
        "...\n",
        "800        None\n",
        "801        None\n",
        "802      0.3406\n",
        "803    0.435675\n",
        "804      0.4588\n",
        "805        0.34\n",
        "806        None\n",
        "807      0.4019\n",
        "808        None\n",
        "809        None\n",
        "810        None\n",
        "811      0.5994\n",
        "812    0.127125\n",
        "813      0.4166\n",
        "814      0.5917\n",
        "Name: tw_vad_comp75_b1m, Length: 815, dtype: object"
       ]
      }
     ],
     "prompt_number": 10
    },
    {
     "cell_type": "code",
     "collapsed": false,
     "input": [
      "len(survey.tw_vad_comp.dropna())"
     ],
     "language": "python",
     "metadata": {},
     "outputs": [
      {
       "metadata": {},
       "output_type": "pyout",
       "prompt_number": 11,
       "text": [
        "479"
       ]
      }
     ],
     "prompt_number": 11
    },
    {
     "cell_type": "code",
     "collapsed": false,
     "input": [
      "len(survey.tw_vad_comp_b1y.dropna())"
     ],
     "language": "python",
     "metadata": {},
     "outputs": [
      {
       "metadata": {},
       "output_type": "pyout",
       "prompt_number": 12,
       "text": [
        "462"
       ]
      }
     ],
     "prompt_number": 12
    },
    {
     "cell_type": "code",
     "collapsed": false,
     "input": [
      "pickle.dump(survey,open('DataFrames/SurveySentiment', 'wb'))\n"
     ],
     "language": "python",
     "metadata": {},
     "outputs": [],
     "prompt_number": 13
    },
    {
     "cell_type": "code",
     "collapsed": false,
     "input": [
      "  "
     ],
     "language": "python",
     "metadata": {},
     "outputs": []
    }
   ],
   "metadata": {}
  }
 ]
}