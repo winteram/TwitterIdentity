{
 "metadata": {
  "name": "",
  "signature": "sha256:9be2a517fed97d20f590999f6079ac25ab6368eee7fe690d0222cadfca69d4f9"
 },
 "nbformat": 3,
 "nbformat_minor": 0,
 "worksheets": [
  {
   "cells": [
    {
     "cell_type": "code",
     "collapsed": false,
     "input": [
      "import os\n",
      "import pymysql\n",
      "import cPickle as pickle\n",
      "import datetime\n",
      "import time\n",
      "import dateutil.parser as dateparser\n",
      "import numpy as np\n",
      "\n",
      "os.chdir('C:/Users/Asaf/Documents/GitHub/TwitterIdentity/src/py')\n"
     ],
     "language": "python",
     "metadata": {},
     "outputs": [],
     "prompt_number": 29
    },
    {
     "cell_type": "code",
     "collapsed": false,
     "input": [
      "import pandas as pd\n",
      "survey=pd.read_pickle('DataFrames/SurveySentiment')\n",
      "from vaderSentiment import sentiment as vaderSentiment"
     ],
     "language": "python",
     "metadata": {},
     "outputs": [],
     "prompt_number": 2
    },
    {
     "cell_type": "code",
     "collapsed": false,
     "input": [
      "\n",
      "all_files=[]\n",
      "\n",
      "\n",
      "path= 'B:/Participants/'"
     ],
     "language": "python",
     "metadata": {},
     "outputs": [],
     "prompt_number": 8
    },
    {
     "cell_type": "code",
     "collapsed": false,
     "input": [
      "for i in survey['FBid']:\n",
      "    path_full=path+i+'/statuses'\n",
      "    \n",
      "    if os.path.exists(path_full):\n",
      "        all_files.append(path_full)"
     ],
     "language": "python",
     "metadata": {},
     "outputs": [],
     "prompt_number": 9
    },
    {
     "cell_type": "code",
     "collapsed": false,
     "input": [
      "z=pickle.load(open(all_files[1]))"
     ],
     "language": "python",
     "metadata": {},
     "outputs": [],
     "prompt_number": 27
    },
    {
     "cell_type": "code",
     "collapsed": false,
     "input": [
      "#Checking to make sure all statuses are from the same person. Phew... Yes, they are.\n",
      "\n",
      "z[0]['data'][1].keys()\n",
      "\n",
      "for i in z:\n",
      "    for k in i['data']:\n",
      "       "
     ],
     "language": "python",
     "metadata": {},
     "outputs": [
      {
       "ename": "IndentationError",
       "evalue": "expected an indented block (<ipython-input-28-f088a1925e4e>, line 7)",
       "output_type": "pyerr",
       "traceback": [
        "\u001b[1;36m  File \u001b[1;32m\"<ipython-input-28-f088a1925e4e>\"\u001b[1;36m, line \u001b[1;32m7\u001b[0m\n\u001b[1;33m    \u001b[0m\n\u001b[1;37m    ^\u001b[0m\n\u001b[1;31mIndentationError\u001b[0m\u001b[1;31m:\u001b[0m expected an indented block\n"
       ]
      }
     ],
     "prompt_number": 28
    },
    {
     "cell_type": "code",
     "collapsed": false,
     "input": [
      "#First let's initialize the columns that will house temporally related Vader Scores\n",
      "\n",
      "#First, there are the set of scores we want to include\n",
      "\n",
      "scores1=['tw_vader_pos',\n",
      " 'tw_vader_neg',\n",
      " 'tw_vad_comp',\n",
      " 'fb_vader_pos',\n",
      " 'fb_vader_neg',\n",
      " 'fb_vad_comp',\n",
      " 'fb_vader_pos_mdn',\n",
      " 'fb_vader_neg_mdn',\n",
      " 'fb_vad_comp_mdn',\n",
      " 'tw_vader_pos_mdn',\n",
      " 'tw_vader_neg_mdn',\n",
      " 'tw_vad_comp_mdn',\n",
      " 'fb_vader_pos75',\n",
      " 'fb_vader_neg75',\n",
      " 'fb_vad_comp75',\n",
      " 'tw_vader_pos75',\n",
      " 'tw_vader_neg75',\n",
      " 'tw_vad_comp75'\n",
      " ]\n",
      "\n",
      "#Next, there are the timewindows\n",
      "\n",
      "windows=['pm1w','pm2w','pm3w','b1m','b1mc','b2m','b2mc', 'b6m', 'b6mc', 'b1y','b1yc']\n",
      "z=[]\n",
      "for i in scores1:\n",
      "    for j in windows:\n",
      "        name=i+'_'+j\n",
      "        survey[name]=None\n",
      "\n",
      "#Now stuff is initialized. \n",
      "\n",
      "#Next, I should create new column that is the time ended, when people finished the survey, in seconds\n",
      "\n",
      "survey['ended_sec']=None\n",
      "\n",
      "for i,j in enumerate(survey.ended):\n",
      "    z=time.mktime(j.timetuple())\n",
      "    survey['ended_sec'][i]=z\n",
      "\n",
      "media=['tw_','fb_']\n",
      "\n",
      "for window in windows:\n",
      "    for platform in media:\n",
      "        name= platform + window + '_len'\n",
      "        survey[name]=None\n",
      "       \n",
      "#Now we have a new column, ended_sec, which has the time in seconds. \n",
      "\n",
      "\n",
      "#Okay, columns are all initialized. Now I need to write a loop, that scores these 198 things. I need to know how many seconds I need\n",
      "# to add or subtract for the time spans\n",
      "\n",
      "#Need to know how I scored mdn, and percentiles using numpy\n",
      "\n",
      "#What will the general loop like?\n",
      "\n",
      "'''\n",
      "Start by grabbing a list from everyone that is their vader scores, with time in seconds for all of their posts. Just like we have below\n",
      "-Know the person's id- just like we have below\n",
      "\n",
      "-Calculate the 99 scores for each person. \n",
      "\n",
      "We have the 11 time windows- get these in seconds- probably just easiest to do 11 list comprehensions- give these variable names\n",
      "\n",
      "It will look something like this:\n",
      "\n",
      "Different strategy- Make a functio that does the nine scores- it takes in the appropriate list- with an ending label\n",
      "\n",
      "def GenScores(score_list, listname):\n",
      "    score_list_neg=[i['negative] for i in score_list]\n",
      "    mean_neg=np.mean(score_list_neg)\n",
      "    mean_pos=\n",
      "    mean_comp=\n",
      "    \n",
      "\n",
      "\n",
      "\n",
      "\n",
      "for i in scores1:\n",
      "    name= scores1+'_'+'pm1w'\n",
      "    #remember we eventually want each entry to be a tuple- with the number of statuses included\n",
      "    #assume we have all scores in a list, time stamped, call it all_status_score\n",
      "    \n",
      "    #pull out some stuff\n",
      "    ended_time #ended time in seconds for current participant\n",
      "     \n",
      "    list_in_window=[i for i in all_status_scores if i['time_sec'] > ]\n",
      "    \n",
      "    survey[name][survey=currentId]=[]\n",
      "\n",
      "\n",
      "\n",
      "'''\n"
     ],
     "language": "python",
     "metadata": {},
     "outputs": [
      {
       "metadata": {},
       "output_type": "pyout",
       "prompt_number": 32,
       "text": [
        "\"\\nStart by grabbing a list from everyone that is their vader scores, with time in seconds for all of their posts. Just like we have below\\n-Know the person's id- just like we have below\\n\\n-Calculate the 99 scores for each person. \\n\\nWe have the 11 time windows- get these in seconds- probably just easiest to do 11 list comprehensions- give these variable names\\n\\nIt will look something like this:\\n\\nDifferent strategy- Make a functio that does the nine scores- it takes in the appropriate list- with an ending label\\n\\ndef GenScores(score_list, listname):\\n    score_list_neg=[i['negative] for i in score_list]\\n    mean_neg=np.mean(score_list_neg)\\n    mean_pos=\\n    mean_comp=\\n    \\n\\n\\n\\n\\nfor i in scores1:\\n    name= scores1+'_'+'pm1w'\\n    #remember we eventually want each entry to be a tuple- with the number of statuses included\\n    #assume we have all scores in a list, time stamped, call it all_status_score\\n    \\n    #pull out some stuff\\n    ended_time #ended time in seconds for current participant\\n     \\n    list_in_window=[i for i in all_status_scores if i['time_sec'] > ]\\n    \\n    survey[name][survey=currentId]=[]\\n\\n\\n\\n\""
       ]
      }
     ],
     "prompt_number": 32
    },
    {
     "cell_type": "code",
     "collapsed": false,
     "input": [
      "  #Here is the function I will use to generate respective scores, and store them for each time window\n",
      "#score_list =    list with entries from a certain time window, name= the name of that list \n",
      "def GenScores(score_list, name, current_id):\n",
      "    \n",
      "    \n",
      "    pos_mdn=np.median([i['pos'] for i in score_list])\n",
      "    neg_mdn=np.median([i['neg'] for i in score_list])\n",
      "    comp_mdn=np.median([i['compound'] for i in score_list])\n",
      "    \n",
      "    pos=np.mean([i['pos'] for i in score_list])\n",
      "    neg=np.mean([i['neg'] for i in score_list])\n",
      "    comp=np.mean([i['compound'] for i in score_list])\n",
      "    \n",
      "    pos75=np.percentile([i['pos'] for i in score_list],75)\n",
      "    neg75=np.percentile([i['neg'] for i in score_list],75)\n",
      "    comp75=np.percentile([i['compound'] for i in score_list],75)\n",
      "    \n",
      "    #Record number of posts for a given window\n",
      "    \n",
      "    colname='fb_'+name+'_len'\n",
      "    survey[colname][survey.FBid==current_id]=len(score_list) \n",
      "    \n",
      "    #Set score for median of vader positive\n",
      "    colname='fb_vader_pos_mdn_' + name\n",
      "    survey[colname][survey.FBid==current_id]=pos_mdn\n",
      "    \n",
      "    #Set score for median vader negative\n",
      "    \n",
      "    colname='fb_vader_neg_mdn_' + name\n",
      "    survey[colname][survey.FBid==current_id]=neg_mdn\n",
      "    \n",
      "    #Set score for median vader composite\n",
      "    \n",
      "    colname='fb_vad_comp_mdn_' + name\n",
      "    survey[colname][survey.FBid==current_id]=comp_mdn\n",
      "    \n",
      "    #Set score for mean vader positive\n",
      "    \n",
      "    colname='fb_vader_pos_' + name \n",
      "    survey[colname][survey.FBid==current_id]=pos\n",
      "    \n",
      "    #set score for mean vader negative\n",
      "    \n",
      "    colname='fb_vader_neg_' + name\n",
      "    survey[colname][survey.FBid==current_id]=neg\n",
      "    \n",
      "    #Set score for mean comp\n",
      "    colname='fb_vad_comp_' + name\n",
      "    survey[colname][survey.FBid==current_id]=comp\n",
      "    \n",
      "    #Set score for positive 75th percentile\n",
      "    colname='fb_vader_pos75_' + name\n",
      "    survey[colname][survey.FBid==current_id]=pos75\n",
      "    \n",
      "    #Set score for negative 75th percentile\n",
      "    \n",
      "    colname='fb_vader_neg75_' + name\n",
      "    survey[colname][survey.FBid==current_id]=neg75\n",
      "    \n",
      "    #Set score for composite 75th percentile\n",
      "    colname='fb_vad_comp75_' + name\n",
      "    survey[colname][survey.FBid==current_id]=comp75\n",
      "    "
     ],
     "language": "python",
     "metadata": {},
     "outputs": [],
     "prompt_number": 37
    },
    {
     "cell_type": "code",
     "collapsed": false,
     "input": [
      "#Function for generating list of scores within a certain time window- inputs are the range of times\n",
      "\n",
      "#full_list= all of someone's statuses, lower= \n",
      "\n",
      "def TimedList(full_list, lower, upper, window_name, current_id):\n",
      "    windowed=[i for i in full_list if i['time_sec'] in range(int(lower), int(upper))]\n",
      "    if len(windowed) != 0:\n",
      "        GenScores(windowed, window_name, current_id)\n",
      "        \n",
      "    \n",
      "    \n",
      "    "
     ],
     "language": "python",
     "metadata": {},
     "outputs": [],
     "prompt_number": 24
    },
    {
     "cell_type": "code",
     "collapsed": false,
     "input": [
      "import dateutil.parser as dateparser\n",
      "import nltk\n",
      "import re\n",
      "\n",
      "error_log=[]\n",
      "all_statuses=[]\n",
      "message_list=[]\n",
      "\n",
      "#Here is where the real sentiment analysis begins.\n",
      "for file_name in all_files[0:1]:\n",
      "    \n",
      "\n",
      "    \n",
      "\n",
      "\n",
      "    z=pickle.load(open(file_name))\n",
      "    # I took out the bit about opening as a binary, it doesn't work some files, and it screws up the the indexing\n",
      "    #basically it adds an /r to the end of keys, which makes it more cumbersome. \n",
      "    #Now we want to pull out the all out each status for each person, and then look at the stentiment for that status.\n",
      "    #We also want to store the sentiments for each person in another pickle file. This way later we can look at distributions and stuff\n",
      "    #for each person initilize a new list that will be the sentiment for all their status\n",
      "    status_sent=[]\n",
      "    temp=re.findall(r'\\d+',file_name)\n",
      "    sent_path='B:/Participants/'+temp[0]+'/status_sentiment_time'\n",
      "\n",
      "    for status_set in z:\n",
      "        for status_list in status_set['data']:\n",
      "            if 'message' in status_list.keys():\n",
      "                    msg=status_list['message'].encode('utf-8')\n",
      "                    sent = vaderSentiment(msg)\n",
      "                    time_norm=status_list['updated_time']\n",
      "                    time_date=dateparser.parse(status_list['updated_time'])\n",
      "                    time_sec=time.mktime(time_date.timetuple())\n",
      "\n",
      "                    sent['time_sec']=time_sec\n",
      "\n",
      "                    status_sent.append(sent)\n",
      "    #pickle status_sent somewhere\n",
      "    pickle.dump( status_sent, open(sent_path, 'wb'))\n",
      "\n",
      "                    \n",
      "    #now we need to create the 11 time conditions using a list comprehensions. Each time we call the functio that\n",
      "    \n",
      "    #First the one for plus and minus 1 week, 'pm1w'\n",
      "    \n",
      "    survey_intermed=survey[survey.FBid==temp[0]] # This is the time, in seconds when each person took the survey\n",
      "    survey_med1=survey_intermed.ended_sec.tolist()\n",
      "    survey_time=survey_med1[0]\n",
      "    week1 =604800\n",
      "    week2= 2*week1\n",
      "    week3=week2+week1\n",
      "    month=2592000\n",
      "    month2=2*month\n",
      "    month6=6*month\n",
      "    year=12*month\n",
      "    year2=year*2\n",
      "\n",
      "    \n",
      "    #Actually, it's best to create a function here, as opposed to 11 different list comprehensions where there is a good probability\n",
      "    #of messing one of them up and not seeing it as an error.\n",
      "    \n",
      "    #Now, I'm going to generate all the time windows, then make a loop that calls function, TimedList, which should do all the work\n",
      "    \n",
      "    pm1w=(survey_time - week1, survey_time + week1, 'pm1w') # One week before and after taking the survey\n",
      "    pm2w=(survey_time - week2, survey_time + week2, 'pm2w') # Two weeks before and after\n",
      "    pm3w=(survey_time - week3, survey_time + week3, 'pm3w') # weeks\n",
      "    b1m=(survey_time - month, survey_time, 'b1m') # One month before\n",
      "    b1mc=(survey_time - month2, survey_time - month, 'b1mc') # Comparison, one month before the first month\n",
      "    b2m=(survey_time - month2, survey_time, 'b2m') # Two months before\n",
      "    b2mc=(survey_time - (month2 *2), survey_time - month2, 'b2mc') # Comparison, two months before the first two months. \n",
      "    b6m=(survey_time - month6, survey_time, 'b6m') # Six months before\n",
      "    b6mc=(survey_time - year, survey_time - month6, 'b6mc') # Comparison\n",
      "    b1y=(survey_time - year, survey_time, 'b1y') # One year before\n",
      "    b1yc=(survey_time - year2, survey_time - year, 'b1yc' ) # Comparison for the year. \n",
      "    \n",
      "\n",
      "    \n",
      "    window_vars=[pm1w, pm2w, pm3w, b1m, b1mc, b2m, b2mc, b6m, b6mc, b1y, b1yc]\n",
      "    \n",
      "    for i in window_vars:\n",
      "        TimedList(status_sent,i[0], i[1], i[2], temp[0])\n",
      "        \n",
      "\n",
      "\n",
      "        \n",
      "                        \n",
      "                        \n",
      "                      \n",
      "\n",
      "                        \n",
      "                       \n",
      "                        \n",
      "\n",
      "\n",
      "        #We're just talking about means.\n",
      "        \n",
      "   \n",
      "\n",
      "    '''        \n",
      "        \n",
      "    except Exception, e:\n",
      "        error_log.append(file_name)\n",
      "        print e\n",
      "        '''\n"
     ],
     "language": "python",
     "metadata": {},
     "outputs": [],
     "prompt_number": 38
    },
    {
     "cell_type": "code",
     "collapsed": false,
     "input": [
      "z=[i for i in status_sent if i['time_sec'] in range(1,10000)]"
     ],
     "language": "python",
     "metadata": {},
     "outputs": [],
     "prompt_number": 39
    },
    {
     "cell_type": "code",
     "collapsed": false,
     "input": [
      "survey_intermed=survey[survey.FBid==temp[0]]\n"
     ],
     "language": "python",
     "metadata": {},
     "outputs": [],
     "prompt_number": 40
    },
    {
     "cell_type": "code",
     "collapsed": false,
     "input": [
      "temp[0]"
     ],
     "language": "python",
     "metadata": {},
     "outputs": [
      {
       "metadata": {},
       "output_type": "pyout",
       "prompt_number": 41,
       "text": [
        "'659724965'"
       ]
      }
     ],
     "prompt_number": 41
    },
    {
     "cell_type": "code",
     "collapsed": false,
     "input": [
      "survey_intermed.fb_vad_comp_b1yc"
     ],
     "language": "python",
     "metadata": {},
     "outputs": [
      {
       "metadata": {},
       "output_type": "pyout",
       "prompt_number": 42,
       "text": [
        "0    0.5255\n",
        "Name: fb_vad_comp_b1yc, dtype: object"
       ]
      }
     ],
     "prompt_number": 42
    },
    {
     "cell_type": "code",
     "collapsed": false,
     "input": [
      "int(1.5)"
     ],
     "language": "python",
     "metadata": {},
     "outputs": [
      {
       "metadata": {},
       "output_type": "pyout",
       "prompt_number": 19,
       "text": [
        "1"
       ]
      }
     ],
     "prompt_number": 19
    },
    {
     "cell_type": "code",
     "collapsed": false,
     "input": [
      "int(1.6)"
     ],
     "language": "python",
     "metadata": {},
     "outputs": [
      {
       "metadata": {},
       "output_type": "pyout",
       "prompt_number": 20,
       "text": [
        "1"
       ]
      }
     ],
     "prompt_number": 20
    },
    {
     "cell_type": "code",
     "collapsed": false,
     "input": [],
     "language": "python",
     "metadata": {},
     "outputs": []
    }
   ],
   "metadata": {}
  }
 ]
}